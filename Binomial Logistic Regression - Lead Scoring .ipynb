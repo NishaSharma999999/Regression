{
 "cells": [
  {
   "cell_type": "markdown",
   "id": "b9e8645e",
   "metadata": {},
   "source": [
    "## Importing libraries "
   ]
  },
  {
   "cell_type": "code",
   "execution_count": 1,
   "id": "08df7c32",
   "metadata": {},
   "outputs": [],
   "source": [
    "import pandas as pd\n",
    "import numpy as np \n",
    "import matplotlib.pyplot as plt\n",
    "import seaborn as sns\n",
    "import warnings\n",
    "warnings.filterwarnings('ignore')\n",
    "import statsmodels.api as sm\n",
    "from sklearn.linear_model import LogisticRegression\n",
    "from sklearn.feature_selection import RFE\n",
    "from sklearn.model_selection import train_test_split\n",
    "from sklearn import metrics\n",
    "from statsmodels.stats.outliers_influence import variance_inflation_factor"
   ]
  },
  {
   "cell_type": "markdown",
   "id": "d95e7a00",
   "metadata": {},
   "source": [
    "\n",
    "# Data Understanding and Analysing "
   ]
  },
  {
   "cell_type": "code",
   "execution_count": 2,
   "id": "c6b08acf",
   "metadata": {},
   "outputs": [
    {
     "data": {
      "text/html": [
       "<div>\n",
       "<style scoped>\n",
       "    .dataframe tbody tr th:only-of-type {\n",
       "        vertical-align: middle;\n",
       "    }\n",
       "\n",
       "    .dataframe tbody tr th {\n",
       "        vertical-align: top;\n",
       "    }\n",
       "\n",
       "    .dataframe thead th {\n",
       "        text-align: right;\n",
       "    }\n",
       "</style>\n",
       "<table border=\"1\" class=\"dataframe\">\n",
       "  <thead>\n",
       "    <tr style=\"text-align: right;\">\n",
       "      <th></th>\n",
       "      <th>Prospect ID</th>\n",
       "      <th>Lead Number</th>\n",
       "      <th>Lead Origin</th>\n",
       "      <th>Lead Source</th>\n",
       "      <th>Do Not Email</th>\n",
       "      <th>Do Not Call</th>\n",
       "      <th>Converted</th>\n",
       "      <th>TotalVisits</th>\n",
       "      <th>Total Time Spent on Website</th>\n",
       "      <th>Page Views Per Visit</th>\n",
       "      <th>...</th>\n",
       "      <th>Get updates on DM Content</th>\n",
       "      <th>Lead Profile</th>\n",
       "      <th>City</th>\n",
       "      <th>Asymmetrique Activity Index</th>\n",
       "      <th>Asymmetrique Profile Index</th>\n",
       "      <th>Asymmetrique Activity Score</th>\n",
       "      <th>Asymmetrique Profile Score</th>\n",
       "      <th>I agree to pay the amount through cheque</th>\n",
       "      <th>A free copy of Mastering The Interview</th>\n",
       "      <th>Last Notable Activity</th>\n",
       "    </tr>\n",
       "  </thead>\n",
       "  <tbody>\n",
       "    <tr>\n",
       "      <th>0</th>\n",
       "      <td>7927b2df-8bba-4d29-b9a2-b6e0beafe620</td>\n",
       "      <td>660737</td>\n",
       "      <td>API</td>\n",
       "      <td>Olark Chat</td>\n",
       "      <td>No</td>\n",
       "      <td>No</td>\n",
       "      <td>0</td>\n",
       "      <td>0.0</td>\n",
       "      <td>0</td>\n",
       "      <td>0.0</td>\n",
       "      <td>...</td>\n",
       "      <td>No</td>\n",
       "      <td>Select</td>\n",
       "      <td>Select</td>\n",
       "      <td>02.Medium</td>\n",
       "      <td>02.Medium</td>\n",
       "      <td>15.0</td>\n",
       "      <td>15.0</td>\n",
       "      <td>No</td>\n",
       "      <td>No</td>\n",
       "      <td>Modified</td>\n",
       "    </tr>\n",
       "    <tr>\n",
       "      <th>1</th>\n",
       "      <td>2a272436-5132-4136-86fa-dcc88c88f482</td>\n",
       "      <td>660728</td>\n",
       "      <td>API</td>\n",
       "      <td>Organic Search</td>\n",
       "      <td>No</td>\n",
       "      <td>No</td>\n",
       "      <td>0</td>\n",
       "      <td>5.0</td>\n",
       "      <td>674</td>\n",
       "      <td>2.5</td>\n",
       "      <td>...</td>\n",
       "      <td>No</td>\n",
       "      <td>Select</td>\n",
       "      <td>Select</td>\n",
       "      <td>02.Medium</td>\n",
       "      <td>02.Medium</td>\n",
       "      <td>15.0</td>\n",
       "      <td>15.0</td>\n",
       "      <td>No</td>\n",
       "      <td>No</td>\n",
       "      <td>Email Opened</td>\n",
       "    </tr>\n",
       "    <tr>\n",
       "      <th>2</th>\n",
       "      <td>8cc8c611-a219-4f35-ad23-fdfd2656bd8a</td>\n",
       "      <td>660727</td>\n",
       "      <td>Landing Page Submission</td>\n",
       "      <td>Direct Traffic</td>\n",
       "      <td>No</td>\n",
       "      <td>No</td>\n",
       "      <td>1</td>\n",
       "      <td>2.0</td>\n",
       "      <td>1532</td>\n",
       "      <td>2.0</td>\n",
       "      <td>...</td>\n",
       "      <td>No</td>\n",
       "      <td>Potential Lead</td>\n",
       "      <td>Mumbai</td>\n",
       "      <td>02.Medium</td>\n",
       "      <td>01.High</td>\n",
       "      <td>14.0</td>\n",
       "      <td>20.0</td>\n",
       "      <td>No</td>\n",
       "      <td>Yes</td>\n",
       "      <td>Email Opened</td>\n",
       "    </tr>\n",
       "    <tr>\n",
       "      <th>3</th>\n",
       "      <td>0cc2df48-7cf4-4e39-9de9-19797f9b38cc</td>\n",
       "      <td>660719</td>\n",
       "      <td>Landing Page Submission</td>\n",
       "      <td>Direct Traffic</td>\n",
       "      <td>No</td>\n",
       "      <td>No</td>\n",
       "      <td>0</td>\n",
       "      <td>1.0</td>\n",
       "      <td>305</td>\n",
       "      <td>1.0</td>\n",
       "      <td>...</td>\n",
       "      <td>No</td>\n",
       "      <td>Select</td>\n",
       "      <td>Mumbai</td>\n",
       "      <td>02.Medium</td>\n",
       "      <td>01.High</td>\n",
       "      <td>13.0</td>\n",
       "      <td>17.0</td>\n",
       "      <td>No</td>\n",
       "      <td>No</td>\n",
       "      <td>Modified</td>\n",
       "    </tr>\n",
       "    <tr>\n",
       "      <th>4</th>\n",
       "      <td>3256f628-e534-4826-9d63-4a8b88782852</td>\n",
       "      <td>660681</td>\n",
       "      <td>Landing Page Submission</td>\n",
       "      <td>Google</td>\n",
       "      <td>No</td>\n",
       "      <td>No</td>\n",
       "      <td>1</td>\n",
       "      <td>2.0</td>\n",
       "      <td>1428</td>\n",
       "      <td>1.0</td>\n",
       "      <td>...</td>\n",
       "      <td>No</td>\n",
       "      <td>Select</td>\n",
       "      <td>Mumbai</td>\n",
       "      <td>02.Medium</td>\n",
       "      <td>01.High</td>\n",
       "      <td>15.0</td>\n",
       "      <td>18.0</td>\n",
       "      <td>No</td>\n",
       "      <td>No</td>\n",
       "      <td>Modified</td>\n",
       "    </tr>\n",
       "  </tbody>\n",
       "</table>\n",
       "<p>5 rows × 37 columns</p>\n",
       "</div>"
      ],
      "text/plain": [
       "                            Prospect ID  Lead Number              Lead Origin  \\\n",
       "0  7927b2df-8bba-4d29-b9a2-b6e0beafe620       660737                      API   \n",
       "1  2a272436-5132-4136-86fa-dcc88c88f482       660728                      API   \n",
       "2  8cc8c611-a219-4f35-ad23-fdfd2656bd8a       660727  Landing Page Submission   \n",
       "3  0cc2df48-7cf4-4e39-9de9-19797f9b38cc       660719  Landing Page Submission   \n",
       "4  3256f628-e534-4826-9d63-4a8b88782852       660681  Landing Page Submission   \n",
       "\n",
       "      Lead Source Do Not Email Do Not Call  Converted  TotalVisits  \\\n",
       "0      Olark Chat           No          No          0          0.0   \n",
       "1  Organic Search           No          No          0          5.0   \n",
       "2  Direct Traffic           No          No          1          2.0   \n",
       "3  Direct Traffic           No          No          0          1.0   \n",
       "4          Google           No          No          1          2.0   \n",
       "\n",
       "   Total Time Spent on Website  Page Views Per Visit  ...  \\\n",
       "0                            0                   0.0  ...   \n",
       "1                          674                   2.5  ...   \n",
       "2                         1532                   2.0  ...   \n",
       "3                          305                   1.0  ...   \n",
       "4                         1428                   1.0  ...   \n",
       "\n",
       "  Get updates on DM Content    Lead Profile    City  \\\n",
       "0                        No          Select  Select   \n",
       "1                        No          Select  Select   \n",
       "2                        No  Potential Lead  Mumbai   \n",
       "3                        No          Select  Mumbai   \n",
       "4                        No          Select  Mumbai   \n",
       "\n",
       "  Asymmetrique Activity Index Asymmetrique Profile Index  \\\n",
       "0                   02.Medium                  02.Medium   \n",
       "1                   02.Medium                  02.Medium   \n",
       "2                   02.Medium                    01.High   \n",
       "3                   02.Medium                    01.High   \n",
       "4                   02.Medium                    01.High   \n",
       "\n",
       "  Asymmetrique Activity Score Asymmetrique Profile Score  \\\n",
       "0                        15.0                       15.0   \n",
       "1                        15.0                       15.0   \n",
       "2                        14.0                       20.0   \n",
       "3                        13.0                       17.0   \n",
       "4                        15.0                       18.0   \n",
       "\n",
       "  I agree to pay the amount through cheque  \\\n",
       "0                                       No   \n",
       "1                                       No   \n",
       "2                                       No   \n",
       "3                                       No   \n",
       "4                                       No   \n",
       "\n",
       "  A free copy of Mastering The Interview Last Notable Activity  \n",
       "0                                     No              Modified  \n",
       "1                                     No          Email Opened  \n",
       "2                                    Yes          Email Opened  \n",
       "3                                     No              Modified  \n",
       "4                                     No              Modified  \n",
       "\n",
       "[5 rows x 37 columns]"
      ]
     },
     "execution_count": 2,
     "metadata": {},
     "output_type": "execute_result"
    }
   ],
   "source": [
    "df=pd.read_csv(\"Leads.csv\")\n",
    "df.head()"
   ]
  },
  {
   "cell_type": "code",
   "execution_count": 3,
   "id": "e8565e3d",
   "metadata": {},
   "outputs": [
    {
     "data": {
      "text/plain": [
       "(9240, 37)"
      ]
     },
     "execution_count": 3,
     "metadata": {},
     "output_type": "execute_result"
    }
   ],
   "source": [
    "df.shape\n",
    "#9200 rows and 37 columns to begin with "
   ]
  },
  {
   "cell_type": "code",
   "execution_count": 4,
   "id": "77db9ebd",
   "metadata": {},
   "outputs": [
    {
     "data": {
      "text/html": [
       "<div>\n",
       "<style scoped>\n",
       "    .dataframe tbody tr th:only-of-type {\n",
       "        vertical-align: middle;\n",
       "    }\n",
       "\n",
       "    .dataframe tbody tr th {\n",
       "        vertical-align: top;\n",
       "    }\n",
       "\n",
       "    .dataframe thead th {\n",
       "        text-align: right;\n",
       "    }\n",
       "</style>\n",
       "<table border=\"1\" class=\"dataframe\">\n",
       "  <thead>\n",
       "    <tr style=\"text-align: right;\">\n",
       "      <th></th>\n",
       "      <th>Lead Number</th>\n",
       "      <th>Converted</th>\n",
       "      <th>TotalVisits</th>\n",
       "      <th>Total Time Spent on Website</th>\n",
       "      <th>Page Views Per Visit</th>\n",
       "      <th>Asymmetrique Activity Score</th>\n",
       "      <th>Asymmetrique Profile Score</th>\n",
       "    </tr>\n",
       "  </thead>\n",
       "  <tbody>\n",
       "    <tr>\n",
       "      <th>count</th>\n",
       "      <td>9240.000000</td>\n",
       "      <td>9240.000000</td>\n",
       "      <td>9103.000000</td>\n",
       "      <td>9240.000000</td>\n",
       "      <td>9103.000000</td>\n",
       "      <td>5022.000000</td>\n",
       "      <td>5022.000000</td>\n",
       "    </tr>\n",
       "    <tr>\n",
       "      <th>mean</th>\n",
       "      <td>617188.435606</td>\n",
       "      <td>0.385390</td>\n",
       "      <td>3.445238</td>\n",
       "      <td>487.698268</td>\n",
       "      <td>2.362820</td>\n",
       "      <td>14.306252</td>\n",
       "      <td>16.344883</td>\n",
       "    </tr>\n",
       "    <tr>\n",
       "      <th>std</th>\n",
       "      <td>23405.995698</td>\n",
       "      <td>0.486714</td>\n",
       "      <td>4.854853</td>\n",
       "      <td>548.021466</td>\n",
       "      <td>2.161418</td>\n",
       "      <td>1.386694</td>\n",
       "      <td>1.811395</td>\n",
       "    </tr>\n",
       "    <tr>\n",
       "      <th>min</th>\n",
       "      <td>579533.000000</td>\n",
       "      <td>0.000000</td>\n",
       "      <td>0.000000</td>\n",
       "      <td>0.000000</td>\n",
       "      <td>0.000000</td>\n",
       "      <td>7.000000</td>\n",
       "      <td>11.000000</td>\n",
       "    </tr>\n",
       "    <tr>\n",
       "      <th>25%</th>\n",
       "      <td>596484.500000</td>\n",
       "      <td>0.000000</td>\n",
       "      <td>1.000000</td>\n",
       "      <td>12.000000</td>\n",
       "      <td>1.000000</td>\n",
       "      <td>14.000000</td>\n",
       "      <td>15.000000</td>\n",
       "    </tr>\n",
       "    <tr>\n",
       "      <th>50%</th>\n",
       "      <td>615479.000000</td>\n",
       "      <td>0.000000</td>\n",
       "      <td>3.000000</td>\n",
       "      <td>248.000000</td>\n",
       "      <td>2.000000</td>\n",
       "      <td>14.000000</td>\n",
       "      <td>16.000000</td>\n",
       "    </tr>\n",
       "    <tr>\n",
       "      <th>75%</th>\n",
       "      <td>637387.250000</td>\n",
       "      <td>1.000000</td>\n",
       "      <td>5.000000</td>\n",
       "      <td>936.000000</td>\n",
       "      <td>3.000000</td>\n",
       "      <td>15.000000</td>\n",
       "      <td>18.000000</td>\n",
       "    </tr>\n",
       "    <tr>\n",
       "      <th>max</th>\n",
       "      <td>660737.000000</td>\n",
       "      <td>1.000000</td>\n",
       "      <td>251.000000</td>\n",
       "      <td>2272.000000</td>\n",
       "      <td>55.000000</td>\n",
       "      <td>18.000000</td>\n",
       "      <td>20.000000</td>\n",
       "    </tr>\n",
       "  </tbody>\n",
       "</table>\n",
       "</div>"
      ],
      "text/plain": [
       "         Lead Number    Converted  TotalVisits  Total Time Spent on Website  \\\n",
       "count    9240.000000  9240.000000  9103.000000                  9240.000000   \n",
       "mean   617188.435606     0.385390     3.445238                   487.698268   \n",
       "std     23405.995698     0.486714     4.854853                   548.021466   \n",
       "min    579533.000000     0.000000     0.000000                     0.000000   \n",
       "25%    596484.500000     0.000000     1.000000                    12.000000   \n",
       "50%    615479.000000     0.000000     3.000000                   248.000000   \n",
       "75%    637387.250000     1.000000     5.000000                   936.000000   \n",
       "max    660737.000000     1.000000   251.000000                  2272.000000   \n",
       "\n",
       "       Page Views Per Visit  Asymmetrique Activity Score  \\\n",
       "count           9103.000000                  5022.000000   \n",
       "mean               2.362820                    14.306252   \n",
       "std                2.161418                     1.386694   \n",
       "min                0.000000                     7.000000   \n",
       "25%                1.000000                    14.000000   \n",
       "50%                2.000000                    14.000000   \n",
       "75%                3.000000                    15.000000   \n",
       "max               55.000000                    18.000000   \n",
       "\n",
       "       Asymmetrique Profile Score  \n",
       "count                 5022.000000  \n",
       "mean                    16.344883  \n",
       "std                      1.811395  \n",
       "min                     11.000000  \n",
       "25%                     15.000000  \n",
       "50%                     16.000000  \n",
       "75%                     18.000000  \n",
       "max                     20.000000  "
      ]
     },
     "execution_count": 4,
     "metadata": {},
     "output_type": "execute_result"
    }
   ],
   "source": [
    "df.describe()\n",
    "# Only 7 columns are numeric\n",
    "#Totalvisits,page views per visit,Time spent on website seems to have outliers"
   ]
  },
  {
   "cell_type": "code",
   "execution_count": 5,
   "id": "24ae8759",
   "metadata": {},
   "outputs": [
    {
     "name": "stdout",
     "output_type": "stream",
     "text": [
      "<class 'pandas.core.frame.DataFrame'>\n",
      "RangeIndex: 9240 entries, 0 to 9239\n",
      "Data columns (total 37 columns):\n",
      " #   Column                                         Non-Null Count  Dtype  \n",
      "---  ------                                         --------------  -----  \n",
      " 0   Prospect ID                                    9240 non-null   object \n",
      " 1   Lead Number                                    9240 non-null   int64  \n",
      " 2   Lead Origin                                    9240 non-null   object \n",
      " 3   Lead Source                                    9204 non-null   object \n",
      " 4   Do Not Email                                   9240 non-null   object \n",
      " 5   Do Not Call                                    9240 non-null   object \n",
      " 6   Converted                                      9240 non-null   int64  \n",
      " 7   TotalVisits                                    9103 non-null   float64\n",
      " 8   Total Time Spent on Website                    9240 non-null   int64  \n",
      " 9   Page Views Per Visit                           9103 non-null   float64\n",
      " 10  Last Activity                                  9137 non-null   object \n",
      " 11  Country                                        6779 non-null   object \n",
      " 12  Specialization                                 7802 non-null   object \n",
      " 13  How did you hear about X Education             7033 non-null   object \n",
      " 14  What is your current occupation                6550 non-null   object \n",
      " 15  What matters most to you in choosing a course  6531 non-null   object \n",
      " 16  Search                                         9240 non-null   object \n",
      " 17  Magazine                                       9240 non-null   object \n",
      " 18  Newspaper Article                              9240 non-null   object \n",
      " 19  X Education Forums                             9240 non-null   object \n",
      " 20  Newspaper                                      9240 non-null   object \n",
      " 21  Digital Advertisement                          9240 non-null   object \n",
      " 22  Through Recommendations                        9240 non-null   object \n",
      " 23  Receive More Updates About Our Courses         9240 non-null   object \n",
      " 24  Tags                                           5887 non-null   object \n",
      " 25  Lead Quality                                   4473 non-null   object \n",
      " 26  Update me on Supply Chain Content              9240 non-null   object \n",
      " 27  Get updates on DM Content                      9240 non-null   object \n",
      " 28  Lead Profile                                   6531 non-null   object \n",
      " 29  City                                           7820 non-null   object \n",
      " 30  Asymmetrique Activity Index                    5022 non-null   object \n",
      " 31  Asymmetrique Profile Index                     5022 non-null   object \n",
      " 32  Asymmetrique Activity Score                    5022 non-null   float64\n",
      " 33  Asymmetrique Profile Score                     5022 non-null   float64\n",
      " 34  I agree to pay the amount through cheque       9240 non-null   object \n",
      " 35  A free copy of Mastering The Interview         9240 non-null   object \n",
      " 36  Last Notable Activity                          9240 non-null   object \n",
      "dtypes: float64(4), int64(3), object(30)\n",
      "memory usage: 2.6+ MB\n"
     ]
    }
   ],
   "source": [
    "df.info()\n",
    "# few columns are float\n",
    "#several missing values \n"
   ]
  },
  {
   "cell_type": "code",
   "execution_count": 6,
   "id": "6d4c7595",
   "metadata": {},
   "outputs": [
    {
     "data": {
      "text/plain": [
       "Prospect ID                                       0.000000\n",
       "Lead Number                                       0.000000\n",
       "Lead Origin                                       0.000000\n",
       "Lead Source                                       0.389610\n",
       "Do Not Email                                      0.000000\n",
       "Do Not Call                                       0.000000\n",
       "Converted                                         0.000000\n",
       "TotalVisits                                       1.482684\n",
       "Total Time Spent on Website                       0.000000\n",
       "Page Views Per Visit                              1.482684\n",
       "Last Activity                                     1.114719\n",
       "Country                                          26.634199\n",
       "Specialization                                   15.562771\n",
       "How did you hear about X Education               23.885281\n",
       "What is your current occupation                  29.112554\n",
       "What matters most to you in choosing a course    29.318182\n",
       "Search                                            0.000000\n",
       "Magazine                                          0.000000\n",
       "Newspaper Article                                 0.000000\n",
       "X Education Forums                                0.000000\n",
       "Newspaper                                         0.000000\n",
       "Digital Advertisement                             0.000000\n",
       "Through Recommendations                           0.000000\n",
       "Receive More Updates About Our Courses            0.000000\n",
       "Tags                                             36.287879\n",
       "Lead Quality                                     51.590909\n",
       "Update me on Supply Chain Content                 0.000000\n",
       "Get updates on DM Content                         0.000000\n",
       "Lead Profile                                     29.318182\n",
       "City                                             15.367965\n",
       "Asymmetrique Activity Index                      45.649351\n",
       "Asymmetrique Profile Index                       45.649351\n",
       "Asymmetrique Activity Score                      45.649351\n",
       "Asymmetrique Profile Score                       45.649351\n",
       "I agree to pay the amount through cheque          0.000000\n",
       "A free copy of Mastering The Interview            0.000000\n",
       "Last Notable Activity                             0.000000\n",
       "dtype: float64"
      ]
     },
     "execution_count": 6,
     "metadata": {},
     "output_type": "execute_result"
    }
   ],
   "source": [
    "df.isnull().sum()/len(df)*100\n",
    "#analysing missing values in percentage"
   ]
  },
  {
   "cell_type": "code",
   "execution_count": 7,
   "id": "e688dd71",
   "metadata": {},
   "outputs": [
    {
     "data": {
      "text/plain": [
       "Prospect ID                                      9240\n",
       "Lead Number                                      9240\n",
       "Lead Origin                                         5\n",
       "Lead Source                                        21\n",
       "Do Not Email                                        2\n",
       "Do Not Call                                         2\n",
       "Converted                                           2\n",
       "TotalVisits                                        41\n",
       "Total Time Spent on Website                      1731\n",
       "Page Views Per Visit                              114\n",
       "Last Activity                                      17\n",
       "Country                                            38\n",
       "Specialization                                     19\n",
       "How did you hear about X Education                 10\n",
       "What is your current occupation                     6\n",
       "What matters most to you in choosing a course       3\n",
       "Search                                              2\n",
       "Magazine                                            1\n",
       "Newspaper Article                                   2\n",
       "X Education Forums                                  2\n",
       "Newspaper                                           2\n",
       "Digital Advertisement                               2\n",
       "Through Recommendations                             2\n",
       "Receive More Updates About Our Courses              1\n",
       "Tags                                               26\n",
       "Lead Quality                                        5\n",
       "Update me on Supply Chain Content                   1\n",
       "Get updates on DM Content                           1\n",
       "Lead Profile                                        6\n",
       "City                                                7\n",
       "Asymmetrique Activity Index                         3\n",
       "Asymmetrique Profile Index                          3\n",
       "Asymmetrique Activity Score                        12\n",
       "Asymmetrique Profile Score                         10\n",
       "I agree to pay the amount through cheque            1\n",
       "A free copy of Mastering The Interview              2\n",
       "Last Notable Activity                              16\n",
       "dtype: int64"
      ]
     },
     "execution_count": 7,
     "metadata": {},
     "output_type": "execute_result"
    }
   ],
   "source": [
    "df.nunique()\n",
    "# Checking to drop values with single unique numbers. "
   ]
  },
  {
   "cell_type": "code",
   "execution_count": 8,
   "id": "c23af842",
   "metadata": {},
   "outputs": [],
   "source": [
    "df=df.replace('Select',np.nan)\n",
    "#after analysing, majority of columns have select value which means nothing , so replacing it with NAN for adequate treatment "
   ]
  },
  {
   "cell_type": "markdown",
   "id": "de377cd1",
   "metadata": {},
   "source": [
    "#### Dropping columns having more than 40% missing values and unique value columns "
   ]
  },
  {
   "cell_type": "code",
   "execution_count": 9,
   "id": "13427f6d",
   "metadata": {},
   "outputs": [
    {
     "data": {
      "text/plain": [
       "(9240, 32)"
      ]
     },
     "execution_count": 9,
     "metadata": {},
     "output_type": "execute_result"
    }
   ],
   "source": [
    "# Let us Drop unique valued columns\n",
    "df.drop(['Magazine','Receive More Updates About Our Courses','I agree to pay the amount through cheque','Get updates on DM Content','Update me on Supply Chain Content'],inplace=True,axis=1)\n",
    "df.shape"
   ]
  },
  {
   "cell_type": "code",
   "execution_count": 10,
   "id": "5d4a03e1",
   "metadata": {},
   "outputs": [
    {
     "data": {
      "text/plain": [
       "7"
      ]
     },
     "execution_count": 10,
     "metadata": {},
     "output_type": "execute_result"
    }
   ],
   "source": [
    "#Fetching columns having null values more than 40%\n",
    "null = df.isnull().sum()\n",
    "null = null[null>= 0.4*len(df)]\n",
    "len(null)"
   ]
  },
  {
   "cell_type": "code",
   "execution_count": 11,
   "id": "d75fae58",
   "metadata": {},
   "outputs": [
    {
     "data": {
      "text/plain": [
       "(9240, 25)"
      ]
     },
     "execution_count": 11,
     "metadata": {},
     "output_type": "execute_result"
    }
   ],
   "source": [
    "null = list(null[null.values>=0.4].index)\n",
    "df.drop(labels=null,axis=1,inplace=True)\n",
    "df.shape\n",
    "#25 columns left for further processing "
   ]
  },
  {
   "cell_type": "code",
   "execution_count": 12,
   "id": "c45a1d41",
   "metadata": {},
   "outputs": [
    {
     "data": {
      "text/plain": [
       "Google               2868\n",
       "Direct Traffic       2543\n",
       "Olark Chat           1755\n",
       "Organic Search       1154\n",
       "Reference             534\n",
       "Welingak Website      142\n",
       "Referral Sites        125\n",
       "Facebook               55\n",
       "NaN                    36\n",
       "bing                    6\n",
       "google                  5\n",
       "Click2call              4\n",
       "Press_Release           2\n",
       "Social Media            2\n",
       "Live Chat               2\n",
       "youtubechannel          1\n",
       "testone                 1\n",
       "Pay per Click Ads       1\n",
       "welearnblog_Home        1\n",
       "WeLearn                 1\n",
       "blog                    1\n",
       "NC_EDM                  1\n",
       "Name: Lead Source, dtype: int64"
      ]
     },
     "execution_count": 12,
     "metadata": {},
     "output_type": "execute_result"
    }
   ],
   "source": [
    "df['Lead Source'].value_counts(dropna=False)"
   ]
  },
  {
   "cell_type": "code",
   "execution_count": 13,
   "id": "45cb2452",
   "metadata": {},
   "outputs": [
    {
     "data": {
      "text/plain": [
       "Google              2909\n",
       "Direct Traffic      2543\n",
       "Olark Chat          1755\n",
       "Organic Search      1154\n",
       "Reference            534\n",
       "Welingak Website     142\n",
       "Referral Sites       125\n",
       "Facebook              55\n",
       "others                23\n",
       "Name: Lead Source, dtype: int64"
      ]
     },
     "execution_count": 13,
     "metadata": {},
     "output_type": "execute_result"
    }
   ],
   "source": [
    "#Imputing Mode at null value (Maximum is google), also putting variable in 'others category' where value is less than 10\n",
    "df['Lead Source']=df['Lead Source'].replace(['google',np.nan],'Google')\n",
    "df['Lead Source']=df['Lead Source'].replace(['bing','Click2call','Press_Release','Social Media','Live Chat','youtubechannel'\n",
    "                                            ,'testone','Pay per Click Ads','welearnblog_Home','WeLearn','blog','NC_EDM'],'others')\n",
    "df['Lead Source'].value_counts(dropna=False)"
   ]
  },
  {
   "cell_type": "markdown",
   "id": "4e41ce98",
   "metadata": {},
   "source": [
    "#### Treatment of other variables "
   ]
  },
  {
   "cell_type": "code",
   "execution_count": 14,
   "id": "639919d1",
   "metadata": {},
   "outputs": [
    {
     "data": {
      "text/plain": [
       "0.0      2326\n",
       "2.0      1680\n",
       "3.0      1306\n",
       "4.0      1120\n",
       "5.0       783\n",
       "6.0       466\n",
       "1.0       395\n",
       "7.0       309\n",
       "8.0       224\n",
       "9.0       164\n",
       "10.0      114\n",
       "11.0       86\n",
       "13.0       48\n",
       "12.0       45\n",
       "14.0       36\n",
       "16.0       21\n",
       "15.0       18\n",
       "17.0       16\n",
       "18.0       15\n",
       "20.0       12\n",
       "19.0        9\n",
       "21.0        6\n",
       "23.0        6\n",
       "24.0        5\n",
       "25.0        5\n",
       "27.0        5\n",
       "22.0        3\n",
       "29.0        2\n",
       "28.0        2\n",
       "26.0        2\n",
       "141.0       1\n",
       "55.0        1\n",
       "30.0        1\n",
       "43.0        1\n",
       "74.0        1\n",
       "41.0        1\n",
       "54.0        1\n",
       "115.0       1\n",
       "251.0       1\n",
       "32.0        1\n",
       "42.0        1\n",
       "Name: TotalVisits, dtype: int64"
      ]
     },
     "execution_count": 14,
     "metadata": {},
     "output_type": "execute_result"
    }
   ],
   "source": [
    "df['TotalVisits']=df['TotalVisits'].replace(np.nan,0.0)\n",
    "df['TotalVisits'].value_counts(dropna=False)"
   ]
  },
  {
   "cell_type": "code",
   "execution_count": 15,
   "id": "ba2b0f3d",
   "metadata": {},
   "outputs": [
    {
     "data": {
      "text/plain": [
       "0.00    2189\n",
       "2.00    1795\n",
       "3.00    1196\n",
       "4.00     896\n",
       "1.00     651\n",
       "        ... \n",
       "2.56       1\n",
       "6.33       1\n",
       "1.64       1\n",
       "8.21       1\n",
       "2.08       1\n",
       "Name: Page Views Per Visit, Length: 115, dtype: int64"
      ]
     },
     "execution_count": 15,
     "metadata": {},
     "output_type": "execute_result"
    }
   ],
   "source": [
    "df['Page Views Per Visit'].value_counts(dropna=False)"
   ]
  },
  {
   "cell_type": "code",
   "execution_count": 16,
   "id": "decc2c68",
   "metadata": {},
   "outputs": [
    {
     "data": {
      "text/plain": [
       "Prospect ID                                       0.000000\n",
       "Lead Number                                       0.000000\n",
       "Lead Origin                                       0.000000\n",
       "Lead Source                                       0.000000\n",
       "Do Not Email                                      0.000000\n",
       "Do Not Call                                       0.000000\n",
       "Converted                                         0.000000\n",
       "TotalVisits                                       0.000000\n",
       "Total Time Spent on Website                       0.000000\n",
       "Page Views Per Visit                              0.000000\n",
       "Last Activity                                     1.114719\n",
       "Country                                          26.634199\n",
       "Specialization                                   36.580087\n",
       "What is your current occupation                  29.112554\n",
       "What matters most to you in choosing a course    29.318182\n",
       "Search                                            0.000000\n",
       "Newspaper Article                                 0.000000\n",
       "X Education Forums                                0.000000\n",
       "Newspaper                                         0.000000\n",
       "Digital Advertisement                             0.000000\n",
       "Through Recommendations                           0.000000\n",
       "Tags                                             36.287879\n",
       "City                                             39.707792\n",
       "A free copy of Mastering The Interview            0.000000\n",
       "Last Notable Activity                             0.000000\n",
       "dtype: float64"
      ]
     },
     "execution_count": 16,
     "metadata": {},
     "output_type": "execute_result"
    }
   ],
   "source": [
    "df['Page Views Per Visit']=df['Page Views Per Visit'].replace(np.nan,0.00)\n",
    "df.isnull().sum()/len(df)*100"
   ]
  },
  {
   "cell_type": "code",
   "execution_count": 17,
   "id": "db8cfd85",
   "metadata": {},
   "outputs": [
    {
     "data": {
      "text/plain": [
       "Email Opened                    3437\n",
       "SMS Sent                        2745\n",
       "Olark Chat Conversation          973\n",
       "Page Visited on Website          640\n",
       "Converted to Lead                428\n",
       "Email Bounced                    326\n",
       "Email Link Clicked               267\n",
       "Form Submitted on Website        116\n",
       "NaN                              103\n",
       "Unreachable                       93\n",
       "Unsubscribed                      61\n",
       "Had a Phone Conversation          30\n",
       "Approached upfront                 9\n",
       "View in browser link Clicked       6\n",
       "Email Received                     2\n",
       "Email Marked Spam                  2\n",
       "Visited Booth in Tradeshow         1\n",
       "Resubscribed to emails             1\n",
       "Name: Last Activity, dtype: int64"
      ]
     },
     "execution_count": 17,
     "metadata": {},
     "output_type": "execute_result"
    }
   ],
   "source": [
    " df['Last Activity'].value_counts(dropna=False)"
   ]
  },
  {
   "cell_type": "code",
   "execution_count": 18,
   "id": "28f1b573",
   "metadata": {},
   "outputs": [
    {
     "data": {
      "text/plain": [
       "Email Opened                 3540\n",
       "SMS Sent                     2745\n",
       "Olark Chat Conversation       973\n",
       "Page Visited on Website       640\n",
       "Converted to Lead             428\n",
       "Email Bounced                 326\n",
       "Email Link Clicked            267\n",
       "Form Submitted on Website     116\n",
       "Unreachable                    93\n",
       "Unsubscribed                   61\n",
       "Had a Phone Conversation       30\n",
       "Others                         21\n",
       "Name: Last Activity, dtype: int64"
      ]
     },
     "execution_count": 18,
     "metadata": {},
     "output_type": "execute_result"
    }
   ],
   "source": [
    "#Replacing NAN with \"Email Opened\" and less values in 'Others'\n",
    "df['Last Activity']= df['Last Activity'].replace(np.nan,'Email Opened')\n",
    "df['Last Activity']= df['Last Activity'].replace(['Approached upfront','View in browser link Clicked','Email Received',\n",
    "                                                 'Email Marked Spam','Visited Booth in Tradeshow','Resubscribed to emails']\n",
    "                                                ,'Others')\n",
    "df['Last Activity'].value_counts(dropna=False)"
   ]
  },
  {
   "cell_type": "code",
   "execution_count": 19,
   "id": "ba2a856a",
   "metadata": {},
   "outputs": [
    {
     "data": {
      "text/plain": [
       "India                   6492\n",
       "NaN                     2461\n",
       "United States             69\n",
       "United Arab Emirates      53\n",
       "Singapore                 24\n",
       "Saudi Arabia              21\n",
       "United Kingdom            15\n",
       "Australia                 13\n",
       "Qatar                     10\n",
       "Bahrain                    7\n",
       "Hong Kong                  7\n",
       "Oman                       6\n",
       "France                     6\n",
       "unknown                    5\n",
       "Kuwait                     4\n",
       "South Africa               4\n",
       "Canada                     4\n",
       "Nigeria                    4\n",
       "Germany                    4\n",
       "Sweden                     3\n",
       "Philippines                2\n",
       "Uganda                     2\n",
       "Italy                      2\n",
       "Bangladesh                 2\n",
       "Netherlands                2\n",
       "Asia/Pacific Region        2\n",
       "China                      2\n",
       "Belgium                    2\n",
       "Ghana                      2\n",
       "Kenya                      1\n",
       "Sri Lanka                  1\n",
       "Tanzania                   1\n",
       "Malaysia                   1\n",
       "Liberia                    1\n",
       "Switzerland                1\n",
       "Denmark                    1\n",
       "Russia                     1\n",
       "Vietnam                    1\n",
       "Indonesia                  1\n",
       "Name: Country, dtype: int64"
      ]
     },
     "execution_count": 19,
     "metadata": {},
     "output_type": "execute_result"
    }
   ],
   "source": [
    "df['Country'].value_counts(dropna=False)"
   ]
  },
  {
   "cell_type": "code",
   "execution_count": 20,
   "id": "0eb03669",
   "metadata": {},
   "outputs": [],
   "source": [
    "df['Country']=df['Country'].replace(np.nan,\"Not Specified\")"
   ]
  },
  {
   "cell_type": "code",
   "execution_count": 21,
   "id": "f9281e4a",
   "metadata": {},
   "outputs": [
    {
     "data": {
      "text/plain": [
       "India            6492\n",
       "Unknown          2461\n",
       "Outside India     287\n",
       "Name: Country, dtype: int64"
      ]
     },
     "execution_count": 21,
     "metadata": {},
     "output_type": "execute_result"
    }
   ],
   "source": [
    "#a funtion to create three major categories 1. India, 2.Outside_India, 3. Unknown\n",
    "def countries(x):\n",
    "    category = \"\"\n",
    "    if x == \"India\":\n",
    "        category = \"India\"\n",
    "    elif x == \"Not Specified\":\n",
    "        category = \"Unknown\"\n",
    "    else:\n",
    "        category = \"Outside India\"\n",
    "    return category\n",
    "\n",
    "df['Country'] = df.apply(lambda x:countries(x['Country']), axis = 1)\n",
    "df['Country'].value_counts()"
   ]
  },
  {
   "cell_type": "markdown",
   "id": "f37afc0d",
   "metadata": {},
   "source": [
    "#### Majorly three categories divided(countries) to reduce number of variables "
   ]
  },
  {
   "cell_type": "code",
   "execution_count": 22,
   "id": "25e4fd98",
   "metadata": {},
   "outputs": [],
   "source": [
    "#treatment of Specialization variables\n",
    "df['Specialization'].fillna(\"Not Specified\",inplace=True)"
   ]
  },
  {
   "cell_type": "code",
   "execution_count": 23,
   "id": "a400f1c1",
   "metadata": {},
   "outputs": [
    {
     "data": {
      "text/plain": [
       "Not Specified                        3380\n",
       "Finance Management                    976\n",
       "Human Resource Management             848\n",
       "Marketing Management                  838\n",
       "Operations Management                 503\n",
       "Business Administration               403\n",
       "IT Projects Management                366\n",
       "Supply Chain Management               349\n",
       "Banking, Investment And Insurance     338\n",
       "Travel and Tourism                    203\n",
       "Media and Advertising                 203\n",
       "International Business                178\n",
       "Healthcare Management                 159\n",
       "Hospitality Management                114\n",
       "E-COMMERCE                            112\n",
       "Retail Management                     100\n",
       "Rural and Agribusiness                 73\n",
       "E-Business                             57\n",
       "Services Excellence                    40\n",
       "Name: Specialization, dtype: int64"
      ]
     },
     "execution_count": 23,
     "metadata": {},
     "output_type": "execute_result"
    }
   ],
   "source": [
    "#Treating Select entry present in majority of columns \n",
    "df['Specialization'].value_counts(dropna=False)"
   ]
  },
  {
   "cell_type": "code",
   "execution_count": 24,
   "id": "f968b8a5",
   "metadata": {},
   "outputs": [],
   "source": [
    "df['What is your current occupation'].fillna('Not Specified',  inplace=True)\n",
    "df['What matters most to you in choosing a course'].fillna('Not Specified', inplace=True)"
   ]
  },
  {
   "cell_type": "code",
   "execution_count": 25,
   "id": "9456b01a",
   "metadata": {},
   "outputs": [],
   "source": [
    "#converting float values to integar for better result\n",
    "\n",
    "df['TotalVisits']=df['TotalVisits'].astype('int')\n",
    "df['Page Views Per Visit']=df['Page Views Per Visit'].astype('int')"
   ]
  },
  {
   "cell_type": "code",
   "execution_count": 26,
   "id": "75e4e744",
   "metadata": {},
   "outputs": [
    {
     "data": {
      "text/plain": [
       "(9240, 25)"
      ]
     },
     "execution_count": 26,
     "metadata": {},
     "output_type": "execute_result"
    }
   ],
   "source": [
    "df.shape"
   ]
  },
  {
   "cell_type": "code",
   "execution_count": 27,
   "id": "42bc32e1",
   "metadata": {},
   "outputs": [
    {
     "data": {
      "text/plain": [
       "Prospect ID                                         0\n",
       "Lead Number                                         0\n",
       "Lead Origin                                         0\n",
       "Lead Source                                         0\n",
       "Do Not Email                                        0\n",
       "Do Not Call                                         0\n",
       "Converted                                           0\n",
       "TotalVisits                                         0\n",
       "Total Time Spent on Website                         0\n",
       "Page Views Per Visit                                0\n",
       "Last Activity                                       0\n",
       "Country                                             0\n",
       "Specialization                                      0\n",
       "What is your current occupation                     0\n",
       "What matters most to you in choosing a course       0\n",
       "Search                                              0\n",
       "Newspaper Article                                   0\n",
       "X Education Forums                                  0\n",
       "Newspaper                                           0\n",
       "Digital Advertisement                               0\n",
       "Through Recommendations                             0\n",
       "Tags                                             3353\n",
       "City                                             3669\n",
       "A free copy of Mastering The Interview              0\n",
       "Last Notable Activity                               0\n",
       "dtype: int64"
      ]
     },
     "execution_count": 27,
     "metadata": {},
     "output_type": "execute_result"
    }
   ],
   "source": [
    "df.isnull().sum()\n",
    "#2 columns left untreated "
   ]
  },
  {
   "cell_type": "code",
   "execution_count": 28,
   "id": "f9e8f9de",
   "metadata": {},
   "outputs": [
    {
     "data": {
      "text/plain": [
       "NaN                                                  36.29\n",
       "Will revert after reading the email                  22.42\n",
       "Ringing                                              13.02\n",
       "Interested in other courses                           5.55\n",
       "Already a student                                     5.03\n",
       "Closed by Horizzon                                    3.87\n",
       "switched off                                          2.60\n",
       "Busy                                                  2.01\n",
       "Lost to EINS                                          1.89\n",
       "Not doing further education                           1.57\n",
       "Interested  in full time MBA                          1.27\n",
       "Graduation in progress                                1.20\n",
       "invalid number                                        0.90\n",
       "Diploma holder (Not Eligible)                         0.68\n",
       "wrong number given                                    0.51\n",
       "opp hangup                                            0.36\n",
       "number not provided                                   0.29\n",
       "in touch with EINS                                    0.13\n",
       "Lost to Others                                        0.08\n",
       "Still Thinking                                        0.06\n",
       "Want to take admission but has financial problems     0.06\n",
       "In confusion whether part time or DLP                 0.05\n",
       "Interested in Next batch                              0.05\n",
       "Lateral student                                       0.03\n",
       "Shall take in the next coming month                   0.02\n",
       "University not recognized                             0.02\n",
       "Recognition issue (DEC approval)                      0.01\n",
       "Name: Tags, dtype: float64"
      ]
     },
     "execution_count": 28,
     "metadata": {},
     "output_type": "execute_result"
    }
   ],
   "source": [
    "#checking value counts of Tag variable\n",
    "round(100*df['Tags'].value_counts(normalize = True,dropna=False),2)"
   ]
  },
  {
   "cell_type": "code",
   "execution_count": 29,
   "id": "1a07b6a0",
   "metadata": {},
   "outputs": [],
   "source": [
    "#replacing Nan values with \"Not Specified\"\n",
    "df['Tags'] = df['Tags'].replace(np.nan,'Unknown')"
   ]
  },
  {
   "cell_type": "code",
   "execution_count": 30,
   "id": "8ce8d32f",
   "metadata": {},
   "outputs": [
    {
     "data": {
      "text/plain": [
       "NaN                            39.71\n",
       "Mumbai                         34.87\n",
       "Thane & Outskirts               8.14\n",
       "Other Cities                    7.42\n",
       "Other Cities of Maharashtra     4.95\n",
       "Other Metro Cities              4.11\n",
       "Tier II Cities                  0.80\n",
       "Name: City, dtype: float64"
      ]
     },
     "execution_count": 30,
     "metadata": {},
     "output_type": "execute_result"
    }
   ],
   "source": [
    "#checking value counts of \"City\" column\n",
    "\n",
    "round(100*df['City'].value_counts(normalize = True,dropna=False),2)"
   ]
  },
  {
   "cell_type": "code",
   "execution_count": 31,
   "id": "3dd0f75f",
   "metadata": {},
   "outputs": [],
   "source": [
    "df['City'] = df['City'].replace(np.nan,'Unknown')\n",
    "#treated City column"
   ]
  },
  {
   "cell_type": "code",
   "execution_count": 32,
   "id": "3cc405e0",
   "metadata": {},
   "outputs": [
    {
     "data": {
      "text/plain": [
       "Prospect ID                                      0.0\n",
       "Lead Number                                      0.0\n",
       "Lead Origin                                      0.0\n",
       "Lead Source                                      0.0\n",
       "Do Not Email                                     0.0\n",
       "Do Not Call                                      0.0\n",
       "Converted                                        0.0\n",
       "TotalVisits                                      0.0\n",
       "Total Time Spent on Website                      0.0\n",
       "Page Views Per Visit                             0.0\n",
       "Last Activity                                    0.0\n",
       "Country                                          0.0\n",
       "Specialization                                   0.0\n",
       "What is your current occupation                  0.0\n",
       "What matters most to you in choosing a course    0.0\n",
       "Search                                           0.0\n",
       "Newspaper Article                                0.0\n",
       "X Education Forums                               0.0\n",
       "Newspaper                                        0.0\n",
       "Digital Advertisement                            0.0\n",
       "Through Recommendations                          0.0\n",
       "Tags                                             0.0\n",
       "City                                             0.0\n",
       "A free copy of Mastering The Interview           0.0\n",
       "Last Notable Activity                            0.0\n",
       "dtype: float64"
      ]
     },
     "execution_count": 32,
     "metadata": {},
     "output_type": "execute_result"
    }
   ],
   "source": [
    "round(100*(df.isnull().sum()/len(df)),2)"
   ]
  },
  {
   "cell_type": "code",
   "execution_count": 33,
   "id": "315843d4",
   "metadata": {},
   "outputs": [
    {
     "data": {
      "text/plain": [
       "Modified                        3407\n",
       "Email Opened                    2827\n",
       "SMS Sent                        2172\n",
       "Page Visited on Website          318\n",
       "Olark Chat Conversation          183\n",
       "Email Link Clicked               173\n",
       "Email Bounced                     60\n",
       "Unsubscribed                      47\n",
       "Unreachable                       32\n",
       "Had a Phone Conversation          14\n",
       "Email Marked Spam                  2\n",
       "Approached upfront                 1\n",
       "Resubscribed to emails             1\n",
       "View in browser link Clicked       1\n",
       "Form Submitted on Website          1\n",
       "Email Received                     1\n",
       "Name: Last Notable Activity, dtype: int64"
      ]
     },
     "execution_count": 33,
     "metadata": {},
     "output_type": "execute_result"
    }
   ],
   "source": [
    "#cleaning on Last Notable activity \n",
    "df['Last Notable Activity'].value_counts()"
   ]
  },
  {
   "cell_type": "code",
   "execution_count": 34,
   "id": "d894ad1d",
   "metadata": {},
   "outputs": [],
   "source": [
    "df['Last Notable Activity']=df['Last Notable Activity'].replace(['Email Marked Spam','Approached upfront',\n",
    "                                                                 'Resubscribed to emails','View in browser link Clicked','Form Submitted on Website',\n",
    "                                                                'Email Received'],'Others')"
   ]
  },
  {
   "cell_type": "code",
   "execution_count": 35,
   "id": "ae4cf034",
   "metadata": {},
   "outputs": [
    {
     "data": {
      "text/plain": [
       "(9240, 23)"
      ]
     },
     "execution_count": 35,
     "metadata": {},
     "output_type": "execute_result"
    }
   ],
   "source": [
    "# Removing Id values since they are unique for everyone\n",
    "df.drop(['Prospect ID','Lead Number'],inplace=True,axis=1)\n",
    "df.shape"
   ]
  },
  {
   "cell_type": "code",
   "execution_count": 36,
   "id": "41adda78",
   "metadata": {},
   "outputs": [
    {
     "data": {
      "text/plain": [
       "38.53896103896104"
      ]
     },
     "execution_count": 36,
     "metadata": {},
     "output_type": "execute_result"
    }
   ],
   "source": [
    "# checking conversion ratio\n",
    "conversion = (sum(df['Converted'])/len(df['Converted'].index))*100\n",
    "conversion"
   ]
  },
  {
   "cell_type": "markdown",
   "id": "06eef098",
   "metadata": {},
   "source": [
    "## we have 38.5% conversion ratio"
   ]
  },
  {
   "cell_type": "markdown",
   "id": "85d8a1a2",
   "metadata": {},
   "source": [
    "### EDA "
   ]
  },
  {
   "cell_type": "code",
   "execution_count": 37,
   "id": "5716b080",
   "metadata": {},
   "outputs": [
    {
     "data": {
      "image/png": "[encoded data removed]",
      "text/plain": [
       "<Figure size 720x360 with 2 Axes>"
      ]
     },
     "metadata": {
      "needs_background": "light"
     },
     "output_type": "display_data"
    }
   ],
   "source": [
    "#to check coorelation between several numeric variables\n",
    "plt.figure(figsize=(10,5))\n",
    "sns.heatmap(df.corr(),annot=True)\n",
    "plt.show()"
   ]
  },
  {
   "cell_type": "markdown",
   "id": "a44cf876",
   "metadata": {},
   "source": [
    "- Nothing concrete but seems to have some coorelation between conversion and total time spent on website "
   ]
  },
  {
   "cell_type": "code",
   "execution_count": 38,
   "id": "d233f041",
   "metadata": {},
   "outputs": [
    {
     "data": {
      "image/png": "[encoded data removed]",
      "text/plain": [
       "<Figure size 1080x360 with 1 Axes>"
      ]
     },
     "metadata": {
      "needs_background": "light"
     },
     "output_type": "display_data"
    }
   ],
   "source": [
    "plt.figure(figsize=(15,5))\n",
    "sns.countplot(df.Tags,hue=df.Converted)\n",
    "plt.xticks(rotation=90)\n",
    "plt.show()"
   ]
  },
  {
   "cell_type": "markdown",
   "id": "303a788e",
   "metadata": {},
   "source": [
    "##### By looking at the plot, we can see that the highest conversion and the % of conversion occurs where the leads are contacted through the email\n",
    "##### However, the Tags columns is not useful for final model building because the data shared by sales team, so  we may drop this at the time of model building"
   ]
  },
  {
   "cell_type": "code",
   "execution_count": 39,
   "id": "87719e5c",
   "metadata": {},
   "outputs": [
    {
     "data": {
      "image/png": "[encoded data removed]",
      "text/plain": [
       "<Figure size 864x288 with 1 Axes>"
      ]
     },
     "metadata": {
      "needs_background": "light"
     },
     "output_type": "display_data"
    }
   ],
   "source": [
    "# Lets have a look on column \"Specialization\"\n",
    "\n",
    "plt.figure(figsize=(12,4))\n",
    "sns.countplot(df['Specialization'],hue=df.Converted)\n",
    "plt.xticks(rotation=90)\n",
    "plt.show()"
   ]
  },
  {
   "cell_type": "code",
   "execution_count": 40,
   "id": "b6b93082",
   "metadata": {},
   "outputs": [
    {
     "data": {
      "text/plain": [
       "Not Specified                        3380\n",
       "Finance Management                    976\n",
       "Human Resource Management             848\n",
       "Marketing Management                  838\n",
       "Operations Management                 503\n",
       "Business Administration               403\n",
       "IT Projects Management                366\n",
       "Supply Chain Management               349\n",
       "Banking, Investment And Insurance     338\n",
       "Travel and Tourism                    203\n",
       "Media and Advertising                 203\n",
       "International Business                178\n",
       "Healthcare Management                 159\n",
       "Hospitality Management                114\n",
       "E-COMMERCE                            112\n",
       "Retail Management                     100\n",
       "Rural and Agribusiness                 73\n",
       "E-Business                             57\n",
       "Services Excellence                    40\n",
       "Name: Specialization, dtype: int64"
      ]
     },
     "execution_count": 40,
     "metadata": {},
     "output_type": "execute_result"
    }
   ],
   "source": [
    "df['Specialization'].value_counts()"
   ]
  },
  {
   "cell_type": "markdown",
   "id": "8c625162",
   "metadata": {},
   "source": [
    "- We can see that the information on number of converted are high in this section. So we cannot drop the column and also the rows. We can first combine categories based on the course type, and then impute proportionally to maintain the distribution unbiased"
   ]
  },
  {
   "cell_type": "code",
   "execution_count": 41,
   "id": "ebe054f7",
   "metadata": {},
   "outputs": [],
   "source": [
    "# categorize all management courses\n",
    "df.loc[(df['Specialization']=='Finance Management') | (df['Specialization']=='Human Resource Management') | \n",
    "          (df['Specialization']=='Marketing Management') | (df['Specialization']=='Operations Management') | \n",
    "          (df['Specialization']=='IT Projects Management') | (df['Specialization']=='Supply Chain Management') | \n",
    "          (df['Specialization']=='Healthcare Management') | (df['Specialization']=='Hospitality Management') |\n",
    "          (df['Specialization']=='Retail Management'), 'Specialization']='Management_Courses'\n",
    "\n",
    "# categorize all business courses\n",
    "df.loc[(df.Specialization == 'Business Administration') | (df.Specialization == 'International Business') | \n",
    "       (df.Specialization == 'Rural and Agribusiness') | (df.Specialization == 'E-Business') \n",
    "        , 'Specialization'] = 'Business_Courses'\n",
    "\n",
    "# categorize all industry courses\n",
    "df.loc[(df.Specialization == 'Banking, Investment And Insurance') | (df.Specialization == 'Media and Advertising') |\n",
    "       (df.Specialization == 'Travel and Tourism') | (df.Specialization == 'Services Excellence') |\n",
    "       (df.Specialization == 'E-COMMERCE'), 'Specialization'] = 'Industry_Courses'"
   ]
  },
  {
   "cell_type": "code",
   "execution_count": 42,
   "id": "2b9d197d",
   "metadata": {},
   "outputs": [
    {
     "data": {
      "text/plain": [
       "Management_Courses    46.0\n",
       "Not Specified         36.6\n",
       "Industry_Courses       9.7\n",
       "Business_Courses       7.7\n",
       "Name: Specialization, dtype: float64"
      ]
     },
     "execution_count": 42,
     "metadata": {},
     "output_type": "execute_result"
    }
   ],
   "source": [
    "round(df['Specialization'].value_counts(normalize=True)*100,1)"
   ]
  },
  {
   "cell_type": "code",
   "execution_count": 43,
   "id": "44eff17b",
   "metadata": {},
   "outputs": [
    {
     "data": {
      "image/png": "[encoded data removed]",
      "text/plain": [
       "<Figure size 432x288 with 1 Axes>"
      ]
     },
     "metadata": {
      "needs_background": "light"
     },
     "output_type": "display_data"
    }
   ],
   "source": [
    "# Lets have a look on column \"Specialization\"\n",
    "\n",
    "plt.figure(figsize=(6,4))\n",
    "sns.countplot(df['Specialization'],hue=df.Converted)\n",
    "plt.xticks(rotation=90)\n",
    "plt.show()"
   ]
  },
  {
   "cell_type": "markdown",
   "id": "9a43b55d",
   "metadata": {},
   "source": [
    "- It can be clearly seen from the graph that the \"Management_courses\" have high number of leads as well as the high % of converted leads."
   ]
  },
  {
   "cell_type": "code",
   "execution_count": 44,
   "id": "98595f52",
   "metadata": {},
   "outputs": [],
   "source": [
    "df['Specialization']=df.Specialization.fillna(pd.Series(np.random.choice(['Management_Courses','Industry_Courses','Business_Courses'],\n",
    "                                                                               p=[0.726,0.153,0.121],size=len(df))))"
   ]
  },
  {
   "cell_type": "code",
   "execution_count": 45,
   "id": "75d2ae16",
   "metadata": {},
   "outputs": [
    {
     "data": {
      "text/plain": [
       "Unemployed              60.61\n",
       "Not Specified           29.11\n",
       "Working Professional     7.64\n",
       "Student                  2.27\n",
       "Other                    0.17\n",
       "Housewife                0.11\n",
       "Businessman              0.09\n",
       "Name: What is your current occupation, dtype: float64"
      ]
     },
     "execution_count": 45,
     "metadata": {},
     "output_type": "execute_result"
    }
   ],
   "source": [
    "# Lets have a look on values of the column \"What is your current occupation\"\n",
    "round((df['What is your current occupation'].value_counts(normalize=True))*100,2)"
   ]
  },
  {
   "cell_type": "code",
   "execution_count": 46,
   "id": "d358334d",
   "metadata": {},
   "outputs": [
    {
     "data": {
      "image/png": "[encoded data removed]",
      "text/plain": [
       "<Figure size 432x288 with 1 Axes>"
      ]
     },
     "metadata": {
      "needs_background": "light"
     },
     "output_type": "display_data"
    }
   ],
   "source": [
    "# Lets have a look on column \"What is your current occupation\"\n",
    "\n",
    "plt.figure(figsize=(6,4))\n",
    "sns.countplot(df['What is your current occupation'],hue=df.Converted)\n",
    "plt.xticks(rotation=90)\n",
    "plt.show()"
   ]
  },
  {
   "cell_type": "code",
   "execution_count": 47,
   "id": "d53eb26c",
   "metadata": {},
   "outputs": [],
   "source": [
    "df['What is your current occupation'] = df['What is your current occupation'].apply(lambda x:x if x=='Unemployed' else 'Others')"
   ]
  },
  {
   "cell_type": "markdown",
   "id": "6ed03803",
   "metadata": {},
   "source": [
    "- Combining the categories other than \"Unemployed\" to category named \"Others\""
   ]
  },
  {
   "cell_type": "code",
   "execution_count": 48,
   "id": "941caef0",
   "metadata": {},
   "outputs": [
    {
     "data": {
      "text/plain": [
       "Unemployed    60.61\n",
       "Others        39.39\n",
       "Name: What is your current occupation, dtype: float64"
      ]
     },
     "execution_count": 48,
     "metadata": {},
     "output_type": "execute_result"
    }
   ],
   "source": [
    "# Again looking at te value counts of this column\n",
    "\n",
    "round((df['What is your current occupation'].value_counts(normalize=True))*100,2)"
   ]
  },
  {
   "cell_type": "code",
   "execution_count": 49,
   "id": "3ed073e3",
   "metadata": {},
   "outputs": [
    {
     "data": {
      "text/plain": [
       "0      2326\n",
       "2      1680\n",
       "3      1306\n",
       "4      1120\n",
       "5       783\n",
       "6       466\n",
       "1       395\n",
       "7       309\n",
       "8       224\n",
       "9       164\n",
       "10      114\n",
       "11       86\n",
       "13       48\n",
       "12       45\n",
       "14       36\n",
       "16       21\n",
       "15       18\n",
       "17       16\n",
       "18       15\n",
       "20       12\n",
       "19        9\n",
       "21        6\n",
       "23        6\n",
       "24        5\n",
       "25        5\n",
       "27        5\n",
       "22        3\n",
       "29        2\n",
       "28        2\n",
       "26        2\n",
       "141       1\n",
       "55        1\n",
       "30        1\n",
       "43        1\n",
       "74        1\n",
       "41        1\n",
       "54        1\n",
       "115       1\n",
       "251       1\n",
       "32        1\n",
       "42        1\n",
       "Name: TotalVisits, dtype: int64"
      ]
     },
     "execution_count": 49,
     "metadata": {},
     "output_type": "execute_result"
    }
   ],
   "source": [
    "# Looking at the value counts of the \"TotalVisits\" column\n",
    "df['TotalVisits'].value_counts()"
   ]
  },
  {
   "cell_type": "code",
   "execution_count": 50,
   "id": "3591da1a",
   "metadata": {},
   "outputs": [
    {
     "data": {
      "image/png": "[encoded data removed]",
      "text/plain": [
       "<Figure size 432x288 with 1 Axes>"
      ]
     },
     "metadata": {
      "needs_background": "light"
     },
     "output_type": "display_data"
    }
   ],
   "source": [
    "sns.boxplot(df['TotalVisits'])\n",
    "plt.show()"
   ]
  },
  {
   "cell_type": "markdown",
   "id": "b4794292",
   "metadata": {},
   "source": [
    "- By looking at the TotalVisits column, we get to know that it is a numerical columns.\n",
    "- The values of this column is highly skewed\n"
   ]
  },
  {
   "cell_type": "code",
   "execution_count": 51,
   "id": "521b427d",
   "metadata": {},
   "outputs": [
    {
     "data": {
      "image/png": "[encoded data removed]",
      "text/plain": [
       "<Figure size 432x288 with 1 Axes>"
      ]
     },
     "metadata": {
      "needs_background": "light"
     },
     "output_type": "display_data"
    }
   ],
   "source": [
    "sns.boxplot(df['Page Views Per Visit'])\n",
    "plt.show()\n",
    "#Rare but outliers existance is there"
   ]
  },
  {
   "cell_type": "markdown",
   "id": "e22634e8",
   "metadata": {},
   "source": [
    "- This is also the numerical column having highly skewed values.\n",
    "- Imputing the missing values of 'Page Views Per Visit' column by the median value."
   ]
  },
  {
   "cell_type": "code",
   "execution_count": 52,
   "id": "3ab257fb",
   "metadata": {},
   "outputs": [
    {
     "data": {
      "image/png": "[encoded data removed]",
      "text/plain": [
       "<Figure size 864x288 with 1 Axes>"
      ]
     },
     "metadata": {
      "needs_background": "light"
     },
     "output_type": "display_data"
    }
   ],
   "source": [
    "# Lets have a look on column \"Last Activity\"\n",
    "\n",
    "plt.figure(figsize=(12,4))\n",
    "sns.countplot(df['Last Activity'],hue=df.Converted)\n",
    "plt.xticks(rotation=90)\n",
    "plt.show()"
   ]
  },
  {
   "cell_type": "markdown",
   "id": "870d673f",
   "metadata": {},
   "source": [
    "- The Open emails and sent sms seems to have high convertion ratio as per the graph"
   ]
  },
  {
   "cell_type": "code",
   "execution_count": 53,
   "id": "27b3ab11",
   "metadata": {},
   "outputs": [
    {
     "data": {
      "image/png": "[encoded data removed]",
      "text/plain": [
       "<Figure size 864x288 with 1 Axes>"
      ]
     },
     "metadata": {
      "needs_background": "light"
     },
     "output_type": "display_data"
    }
   ],
   "source": [
    "# Lets have a look on column \"Lead Source\"\n",
    "\n",
    "plt.figure(figsize=(12,4))\n",
    "sns.countplot(df['Lead Source'],hue=df.Converted)\n",
    "plt.xticks(rotation=90)\n",
    "plt.show()"
   ]
  },
  {
   "cell_type": "markdown",
   "id": "b639dd6b",
   "metadata": {},
   "source": [
    "-  Maximum lead contributors are Direct Traffic and Google\n",
    "- Whereas the conversion ration is high through reference, organic search, google, direct traffic and olark chat"
   ]
  },
  {
   "cell_type": "code",
   "execution_count": 54,
   "id": "e3b25fae",
   "metadata": {},
   "outputs": [
    {
     "data": {
      "image/png": "[encoded data removed]",
      "text/plain": [
       "<Figure size 576x360 with 1 Axes>"
      ]
     },
     "metadata": {
      "needs_background": "light"
     },
     "output_type": "display_data"
    }
   ],
   "source": [
    "# Checking for the outliers present in the numerical features\n",
    "plt.figure(figsize=(8,5))\n",
    "plt.boxplot(df[['TotalVisits','Total Time Spent on Website','Page Views Per Visit']])\n",
    "plt.xticks([1,2,3],['TotalVisits','Total Time Spent on Website','Page Views Per Visit'])\n",
    "plt.show()"
   ]
  },
  {
   "cell_type": "markdown",
   "id": "0b92018d",
   "metadata": {},
   "source": [
    "No Outliers present in the \"Total Time Spent on Website\" column\n",
    "There are outliers present in \"TotalVisits\" and \"Page Views Per Visit\" columns"
   ]
  },
  {
   "cell_type": "code",
   "execution_count": 55,
   "id": "b51b92c4",
   "metadata": {},
   "outputs": [
    {
     "data": {
      "text/html": [
       "<div>\n",
       "<style scoped>\n",
       "    .dataframe tbody tr th:only-of-type {\n",
       "        vertical-align: middle;\n",
       "    }\n",
       "\n",
       "    .dataframe tbody tr th {\n",
       "        vertical-align: top;\n",
       "    }\n",
       "\n",
       "    .dataframe thead th {\n",
       "        text-align: right;\n",
       "    }\n",
       "</style>\n",
       "<table border=\"1\" class=\"dataframe\">\n",
       "  <thead>\n",
       "    <tr style=\"text-align: right;\">\n",
       "      <th></th>\n",
       "      <th>TotalVisits</th>\n",
       "      <th>Page Views Per Visit</th>\n",
       "    </tr>\n",
       "  </thead>\n",
       "  <tbody>\n",
       "    <tr>\n",
       "      <th>count</th>\n",
       "      <td>9240.000000</td>\n",
       "      <td>9240.000000</td>\n",
       "    </tr>\n",
       "    <tr>\n",
       "      <th>mean</th>\n",
       "      <td>3.394156</td>\n",
       "      <td>2.259632</td>\n",
       "    </tr>\n",
       "    <tr>\n",
       "      <th>std</th>\n",
       "      <td>4.836682</td>\n",
       "      <td>2.167520</td>\n",
       "    </tr>\n",
       "    <tr>\n",
       "      <th>min</th>\n",
       "      <td>0.000000</td>\n",
       "      <td>0.000000</td>\n",
       "    </tr>\n",
       "    <tr>\n",
       "      <th>5%</th>\n",
       "      <td>0.000000</td>\n",
       "      <td>0.000000</td>\n",
       "    </tr>\n",
       "    <tr>\n",
       "      <th>25%</th>\n",
       "      <td>0.000000</td>\n",
       "      <td>0.000000</td>\n",
       "    </tr>\n",
       "    <tr>\n",
       "      <th>50%</th>\n",
       "      <td>3.000000</td>\n",
       "      <td>2.000000</td>\n",
       "    </tr>\n",
       "    <tr>\n",
       "      <th>75%</th>\n",
       "      <td>5.000000</td>\n",
       "      <td>3.000000</td>\n",
       "    </tr>\n",
       "    <tr>\n",
       "      <th>90%</th>\n",
       "      <td>7.000000</td>\n",
       "      <td>5.000000</td>\n",
       "    </tr>\n",
       "    <tr>\n",
       "      <th>95%</th>\n",
       "      <td>10.000000</td>\n",
       "      <td>6.000000</td>\n",
       "    </tr>\n",
       "    <tr>\n",
       "      <th>99%</th>\n",
       "      <td>17.000000</td>\n",
       "      <td>9.000000</td>\n",
       "    </tr>\n",
       "    <tr>\n",
       "      <th>max</th>\n",
       "      <td>251.000000</td>\n",
       "      <td>55.000000</td>\n",
       "    </tr>\n",
       "  </tbody>\n",
       "</table>\n",
       "</div>"
      ],
      "text/plain": [
       "       TotalVisits  Page Views Per Visit\n",
       "count  9240.000000           9240.000000\n",
       "mean      3.394156              2.259632\n",
       "std       4.836682              2.167520\n",
       "min       0.000000              0.000000\n",
       "5%        0.000000              0.000000\n",
       "25%       0.000000              0.000000\n",
       "50%       3.000000              2.000000\n",
       "75%       5.000000              3.000000\n",
       "90%       7.000000              5.000000\n",
       "95%      10.000000              6.000000\n",
       "99%      17.000000              9.000000\n",
       "max     251.000000             55.000000"
      ]
     },
     "execution_count": 55,
     "metadata": {},
     "output_type": "execute_result"
    }
   ],
   "source": [
    "# Lets see the different levels of percentiles\n",
    "df[['TotalVisits','Page Views Per Visit']].describe(percentiles=[0.05,.25, .5, .75, .90, .95, .99])"
   ]
  },
  {
   "cell_type": "markdown",
   "id": "0503da10",
   "metadata": {},
   "source": [
    "- The outlier presence is clearly visible, so we will treat it in subsequent cells "
   ]
  },
  {
   "cell_type": "code",
   "execution_count": 56,
   "id": "d53fcda2",
   "metadata": {},
   "outputs": [
    {
     "data": {
      "image/png": "[encoded data removed]",
      "text/plain": [
       "<Figure size 432x288 with 1 Axes>"
      ]
     },
     "metadata": {
      "needs_background": "light"
     },
     "output_type": "display_data"
    }
   ],
   "source": [
    "#Outlier Treatment: Remove top & bottom 1% of the Column Outlier values\n",
    "\n",
    "Q3 = df.TotalVisits.quantile(0.99)\n",
    "df = df[(df.TotalVisits <= Q3)]\n",
    "Q1 = df.TotalVisits.quantile(0.01)\n",
    "df = df[(df.TotalVisits >= Q1)]\n",
    "sns.boxplot(y=df['TotalVisits'])\n",
    "plt.show()"
   ]
  },
  {
   "cell_type": "code",
   "execution_count": 57,
   "id": "a3d1e0ef",
   "metadata": {},
   "outputs": [
    {
     "data": {
      "image/png": "[encoded data removed]",
      "text/plain": [
       "<Figure size 432x288 with 1 Axes>"
      ]
     },
     "metadata": {
      "needs_background": "light"
     },
     "output_type": "display_data"
    }
   ],
   "source": [
    "#Outlier Treatment: Remove top & bottom 1% of the Column Outlier values\n",
    "\n",
    "Q3=df['Page Views Per Visit'].quantile(0.99)\n",
    "df=df[df['Page Views Per Visit']<=Q3]\n",
    "Q1=df['Page Views Per Visit'].quantile(0.01)\n",
    "df=df[df['Page Views Per Visit']>=Q1]\n",
    "sns.boxplot(y=df['Page Views Per Visit'])\n",
    "plt.show()"
   ]
  },
  {
   "cell_type": "code",
   "execution_count": 58,
   "id": "0d52c440",
   "metadata": {},
   "outputs": [
    {
     "data": {
      "image/png": "[encoded data removed]",
      "text/plain": [
       "<Figure size 432x288 with 1 Axes>"
      ]
     },
     "metadata": {
      "needs_background": "light"
     },
     "output_type": "display_data"
    }
   ],
   "source": [
    "#checking Spread of \"Total Visits\" vs \"Converted\" variable\n",
    "sns.boxplot(y = 'TotalVisits', x = 'Converted', data = df)\n",
    "plt.show()"
   ]
  },
  {
   "cell_type": "markdown",
   "id": "b753bcf4",
   "metadata": {},
   "source": [
    "Median for converted and not converted leads are the close.\n",
    "Nothng more can be said on the basis of Total Visits"
   ]
  },
  {
   "cell_type": "code",
   "execution_count": 59,
   "id": "37dd9564",
   "metadata": {},
   "outputs": [
    {
     "data": {
      "image/png": "[encoded data removed]",
      "text/plain": [
       "<Figure size 432x288 with 1 Axes>"
      ]
     },
     "metadata": {
      "needs_background": "light"
     },
     "output_type": "display_data"
    }
   ],
   "source": [
    "#checking Spread of \"Total Time Spent on Website\" vs \"Converted\" variable\n",
    "sns.boxplot(y = 'Total Time Spent on Website', x = 'Converted', data = df)\n",
    "plt.show()"
   ]
  },
  {
   "cell_type": "markdown",
   "id": "ffe75552",
   "metadata": {},
   "source": [
    "- Leads spending more time on the website are more likely to be converted.\n",
    "- Website should be attractive enough to hold the attention of visitor and keep them engage"
   ]
  },
  {
   "cell_type": "code",
   "execution_count": 60,
   "id": "3af4e7e2",
   "metadata": {},
   "outputs": [
    {
     "data": {
      "image/png": "[encoded data removed]",
      "text/plain": [
       "<Figure size 432x288 with 1 Axes>"
      ]
     },
     "metadata": {
      "needs_background": "light"
     },
     "output_type": "display_data"
    }
   ],
   "source": [
    "#checking Spread of \"Page Views Per Visit\" vs \"Converted\" variable\n",
    "\n",
    "sns.boxplot(x=df.Converted,y=df['Page Views Per Visit'])\n",
    "plt.show()"
   ]
  },
  {
   "cell_type": "markdown",
   "id": "2fbc7137",
   "metadata": {},
   "source": [
    "- While the median look same, other values differs in both box plots "
   ]
  },
  {
   "cell_type": "code",
   "execution_count": 61,
   "id": "3c633ac5",
   "metadata": {},
   "outputs": [
    {
     "data": {
      "text/plain": [
       "<AxesSubplot:>"
      ]
     },
     "execution_count": 61,
     "metadata": {},
     "output_type": "execute_result"
    },
    {
     "data": {
      "image/png": "[encoded data removed]",
      "text/plain": [
       "<Figure size 432x288 with 1 Axes>"
      ]
     },
     "metadata": {
      "needs_background": "light"
     },
     "output_type": "display_data"
    }
   ],
   "source": [
    "df['Lead Origin'].value_counts().plot.bar()"
   ]
  },
  {
   "cell_type": "markdown",
   "id": "0370631d",
   "metadata": {},
   "source": [
    "- it shows the high lead origin is Landing page submission over any other available channels"
   ]
  },
  {
   "cell_type": "code",
   "execution_count": 62,
   "id": "f70a535c",
   "metadata": {},
   "outputs": [
    {
     "data": {
      "text/plain": [
       "<AxesSubplot:>"
      ]
     },
     "execution_count": 62,
     "metadata": {},
     "output_type": "execute_result"
    },
    {
     "data": {
      "image/png": "[encoded data removed]",
      "text/plain": [
       "<Figure size 432x288 with 1 Axes>"
      ]
     },
     "metadata": {
      "needs_background": "light"
     },
     "output_type": "display_data"
    }
   ],
   "source": [
    "df['Lead Source'].value_counts().plot.bar()"
   ]
  },
  {
   "cell_type": "markdown",
   "id": "8e2c9ed8",
   "metadata": {},
   "source": [
    "- Maximum leads popping up from Google , followed by Direct traffic, olark chat, organic search, so on and so forth "
   ]
  },
  {
   "cell_type": "code",
   "execution_count": 63,
   "id": "0cd3ce0b",
   "metadata": {},
   "outputs": [
    {
     "data": {
      "text/plain": [
       "<AxesSubplot:>"
      ]
     },
     "execution_count": 63,
     "metadata": {},
     "output_type": "execute_result"
    },
    {
     "data": {
      "image/png": "[encoded data removed]",
      "text/plain": [
       "<Figure size 432x288 with 1 Axes>"
      ]
     },
     "metadata": {
      "needs_background": "light"
     },
     "output_type": "display_data"
    }
   ],
   "source": [
    "df['Do Not Email'].value_counts().plot.bar()"
   ]
  },
  {
   "cell_type": "markdown",
   "id": "aebb1c1c",
   "metadata": {},
   "source": [
    "- Maximum people have opted for No email, so this column does not hold any significant role"
   ]
  },
  {
   "cell_type": "code",
   "execution_count": 64,
   "id": "5cf4264d",
   "metadata": {},
   "outputs": [
    {
     "data": {
      "image/png": "[encoded data removed]",
      "text/plain": [
       "<Figure size 1440x288 with 4 Axes>"
      ]
     },
     "metadata": {
      "needs_background": "light"
     },
     "output_type": "display_data"
    }
   ],
   "source": [
    "plt.figure(figsize=(20,4))\n",
    "plt.subplot(1,4,1)\n",
    "df.groupby(['Lead Origin'])['Converted'].sum().plot(kind='bar')\n",
    "plt.xticks(rotation=90)\n",
    "plt.subplot(1,4,2)\n",
    "df.groupby(['Lead Source'])['Converted'].sum().plot(kind='bar')\n",
    "plt.xticks(rotation=90)\n",
    "plt.subplot(1,4,3)\n",
    "df.groupby(['Last Activity'])['Converted'].sum().plot(kind='bar')\n",
    "plt.xticks(rotation=90)\n",
    "plt.subplot(1,4,4)\n",
    "df.groupby(['Specialization'])['Converted'].sum().plot(kind='bar')\n",
    "plt.xticks(rotation=90)\n",
    "plt.show()"
   ]
  },
  {
   "cell_type": "markdown",
   "id": "f1eae2a6",
   "metadata": {},
   "source": [
    "### Visualizing Numerical variable and coorelation between them "
   ]
  },
  {
   "cell_type": "code",
   "execution_count": 65,
   "id": "5791c3c5",
   "metadata": {},
   "outputs": [
    {
     "data": {
      "image/png": "[encoded data removed]",
      "text/plain": [
       "<Figure size 720x720 with 20 Axes>"
      ]
     },
     "metadata": {
      "needs_background": "light"
     },
     "output_type": "display_data"
    }
   ],
   "source": [
    "sns.pairplot(df[['Converted','TotalVisits','Total Time Spent on Website','Page Views Per Visit']])\n",
    "plt.show()"
   ]
  },
  {
   "cell_type": "markdown",
   "id": "118743dc",
   "metadata": {},
   "source": [
    "- Total visits and page views per visit seems to have some coorelation"
   ]
  },
  {
   "cell_type": "markdown",
   "id": "de3ba883",
   "metadata": {},
   "source": [
    "## Box plot of Numerical variable "
   ]
  },
  {
   "cell_type": "code",
   "execution_count": 66,
   "id": "527ca1eb",
   "metadata": {},
   "outputs": [
    {
     "data": {
      "text/plain": [
       "(array([0, 1]), [Text(0, 0, '0'), Text(1, 0, '1')])"
      ]
     },
     "execution_count": 66,
     "metadata": {},
     "output_type": "execute_result"
    },
    {
     "data": {
      "image/png": "[encoded data removed]",
      "text/plain": [
       "<Figure size 2160x576 with 3 Axes>"
      ]
     },
     "metadata": {
      "needs_background": "light"
     },
     "output_type": "display_data"
    }
   ],
   "source": [
    "plt.figure(figsize=(30,8))\n",
    "plt.subplot(1,3,1)\n",
    "sns.boxplot(data=df,x='Converted',y='TotalVisits')\n",
    "plt.xticks(rotation=90)\n",
    "plt.subplot(1,3,2)\n",
    "sns.boxplot(data=df,x='Converted',y='Total Time Spent on Website')\n",
    "plt.xticks(rotation=90)\n",
    "plt.subplot(1,3,3)\n",
    "sns.boxplot(data=df,x='Converted',y='Page Views Per Visit')\n",
    "plt.xticks(rotation=90)\n"
   ]
  },
  {
   "cell_type": "markdown",
   "id": "1c87a574",
   "metadata": {},
   "source": [
    "### Data looks ready for modelling after EDA"
   ]
  },
  {
   "cell_type": "code",
   "execution_count": 67,
   "id": "9579d6ab",
   "metadata": {},
   "outputs": [
    {
     "data": {
      "text/plain": [
       "Index(['Lead Origin', 'Lead Source', 'Do Not Email', 'Do Not Call',\n",
       "       'Last Activity', 'Country', 'Specialization',\n",
       "       'What is your current occupation',\n",
       "       'What matters most to you in choosing a course', 'Search',\n",
       "       'Newspaper Article', 'X Education Forums', 'Newspaper',\n",
       "       'Digital Advertisement', 'Through Recommendations', 'Tags', 'City',\n",
       "       'A free copy of Mastering The Interview', 'Last Notable Activity'],\n",
       "      dtype='object')"
      ]
     },
     "execution_count": 67,
     "metadata": {},
     "output_type": "execute_result"
    }
   ],
   "source": [
    "df.loc[:, df.dtypes == 'object'].columns"
   ]
  },
  {
   "cell_type": "markdown",
   "id": "54fbae54",
   "metadata": {},
   "source": [
    "# Dummy Variable Creation "
   ]
  },
  {
   "cell_type": "code",
   "execution_count": 68,
   "id": "cb1c7974",
   "metadata": {},
   "outputs": [],
   "source": [
    "#for modelling , we have to drop these variables because they are generated by sales team\n",
    "\n",
    "df.drop(['Last Activity','Last Notable Activity','Tags'],inplace=True,axis=1)"
   ]
  },
  {
   "cell_type": "code",
   "execution_count": 69,
   "id": "aa6952d3",
   "metadata": {},
   "outputs": [
    {
     "data": {
      "text/html": [
       "<div>\n",
       "<style scoped>\n",
       "    .dataframe tbody tr th:only-of-type {\n",
       "        vertical-align: middle;\n",
       "    }\n",
       "\n",
       "    .dataframe tbody tr th {\n",
       "        vertical-align: top;\n",
       "    }\n",
       "\n",
       "    .dataframe thead th {\n",
       "        text-align: right;\n",
       "    }\n",
       "</style>\n",
       "<table border=\"1\" class=\"dataframe\">\n",
       "  <thead>\n",
       "    <tr style=\"text-align: right;\">\n",
       "      <th></th>\n",
       "      <th>Lead Origin</th>\n",
       "      <th>Lead Source</th>\n",
       "      <th>Do Not Email</th>\n",
       "      <th>Do Not Call</th>\n",
       "      <th>Converted</th>\n",
       "      <th>TotalVisits</th>\n",
       "      <th>Total Time Spent on Website</th>\n",
       "      <th>Page Views Per Visit</th>\n",
       "      <th>Country</th>\n",
       "      <th>Specialization</th>\n",
       "      <th>What is your current occupation</th>\n",
       "      <th>What matters most to you in choosing a course</th>\n",
       "      <th>Search</th>\n",
       "      <th>Newspaper Article</th>\n",
       "      <th>X Education Forums</th>\n",
       "      <th>Newspaper</th>\n",
       "      <th>Digital Advertisement</th>\n",
       "      <th>Through Recommendations</th>\n",
       "      <th>City</th>\n",
       "      <th>A free copy of Mastering The Interview</th>\n",
       "    </tr>\n",
       "  </thead>\n",
       "  <tbody>\n",
       "    <tr>\n",
       "      <th>0</th>\n",
       "      <td>API</td>\n",
       "      <td>Olark Chat</td>\n",
       "      <td>0</td>\n",
       "      <td>0</td>\n",
       "      <td>0</td>\n",
       "      <td>0</td>\n",
       "      <td>0</td>\n",
       "      <td>0</td>\n",
       "      <td>Unknown</td>\n",
       "      <td>Not Specified</td>\n",
       "      <td>Unemployed</td>\n",
       "      <td>Better Career Prospects</td>\n",
       "      <td>0</td>\n",
       "      <td>No</td>\n",
       "      <td>No</td>\n",
       "      <td>No</td>\n",
       "      <td>0</td>\n",
       "      <td>0</td>\n",
       "      <td>Unknown</td>\n",
       "      <td>0</td>\n",
       "    </tr>\n",
       "    <tr>\n",
       "      <th>1</th>\n",
       "      <td>API</td>\n",
       "      <td>Organic Search</td>\n",
       "      <td>0</td>\n",
       "      <td>0</td>\n",
       "      <td>0</td>\n",
       "      <td>5</td>\n",
       "      <td>674</td>\n",
       "      <td>2</td>\n",
       "      <td>India</td>\n",
       "      <td>Not Specified</td>\n",
       "      <td>Unemployed</td>\n",
       "      <td>Better Career Prospects</td>\n",
       "      <td>0</td>\n",
       "      <td>No</td>\n",
       "      <td>No</td>\n",
       "      <td>No</td>\n",
       "      <td>0</td>\n",
       "      <td>0</td>\n",
       "      <td>Unknown</td>\n",
       "      <td>0</td>\n",
       "    </tr>\n",
       "    <tr>\n",
       "      <th>2</th>\n",
       "      <td>Landing Page Submission</td>\n",
       "      <td>Direct Traffic</td>\n",
       "      <td>0</td>\n",
       "      <td>0</td>\n",
       "      <td>1</td>\n",
       "      <td>2</td>\n",
       "      <td>1532</td>\n",
       "      <td>2</td>\n",
       "      <td>India</td>\n",
       "      <td>Business_Courses</td>\n",
       "      <td>Others</td>\n",
       "      <td>Better Career Prospects</td>\n",
       "      <td>0</td>\n",
       "      <td>No</td>\n",
       "      <td>No</td>\n",
       "      <td>No</td>\n",
       "      <td>0</td>\n",
       "      <td>0</td>\n",
       "      <td>Mumbai</td>\n",
       "      <td>1</td>\n",
       "    </tr>\n",
       "    <tr>\n",
       "      <th>3</th>\n",
       "      <td>Landing Page Submission</td>\n",
       "      <td>Direct Traffic</td>\n",
       "      <td>0</td>\n",
       "      <td>0</td>\n",
       "      <td>0</td>\n",
       "      <td>1</td>\n",
       "      <td>305</td>\n",
       "      <td>1</td>\n",
       "      <td>India</td>\n",
       "      <td>Industry_Courses</td>\n",
       "      <td>Unemployed</td>\n",
       "      <td>Better Career Prospects</td>\n",
       "      <td>0</td>\n",
       "      <td>No</td>\n",
       "      <td>No</td>\n",
       "      <td>No</td>\n",
       "      <td>0</td>\n",
       "      <td>0</td>\n",
       "      <td>Mumbai</td>\n",
       "      <td>0</td>\n",
       "    </tr>\n",
       "    <tr>\n",
       "      <th>4</th>\n",
       "      <td>Landing Page Submission</td>\n",
       "      <td>Google</td>\n",
       "      <td>0</td>\n",
       "      <td>0</td>\n",
       "      <td>1</td>\n",
       "      <td>2</td>\n",
       "      <td>1428</td>\n",
       "      <td>1</td>\n",
       "      <td>India</td>\n",
       "      <td>Not Specified</td>\n",
       "      <td>Unemployed</td>\n",
       "      <td>Better Career Prospects</td>\n",
       "      <td>0</td>\n",
       "      <td>No</td>\n",
       "      <td>No</td>\n",
       "      <td>No</td>\n",
       "      <td>0</td>\n",
       "      <td>0</td>\n",
       "      <td>Mumbai</td>\n",
       "      <td>0</td>\n",
       "    </tr>\n",
       "  </tbody>\n",
       "</table>\n",
       "</div>"
      ],
      "text/plain": [
       "               Lead Origin     Lead Source  Do Not Email  Do Not Call  \\\n",
       "0                      API      Olark Chat             0            0   \n",
       "1                      API  Organic Search             0            0   \n",
       "2  Landing Page Submission  Direct Traffic             0            0   \n",
       "3  Landing Page Submission  Direct Traffic             0            0   \n",
       "4  Landing Page Submission          Google             0            0   \n",
       "\n",
       "   Converted  TotalVisits  Total Time Spent on Website  Page Views Per Visit  \\\n",
       "0          0            0                            0                     0   \n",
       "1          0            5                          674                     2   \n",
       "2          1            2                         1532                     2   \n",
       "3          0            1                          305                     1   \n",
       "4          1            2                         1428                     1   \n",
       "\n",
       "   Country    Specialization What is your current occupation  \\\n",
       "0  Unknown     Not Specified                      Unemployed   \n",
       "1    India     Not Specified                      Unemployed   \n",
       "2    India  Business_Courses                          Others   \n",
       "3    India  Industry_Courses                      Unemployed   \n",
       "4    India     Not Specified                      Unemployed   \n",
       "\n",
       "  What matters most to you in choosing a course  Search Newspaper Article  \\\n",
       "0                       Better Career Prospects       0                No   \n",
       "1                       Better Career Prospects       0                No   \n",
       "2                       Better Career Prospects       0                No   \n",
       "3                       Better Career Prospects       0                No   \n",
       "4                       Better Career Prospects       0                No   \n",
       "\n",
       "  X Education Forums Newspaper  Digital Advertisement  \\\n",
       "0                 No        No                      0   \n",
       "1                 No        No                      0   \n",
       "2                 No        No                      0   \n",
       "3                 No        No                      0   \n",
       "4                 No        No                      0   \n",
       "\n",
       "   Through Recommendations     City  A free copy of Mastering The Interview  \n",
       "0                        0  Unknown                                       0  \n",
       "1                        0  Unknown                                       0  \n",
       "2                        0   Mumbai                                       1  \n",
       "3                        0   Mumbai                                       0  \n",
       "4                        0   Mumbai                                       0  "
      ]
     },
     "execution_count": 69,
     "metadata": {},
     "output_type": "execute_result"
    }
   ],
   "source": [
    "# converting binary variables into 0 and 1\n",
    "def binary_var(x):\n",
    "    return x.map({'Yes' : 1, 'No' : 0})\n",
    "\n",
    "binary= ['Do Not Call','Do Not Email','Search','A free copy of Mastering The Interview','Through Recommendations',\n",
    "         'Digital Advertisement']\n",
    "\n",
    "df[binary]=df[binary].apply(binary_var)\n",
    "df.head()"
   ]
  },
  {
   "cell_type": "markdown",
   "id": "a4795aa0",
   "metadata": {},
   "source": [
    "### Treating categorical variable "
   ]
  },
  {
   "cell_type": "code",
   "execution_count": 70,
   "id": "232c880c",
   "metadata": {},
   "outputs": [
    {
     "data": {
      "text/html": [
       "<div>\n",
       "<style scoped>\n",
       "    .dataframe tbody tr th:only-of-type {\n",
       "        vertical-align: middle;\n",
       "    }\n",
       "\n",
       "    .dataframe tbody tr th {\n",
       "        vertical-align: top;\n",
       "    }\n",
       "\n",
       "    .dataframe thead th {\n",
       "        text-align: right;\n",
       "    }\n",
       "</style>\n",
       "<table border=\"1\" class=\"dataframe\">\n",
       "  <thead>\n",
       "    <tr style=\"text-align: right;\">\n",
       "      <th></th>\n",
       "      <th>Lead_Origin_API</th>\n",
       "      <th>Lead_Origin_Landing Page Submission</th>\n",
       "      <th>Lead_Origin_Lead Add Form</th>\n",
       "      <th>Lead_Origin_Lead Import</th>\n",
       "      <th>Lead_Origin_Quick Add Form</th>\n",
       "      <th>Lead_source_Direct Traffic</th>\n",
       "      <th>Lead_source_Facebook</th>\n",
       "      <th>Lead_source_Google</th>\n",
       "      <th>Lead_source_Olark Chat</th>\n",
       "      <th>Lead_source_Organic Search</th>\n",
       "      <th>...</th>\n",
       "      <th>What is your current occupation</th>\n",
       "      <th>What matters most to you in choosing a course</th>\n",
       "      <th>Search</th>\n",
       "      <th>Newspaper Article</th>\n",
       "      <th>X Education Forums</th>\n",
       "      <th>Newspaper</th>\n",
       "      <th>Digital Advertisement</th>\n",
       "      <th>Through Recommendations</th>\n",
       "      <th>City</th>\n",
       "      <th>A free copy of Mastering The Interview</th>\n",
       "    </tr>\n",
       "  </thead>\n",
       "  <tbody>\n",
       "    <tr>\n",
       "      <th>0</th>\n",
       "      <td>1</td>\n",
       "      <td>0</td>\n",
       "      <td>0</td>\n",
       "      <td>0</td>\n",
       "      <td>0</td>\n",
       "      <td>0</td>\n",
       "      <td>0</td>\n",
       "      <td>0</td>\n",
       "      <td>1</td>\n",
       "      <td>0</td>\n",
       "      <td>...</td>\n",
       "      <td>Unemployed</td>\n",
       "      <td>Better Career Prospects</td>\n",
       "      <td>0</td>\n",
       "      <td>No</td>\n",
       "      <td>No</td>\n",
       "      <td>No</td>\n",
       "      <td>0</td>\n",
       "      <td>0</td>\n",
       "      <td>Unknown</td>\n",
       "      <td>0</td>\n",
       "    </tr>\n",
       "    <tr>\n",
       "      <th>1</th>\n",
       "      <td>1</td>\n",
       "      <td>0</td>\n",
       "      <td>0</td>\n",
       "      <td>0</td>\n",
       "      <td>0</td>\n",
       "      <td>0</td>\n",
       "      <td>0</td>\n",
       "      <td>0</td>\n",
       "      <td>0</td>\n",
       "      <td>1</td>\n",
       "      <td>...</td>\n",
       "      <td>Unemployed</td>\n",
       "      <td>Better Career Prospects</td>\n",
       "      <td>0</td>\n",
       "      <td>No</td>\n",
       "      <td>No</td>\n",
       "      <td>No</td>\n",
       "      <td>0</td>\n",
       "      <td>0</td>\n",
       "      <td>Unknown</td>\n",
       "      <td>0</td>\n",
       "    </tr>\n",
       "    <tr>\n",
       "      <th>2</th>\n",
       "      <td>0</td>\n",
       "      <td>1</td>\n",
       "      <td>0</td>\n",
       "      <td>0</td>\n",
       "      <td>0</td>\n",
       "      <td>1</td>\n",
       "      <td>0</td>\n",
       "      <td>0</td>\n",
       "      <td>0</td>\n",
       "      <td>0</td>\n",
       "      <td>...</td>\n",
       "      <td>Others</td>\n",
       "      <td>Better Career Prospects</td>\n",
       "      <td>0</td>\n",
       "      <td>No</td>\n",
       "      <td>No</td>\n",
       "      <td>No</td>\n",
       "      <td>0</td>\n",
       "      <td>0</td>\n",
       "      <td>Mumbai</td>\n",
       "      <td>1</td>\n",
       "    </tr>\n",
       "    <tr>\n",
       "      <th>3</th>\n",
       "      <td>0</td>\n",
       "      <td>1</td>\n",
       "      <td>0</td>\n",
       "      <td>0</td>\n",
       "      <td>0</td>\n",
       "      <td>1</td>\n",
       "      <td>0</td>\n",
       "      <td>0</td>\n",
       "      <td>0</td>\n",
       "      <td>0</td>\n",
       "      <td>...</td>\n",
       "      <td>Unemployed</td>\n",
       "      <td>Better Career Prospects</td>\n",
       "      <td>0</td>\n",
       "      <td>No</td>\n",
       "      <td>No</td>\n",
       "      <td>No</td>\n",
       "      <td>0</td>\n",
       "      <td>0</td>\n",
       "      <td>Mumbai</td>\n",
       "      <td>0</td>\n",
       "    </tr>\n",
       "    <tr>\n",
       "      <th>4</th>\n",
       "      <td>0</td>\n",
       "      <td>1</td>\n",
       "      <td>0</td>\n",
       "      <td>0</td>\n",
       "      <td>0</td>\n",
       "      <td>0</td>\n",
       "      <td>0</td>\n",
       "      <td>1</td>\n",
       "      <td>0</td>\n",
       "      <td>0</td>\n",
       "      <td>...</td>\n",
       "      <td>Unemployed</td>\n",
       "      <td>Better Career Prospects</td>\n",
       "      <td>0</td>\n",
       "      <td>No</td>\n",
       "      <td>No</td>\n",
       "      <td>No</td>\n",
       "      <td>0</td>\n",
       "      <td>0</td>\n",
       "      <td>Mumbai</td>\n",
       "      <td>0</td>\n",
       "    </tr>\n",
       "  </tbody>\n",
       "</table>\n",
       "<p>5 rows × 59 columns</p>\n",
       "</div>"
      ],
      "text/plain": [
       "   Lead_Origin_API  Lead_Origin_Landing Page Submission  \\\n",
       "0                1                                    0   \n",
       "1                1                                    0   \n",
       "2                0                                    1   \n",
       "3                0                                    1   \n",
       "4                0                                    1   \n",
       "\n",
       "   Lead_Origin_Lead Add Form  Lead_Origin_Lead Import  \\\n",
       "0                          0                        0   \n",
       "1                          0                        0   \n",
       "2                          0                        0   \n",
       "3                          0                        0   \n",
       "4                          0                        0   \n",
       "\n",
       "   Lead_Origin_Quick Add Form  Lead_source_Direct Traffic  \\\n",
       "0                           0                           0   \n",
       "1                           0                           0   \n",
       "2                           0                           1   \n",
       "3                           0                           1   \n",
       "4                           0                           0   \n",
       "\n",
       "   Lead_source_Facebook  Lead_source_Google  Lead_source_Olark Chat  \\\n",
       "0                     0                   0                       1   \n",
       "1                     0                   0                       0   \n",
       "2                     0                   0                       0   \n",
       "3                     0                   0                       0   \n",
       "4                     0                   1                       0   \n",
       "\n",
       "   Lead_source_Organic Search  ...  What is your current occupation  \\\n",
       "0                           0  ...                       Unemployed   \n",
       "1                           1  ...                       Unemployed   \n",
       "2                           0  ...                           Others   \n",
       "3                           0  ...                       Unemployed   \n",
       "4                           0  ...                       Unemployed   \n",
       "\n",
       "   What matters most to you in choosing a course  Search  Newspaper Article  \\\n",
       "0                        Better Career Prospects       0                 No   \n",
       "1                        Better Career Prospects       0                 No   \n",
       "2                        Better Career Prospects       0                 No   \n",
       "3                        Better Career Prospects       0                 No   \n",
       "4                        Better Career Prospects       0                 No   \n",
       "\n",
       "   X Education Forums  Newspaper  Digital Advertisement  \\\n",
       "0                  No         No                      0   \n",
       "1                  No         No                      0   \n",
       "2                  No         No                      0   \n",
       "3                  No         No                      0   \n",
       "4                  No         No                      0   \n",
       "\n",
       "   Through Recommendations     City  A free copy of Mastering The Interview  \n",
       "0                        0  Unknown                                       0  \n",
       "1                        0  Unknown                                       0  \n",
       "2                        0   Mumbai                                       1  \n",
       "3                        0   Mumbai                                       0  \n",
       "4                        0   Mumbai                                       0  \n",
       "\n",
       "[5 rows x 59 columns]"
      ]
     },
     "execution_count": 70,
     "metadata": {},
     "output_type": "execute_result"
    }
   ],
   "source": [
    "LO=pd.get_dummies(df['Lead Origin'],prefix='Lead_Origin')\n",
    "LS=pd.get_dummies(df['Lead Source'],prefix=\"Lead_source\")\n",
    "SP=pd.get_dummies(df['Specialization'],prefix=\"Specialization\")\n",
    "CO=pd.get_dummies(df['Country'],prefix=\"Country\")\n",
    "CR=pd.get_dummies(df['What is your current occupation'],prefix=\"Current_Occu\")\n",
    "Course=pd.get_dummies(df['What matters most to you in choosing a course'],prefix=\"Choosing_Course\")\n",
    "NA=pd.get_dummies(df['Newspaper Article'],prefix='Newspaper Article')\n",
    "XE=pd.get_dummies(df['X Education Forums'],prefix='X Education Forums')\n",
    "NW=pd.get_dummies(df['Newspaper'],prefix='Newspaper')\n",
    "CT=pd.get_dummies(df['City'],prefix='City')\n",
    "\n",
    "\n",
    "df=pd.concat([LO,LS,SP,CO,CR,Course,NA,XE,NW,CT,df],axis=1)\n",
    "df.head()"
   ]
  },
  {
   "cell_type": "code",
   "execution_count": 71,
   "id": "381ad2f4",
   "metadata": {},
   "outputs": [
    {
     "data": {
      "text/plain": [
       "(9090, 59)"
      ]
     },
     "execution_count": 71,
     "metadata": {},
     "output_type": "execute_result"
    }
   ],
   "source": [
    "df.shape\n",
    "#total 59 columns "
   ]
  },
  {
   "cell_type": "code",
   "execution_count": 72,
   "id": "0e74bff0",
   "metadata": {},
   "outputs": [],
   "source": [
    "df.drop(['Lead Origin','Lead Source','Country','Specialization','What is your current occupation','What matters most to you in choosing a course',\n",
    "         'Newspaper Article','X Education Forums',\n",
    "         'Newspaper','City'],inplace=True,axis=1)\n",
    "\n",
    "#dropping original columns after dummy creation "
   ]
  },
  {
   "cell_type": "code",
   "execution_count": 73,
   "id": "08ceb886",
   "metadata": {},
   "outputs": [
    {
     "data": {
      "text/html": [
       "<div>\n",
       "<style scoped>\n",
       "    .dataframe tbody tr th:only-of-type {\n",
       "        vertical-align: middle;\n",
       "    }\n",
       "\n",
       "    .dataframe tbody tr th {\n",
       "        vertical-align: top;\n",
       "    }\n",
       "\n",
       "    .dataframe thead th {\n",
       "        text-align: right;\n",
       "    }\n",
       "</style>\n",
       "<table border=\"1\" class=\"dataframe\">\n",
       "  <thead>\n",
       "    <tr style=\"text-align: right;\">\n",
       "      <th></th>\n",
       "      <th>Lead_Origin_API</th>\n",
       "      <th>Lead_Origin_Landing Page Submission</th>\n",
       "      <th>Lead_Origin_Lead Add Form</th>\n",
       "      <th>Lead_Origin_Lead Import</th>\n",
       "      <th>Lead_Origin_Quick Add Form</th>\n",
       "      <th>Lead_source_Direct Traffic</th>\n",
       "      <th>Lead_source_Facebook</th>\n",
       "      <th>Lead_source_Google</th>\n",
       "      <th>Lead_source_Olark Chat</th>\n",
       "      <th>Lead_source_Organic Search</th>\n",
       "      <th>...</th>\n",
       "      <th>Do Not Email</th>\n",
       "      <th>Do Not Call</th>\n",
       "      <th>Converted</th>\n",
       "      <th>TotalVisits</th>\n",
       "      <th>Total Time Spent on Website</th>\n",
       "      <th>Page Views Per Visit</th>\n",
       "      <th>Search</th>\n",
       "      <th>Digital Advertisement</th>\n",
       "      <th>Through Recommendations</th>\n",
       "      <th>A free copy of Mastering The Interview</th>\n",
       "    </tr>\n",
       "  </thead>\n",
       "  <tbody>\n",
       "    <tr>\n",
       "      <th>0</th>\n",
       "      <td>1</td>\n",
       "      <td>0</td>\n",
       "      <td>0</td>\n",
       "      <td>0</td>\n",
       "      <td>0</td>\n",
       "      <td>0</td>\n",
       "      <td>0</td>\n",
       "      <td>0</td>\n",
       "      <td>1</td>\n",
       "      <td>0</td>\n",
       "      <td>...</td>\n",
       "      <td>0</td>\n",
       "      <td>0</td>\n",
       "      <td>0</td>\n",
       "      <td>0</td>\n",
       "      <td>0</td>\n",
       "      <td>0</td>\n",
       "      <td>0</td>\n",
       "      <td>0</td>\n",
       "      <td>0</td>\n",
       "      <td>0</td>\n",
       "    </tr>\n",
       "    <tr>\n",
       "      <th>1</th>\n",
       "      <td>1</td>\n",
       "      <td>0</td>\n",
       "      <td>0</td>\n",
       "      <td>0</td>\n",
       "      <td>0</td>\n",
       "      <td>0</td>\n",
       "      <td>0</td>\n",
       "      <td>0</td>\n",
       "      <td>0</td>\n",
       "      <td>1</td>\n",
       "      <td>...</td>\n",
       "      <td>0</td>\n",
       "      <td>0</td>\n",
       "      <td>0</td>\n",
       "      <td>5</td>\n",
       "      <td>674</td>\n",
       "      <td>2</td>\n",
       "      <td>0</td>\n",
       "      <td>0</td>\n",
       "      <td>0</td>\n",
       "      <td>0</td>\n",
       "    </tr>\n",
       "    <tr>\n",
       "      <th>2</th>\n",
       "      <td>0</td>\n",
       "      <td>1</td>\n",
       "      <td>0</td>\n",
       "      <td>0</td>\n",
       "      <td>0</td>\n",
       "      <td>1</td>\n",
       "      <td>0</td>\n",
       "      <td>0</td>\n",
       "      <td>0</td>\n",
       "      <td>0</td>\n",
       "      <td>...</td>\n",
       "      <td>0</td>\n",
       "      <td>0</td>\n",
       "      <td>1</td>\n",
       "      <td>2</td>\n",
       "      <td>1532</td>\n",
       "      <td>2</td>\n",
       "      <td>0</td>\n",
       "      <td>0</td>\n",
       "      <td>0</td>\n",
       "      <td>1</td>\n",
       "    </tr>\n",
       "    <tr>\n",
       "      <th>3</th>\n",
       "      <td>0</td>\n",
       "      <td>1</td>\n",
       "      <td>0</td>\n",
       "      <td>0</td>\n",
       "      <td>0</td>\n",
       "      <td>1</td>\n",
       "      <td>0</td>\n",
       "      <td>0</td>\n",
       "      <td>0</td>\n",
       "      <td>0</td>\n",
       "      <td>...</td>\n",
       "      <td>0</td>\n",
       "      <td>0</td>\n",
       "      <td>0</td>\n",
       "      <td>1</td>\n",
       "      <td>305</td>\n",
       "      <td>1</td>\n",
       "      <td>0</td>\n",
       "      <td>0</td>\n",
       "      <td>0</td>\n",
       "      <td>0</td>\n",
       "    </tr>\n",
       "    <tr>\n",
       "      <th>4</th>\n",
       "      <td>0</td>\n",
       "      <td>1</td>\n",
       "      <td>0</td>\n",
       "      <td>0</td>\n",
       "      <td>0</td>\n",
       "      <td>0</td>\n",
       "      <td>0</td>\n",
       "      <td>1</td>\n",
       "      <td>0</td>\n",
       "      <td>0</td>\n",
       "      <td>...</td>\n",
       "      <td>0</td>\n",
       "      <td>0</td>\n",
       "      <td>1</td>\n",
       "      <td>2</td>\n",
       "      <td>1428</td>\n",
       "      <td>1</td>\n",
       "      <td>0</td>\n",
       "      <td>0</td>\n",
       "      <td>0</td>\n",
       "      <td>0</td>\n",
       "    </tr>\n",
       "  </tbody>\n",
       "</table>\n",
       "<p>5 rows × 49 columns</p>\n",
       "</div>"
      ],
      "text/plain": [
       "   Lead_Origin_API  Lead_Origin_Landing Page Submission  \\\n",
       "0                1                                    0   \n",
       "1                1                                    0   \n",
       "2                0                                    1   \n",
       "3                0                                    1   \n",
       "4                0                                    1   \n",
       "\n",
       "   Lead_Origin_Lead Add Form  Lead_Origin_Lead Import  \\\n",
       "0                          0                        0   \n",
       "1                          0                        0   \n",
       "2                          0                        0   \n",
       "3                          0                        0   \n",
       "4                          0                        0   \n",
       "\n",
       "   Lead_Origin_Quick Add Form  Lead_source_Direct Traffic  \\\n",
       "0                           0                           0   \n",
       "1                           0                           0   \n",
       "2                           0                           1   \n",
       "3                           0                           1   \n",
       "4                           0                           0   \n",
       "\n",
       "   Lead_source_Facebook  Lead_source_Google  Lead_source_Olark Chat  \\\n",
       "0                     0                   0                       1   \n",
       "1                     0                   0                       0   \n",
       "2                     0                   0                       0   \n",
       "3                     0                   0                       0   \n",
       "4                     0                   1                       0   \n",
       "\n",
       "   Lead_source_Organic Search  ...  Do Not Email  Do Not Call  Converted  \\\n",
       "0                           0  ...             0            0          0   \n",
       "1                           1  ...             0            0          0   \n",
       "2                           0  ...             0            0          1   \n",
       "3                           0  ...             0            0          0   \n",
       "4                           0  ...             0            0          1   \n",
       "\n",
       "   TotalVisits  Total Time Spent on Website  Page Views Per Visit  Search  \\\n",
       "0            0                            0                     0       0   \n",
       "1            5                          674                     2       0   \n",
       "2            2                         1532                     2       0   \n",
       "3            1                          305                     1       0   \n",
       "4            2                         1428                     1       0   \n",
       "\n",
       "   Digital Advertisement  Through Recommendations  \\\n",
       "0                      0                        0   \n",
       "1                      0                        0   \n",
       "2                      0                        0   \n",
       "3                      0                        0   \n",
       "4                      0                        0   \n",
       "\n",
       "   A free copy of Mastering The Interview  \n",
       "0                                       0  \n",
       "1                                       0  \n",
       "2                                       1  \n",
       "3                                       0  \n",
       "4                                       0  \n",
       "\n",
       "[5 rows x 49 columns]"
      ]
     },
     "execution_count": 73,
     "metadata": {},
     "output_type": "execute_result"
    }
   ],
   "source": [
    "df.head()\n",
    "#left with 49 columns "
   ]
  },
  {
   "cell_type": "markdown",
   "id": "5a4597c2",
   "metadata": {},
   "source": [
    "# Model Building \n",
    "### starting with train_test_split"
   ]
  },
  {
   "cell_type": "code",
   "execution_count": 74,
   "id": "8d3169e4",
   "metadata": {},
   "outputs": [],
   "source": [
    "X=df.drop(['Converted'],axis=1)\n",
    "y=df['Converted']"
   ]
  },
  {
   "cell_type": "code",
   "execution_count": 75,
   "id": "8bd4d694",
   "metadata": {},
   "outputs": [],
   "source": [
    "X_train,X_test,y_train,y_test=train_test_split(X,y,train_size=0.7,test_size=0.3,random_state=100)"
   ]
  },
  {
   "cell_type": "code",
   "execution_count": 76,
   "id": "3ccbb046",
   "metadata": {},
   "outputs": [],
   "source": [
    "# feature scaling \n",
    "# using standardscaler \n",
    "from sklearn.preprocessing import StandardScaler"
   ]
  },
  {
   "cell_type": "code",
   "execution_count": 77,
   "id": "e0913c6d",
   "metadata": {},
   "outputs": [
    {
     "data": {
      "text/html": [
       "<div>\n",
       "<style scoped>\n",
       "    .dataframe tbody tr th:only-of-type {\n",
       "        vertical-align: middle;\n",
       "    }\n",
       "\n",
       "    .dataframe tbody tr th {\n",
       "        vertical-align: top;\n",
       "    }\n",
       "\n",
       "    .dataframe thead th {\n",
       "        text-align: right;\n",
       "    }\n",
       "</style>\n",
       "<table border=\"1\" class=\"dataframe\">\n",
       "  <thead>\n",
       "    <tr style=\"text-align: right;\">\n",
       "      <th></th>\n",
       "      <th>Lead_Origin_API</th>\n",
       "      <th>Lead_Origin_Landing Page Submission</th>\n",
       "      <th>Lead_Origin_Lead Add Form</th>\n",
       "      <th>Lead_Origin_Lead Import</th>\n",
       "      <th>Lead_Origin_Quick Add Form</th>\n",
       "      <th>Lead_source_Direct Traffic</th>\n",
       "      <th>Lead_source_Facebook</th>\n",
       "      <th>Lead_source_Google</th>\n",
       "      <th>Lead_source_Olark Chat</th>\n",
       "      <th>Lead_source_Organic Search</th>\n",
       "      <th>...</th>\n",
       "      <th>City_Unknown</th>\n",
       "      <th>Do Not Email</th>\n",
       "      <th>Do Not Call</th>\n",
       "      <th>TotalVisits</th>\n",
       "      <th>Total Time Spent on Website</th>\n",
       "      <th>Page Views Per Visit</th>\n",
       "      <th>Search</th>\n",
       "      <th>Digital Advertisement</th>\n",
       "      <th>Through Recommendations</th>\n",
       "      <th>A free copy of Mastering The Interview</th>\n",
       "    </tr>\n",
       "  </thead>\n",
       "  <tbody>\n",
       "    <tr>\n",
       "      <th>302</th>\n",
       "      <td>1</td>\n",
       "      <td>0</td>\n",
       "      <td>0</td>\n",
       "      <td>0</td>\n",
       "      <td>0</td>\n",
       "      <td>0</td>\n",
       "      <td>0</td>\n",
       "      <td>0</td>\n",
       "      <td>0</td>\n",
       "      <td>0</td>\n",
       "      <td>...</td>\n",
       "      <td>1</td>\n",
       "      <td>0</td>\n",
       "      <td>0</td>\n",
       "      <td>1.340545</td>\n",
       "      <td>-0.428736</td>\n",
       "      <td>-0.080064</td>\n",
       "      <td>0</td>\n",
       "      <td>0</td>\n",
       "      <td>0</td>\n",
       "      <td>0</td>\n",
       "    </tr>\n",
       "    <tr>\n",
       "      <th>6087</th>\n",
       "      <td>1</td>\n",
       "      <td>0</td>\n",
       "      <td>0</td>\n",
       "      <td>0</td>\n",
       "      <td>0</td>\n",
       "      <td>0</td>\n",
       "      <td>0</td>\n",
       "      <td>0</td>\n",
       "      <td>1</td>\n",
       "      <td>0</td>\n",
       "      <td>...</td>\n",
       "      <td>1</td>\n",
       "      <td>1</td>\n",
       "      <td>0</td>\n",
       "      <td>-1.070195</td>\n",
       "      <td>-0.887355</td>\n",
       "      <td>-1.140306</td>\n",
       "      <td>0</td>\n",
       "      <td>0</td>\n",
       "      <td>0</td>\n",
       "      <td>0</td>\n",
       "    </tr>\n",
       "    <tr>\n",
       "      <th>1033</th>\n",
       "      <td>1</td>\n",
       "      <td>0</td>\n",
       "      <td>0</td>\n",
       "      <td>0</td>\n",
       "      <td>0</td>\n",
       "      <td>0</td>\n",
       "      <td>0</td>\n",
       "      <td>1</td>\n",
       "      <td>0</td>\n",
       "      <td>0</td>\n",
       "      <td>...</td>\n",
       "      <td>1</td>\n",
       "      <td>0</td>\n",
       "      <td>0</td>\n",
       "      <td>0.651762</td>\n",
       "      <td>-0.025151</td>\n",
       "      <td>1.510299</td>\n",
       "      <td>0</td>\n",
       "      <td>0</td>\n",
       "      <td>0</td>\n",
       "      <td>0</td>\n",
       "    </tr>\n",
       "    <tr>\n",
       "      <th>7656</th>\n",
       "      <td>0</td>\n",
       "      <td>1</td>\n",
       "      <td>0</td>\n",
       "      <td>0</td>\n",
       "      <td>0</td>\n",
       "      <td>1</td>\n",
       "      <td>0</td>\n",
       "      <td>0</td>\n",
       "      <td>0</td>\n",
       "      <td>0</td>\n",
       "      <td>...</td>\n",
       "      <td>0</td>\n",
       "      <td>1</td>\n",
       "      <td>0</td>\n",
       "      <td>0.996153</td>\n",
       "      <td>-0.241619</td>\n",
       "      <td>2.040420</td>\n",
       "      <td>0</td>\n",
       "      <td>0</td>\n",
       "      <td>0</td>\n",
       "      <td>1</td>\n",
       "    </tr>\n",
       "    <tr>\n",
       "      <th>3241</th>\n",
       "      <td>0</td>\n",
       "      <td>1</td>\n",
       "      <td>0</td>\n",
       "      <td>0</td>\n",
       "      <td>0</td>\n",
       "      <td>1</td>\n",
       "      <td>0</td>\n",
       "      <td>0</td>\n",
       "      <td>0</td>\n",
       "      <td>0</td>\n",
       "      <td>...</td>\n",
       "      <td>0</td>\n",
       "      <td>0</td>\n",
       "      <td>0</td>\n",
       "      <td>0.307371</td>\n",
       "      <td>0.897591</td>\n",
       "      <td>-0.610185</td>\n",
       "      <td>0</td>\n",
       "      <td>0</td>\n",
       "      <td>0</td>\n",
       "      <td>1</td>\n",
       "    </tr>\n",
       "  </tbody>\n",
       "</table>\n",
       "<p>5 rows × 48 columns</p>\n",
       "</div>"
      ],
      "text/plain": [
       "      Lead_Origin_API  Lead_Origin_Landing Page Submission  \\\n",
       "302                 1                                    0   \n",
       "6087                1                                    0   \n",
       "1033                1                                    0   \n",
       "7656                0                                    1   \n",
       "3241                0                                    1   \n",
       "\n",
       "      Lead_Origin_Lead Add Form  Lead_Origin_Lead Import  \\\n",
       "302                           0                        0   \n",
       "6087                          0                        0   \n",
       "1033                          0                        0   \n",
       "7656                          0                        0   \n",
       "3241                          0                        0   \n",
       "\n",
       "      Lead_Origin_Quick Add Form  Lead_source_Direct Traffic  \\\n",
       "302                            0                           0   \n",
       "6087                           0                           0   \n",
       "1033                           0                           0   \n",
       "7656                           0                           1   \n",
       "3241                           0                           1   \n",
       "\n",
       "      Lead_source_Facebook  Lead_source_Google  Lead_source_Olark Chat  \\\n",
       "302                      0                   0                       0   \n",
       "6087                     0                   0                       1   \n",
       "1033                     0                   1                       0   \n",
       "7656                     0                   0                       0   \n",
       "3241                     0                   0                       0   \n",
       "\n",
       "      Lead_source_Organic Search  ...  City_Unknown  Do Not Email  \\\n",
       "302                            0  ...             1             0   \n",
       "6087                           0  ...             1             1   \n",
       "1033                           0  ...             1             0   \n",
       "7656                           0  ...             0             1   \n",
       "3241                           0  ...             0             0   \n",
       "\n",
       "      Do Not Call  TotalVisits  Total Time Spent on Website  \\\n",
       "302             0     1.340545                    -0.428736   \n",
       "6087            0    -1.070195                    -0.887355   \n",
       "1033            0     0.651762                    -0.025151   \n",
       "7656            0     0.996153                    -0.241619   \n",
       "3241            0     0.307371                     0.897591   \n",
       "\n",
       "      Page Views Per Visit  Search  Digital Advertisement  \\\n",
       "302              -0.080064       0                      0   \n",
       "6087             -1.140306       0                      0   \n",
       "1033              1.510299       0                      0   \n",
       "7656              2.040420       0                      0   \n",
       "3241             -0.610185       0                      0   \n",
       "\n",
       "      Through Recommendations  A free copy of Mastering The Interview  \n",
       "302                         0                                       0  \n",
       "6087                        0                                       0  \n",
       "1033                        0                                       0  \n",
       "7656                        0                                       1  \n",
       "3241                        0                                       1  \n",
       "\n",
       "[5 rows x 48 columns]"
      ]
     },
     "execution_count": 77,
     "metadata": {},
     "output_type": "execute_result"
    }
   ],
   "source": [
    "#scaling only numerical variable \n",
    "scaler = StandardScaler()\n",
    "X_train[['TotalVisits','Total Time Spent on Website','Page Views Per Visit']] = scaler.fit_transform(X_train[['TotalVisits','Total Time Spent on Website','Page Views Per Visit']])\n",
    "X_train.head()"
   ]
  },
  {
   "cell_type": "code",
   "execution_count": 78,
   "id": "96cba324",
   "metadata": {},
   "outputs": [
    {
     "name": "stdout",
     "output_type": "stream",
     "text": [
      "<class 'pandas.core.frame.DataFrame'>\n",
      "Int64Index: 9090 entries, 0 to 9239\n",
      "Data columns (total 49 columns):\n",
      " #   Column                                     Non-Null Count  Dtype\n",
      "---  ------                                     --------------  -----\n",
      " 0   Lead_Origin_API                            9090 non-null   uint8\n",
      " 1   Lead_Origin_Landing Page Submission        9090 non-null   uint8\n",
      " 2   Lead_Origin_Lead Add Form                  9090 non-null   uint8\n",
      " 3   Lead_Origin_Lead Import                    9090 non-null   uint8\n",
      " 4   Lead_Origin_Quick Add Form                 9090 non-null   uint8\n",
      " 5   Lead_source_Direct Traffic                 9090 non-null   uint8\n",
      " 6   Lead_source_Facebook                       9090 non-null   uint8\n",
      " 7   Lead_source_Google                         9090 non-null   uint8\n",
      " 8   Lead_source_Olark Chat                     9090 non-null   uint8\n",
      " 9   Lead_source_Organic Search                 9090 non-null   uint8\n",
      " 10  Lead_source_Reference                      9090 non-null   uint8\n",
      " 11  Lead_source_Referral Sites                 9090 non-null   uint8\n",
      " 12  Lead_source_Welingak Website               9090 non-null   uint8\n",
      " 13  Lead_source_others                         9090 non-null   uint8\n",
      " 14  Specialization_Business_Courses            9090 non-null   uint8\n",
      " 15  Specialization_Industry_Courses            9090 non-null   uint8\n",
      " 16  Specialization_Management_Courses          9090 non-null   uint8\n",
      " 17  Specialization_Not Specified               9090 non-null   uint8\n",
      " 18  Country_India                              9090 non-null   uint8\n",
      " 19  Country_Outside India                      9090 non-null   uint8\n",
      " 20  Country_Unknown                            9090 non-null   uint8\n",
      " 21  Current_Occu_Others                        9090 non-null   uint8\n",
      " 22  Current_Occu_Unemployed                    9090 non-null   uint8\n",
      " 23  Choosing_Course_Better Career Prospects    9090 non-null   uint8\n",
      " 24  Choosing_Course_Flexibility & Convenience  9090 non-null   uint8\n",
      " 25  Choosing_Course_Not Specified              9090 non-null   uint8\n",
      " 26  Choosing_Course_Other                      9090 non-null   uint8\n",
      " 27  Newspaper Article_No                       9090 non-null   uint8\n",
      " 28  Newspaper Article_Yes                      9090 non-null   uint8\n",
      " 29  X Education Forums_No                      9090 non-null   uint8\n",
      " 30  Newspaper_No                               9090 non-null   uint8\n",
      " 31  Newspaper_Yes                              9090 non-null   uint8\n",
      " 32  City_Mumbai                                9090 non-null   uint8\n",
      " 33  City_Other Cities                          9090 non-null   uint8\n",
      " 34  City_Other Cities of Maharashtra           9090 non-null   uint8\n",
      " 35  City_Other Metro Cities                    9090 non-null   uint8\n",
      " 36  City_Thane & Outskirts                     9090 non-null   uint8\n",
      " 37  City_Tier II Cities                        9090 non-null   uint8\n",
      " 38  City_Unknown                               9090 non-null   uint8\n",
      " 39  Do Not Email                               9090 non-null   int64\n",
      " 40  Do Not Call                                9090 non-null   int64\n",
      " 41  Converted                                  9090 non-null   int64\n",
      " 42  TotalVisits                                9090 non-null   int32\n",
      " 43  Total Time Spent on Website                9090 non-null   int64\n",
      " 44  Page Views Per Visit                       9090 non-null   int32\n",
      " 45  Search                                     9090 non-null   int64\n",
      " 46  Digital Advertisement                      9090 non-null   int64\n",
      " 47  Through Recommendations                    9090 non-null   int64\n",
      " 48  A free copy of Mastering The Interview     9090 non-null   int64\n",
      "dtypes: int32(2), int64(8), uint8(39)\n",
      "memory usage: 1.3 MB\n"
     ]
    }
   ],
   "source": [
    "df.info()\n",
    "# data_type integar, all columns sorted "
   ]
  },
  {
   "cell_type": "markdown",
   "id": "6d753986",
   "metadata": {},
   "source": [
    "- First model using GLM technique"
   ]
  },
  {
   "cell_type": "code",
   "execution_count": 79,
   "id": "d0bded13",
   "metadata": {},
   "outputs": [
    {
     "data": {
      "text/html": [
       "<table class=\"simpletable\">\n",
       "<caption>Generalized Linear Model Regression Results</caption>\n",
       "<tr>\n",
       "  <th>Dep. Variable:</th>       <td>Converted</td>    <th>  No. Observations:  </th>   <td>  6363</td>  \n",
       "</tr>\n",
       "<tr>\n",
       "  <th>Model:</th>                  <td>GLM</td>       <th>  Df Residuals:      </th>   <td>  6325</td>  \n",
       "</tr>\n",
       "<tr>\n",
       "  <th>Model Family:</th>        <td>Binomial</td>     <th>  Df Model:          </th>   <td>    37</td>  \n",
       "</tr>\n",
       "<tr>\n",
       "  <th>Link Function:</th>         <td>logit</td>      <th>  Scale:             </th>  <td>  1.0000</td> \n",
       "</tr>\n",
       "<tr>\n",
       "  <th>Method:</th>                <td>IRLS</td>       <th>  Log-Likelihood:    </th>  <td>     nan</td> \n",
       "</tr>\n",
       "<tr>\n",
       "  <th>Date:</th>            <td>Tue, 10 May 2022</td> <th>  Deviance:          </th> <td>1.2471e+05</td>\n",
       "</tr>\n",
       "<tr>\n",
       "  <th>Time:</th>                <td>22:25:04</td>     <th>  Pearson chi2:      </th>  <td>6.10e+18</td> \n",
       "</tr>\n",
       "<tr>\n",
       "  <th>No. Iterations:</th>         <td>100</td>       <th>                     </th>      <td> </td>    \n",
       "</tr>\n",
       "<tr>\n",
       "  <th>Covariance Type:</th>     <td>nonrobust</td>    <th>                     </th>      <td> </td>    \n",
       "</tr>\n",
       "</table>\n",
       "<table class=\"simpletable\">\n",
       "<tr>\n",
       "                      <td></td>                         <th>coef</th>     <th>std err</th>      <th>z</th>      <th>P>|z|</th>  <th>[0.025</th>    <th>0.975]</th>  \n",
       "</tr>\n",
       "<tr>\n",
       "  <th>Lead_Origin_API</th>                           <td>-1.606e+14</td> <td> 1.95e+07</td> <td>-8.24e+06</td> <td> 0.000</td> <td>-1.61e+14</td> <td>-1.61e+14</td>\n",
       "</tr>\n",
       "<tr>\n",
       "  <th>Lead_Origin_Landing Page Submission</th>       <td>-6.753e+14</td> <td> 1.92e+07</td> <td>-3.51e+07</td> <td> 0.000</td> <td>-6.75e+14</td> <td>-6.75e+14</td>\n",
       "</tr>\n",
       "<tr>\n",
       "  <th>Lead_Origin_Lead Add Form</th>                 <td> 2.016e+15</td> <td> 2.17e+07</td> <td> 9.29e+07</td> <td> 0.000</td> <td> 2.02e+15</td> <td> 2.02e+15</td>\n",
       "</tr>\n",
       "<tr>\n",
       "  <th>Lead_Origin_Lead Import</th>                   <td> 3.121e+15</td> <td> 5.67e+07</td> <td>  5.5e+07</td> <td> 0.000</td> <td> 3.12e+15</td> <td> 3.12e+15</td>\n",
       "</tr>\n",
       "<tr>\n",
       "  <th>Lead_Origin_Quick Add Form</th>                <td>-1.094e+15</td> <td> 5.65e+07</td> <td>-1.94e+07</td> <td> 0.000</td> <td>-1.09e+15</td> <td>-1.09e+15</td>\n",
       "</tr>\n",
       "<tr>\n",
       "  <th>Lead_source_Direct Traffic</th>                <td> 8.188e+14</td> <td> 9.06e+06</td> <td> 9.03e+07</td> <td> 0.000</td> <td> 8.19e+14</td> <td> 8.19e+14</td>\n",
       "</tr>\n",
       "<tr>\n",
       "  <th>Lead_source_Facebook</th>                      <td>-2.558e+15</td> <td> 6.01e+07</td> <td>-4.26e+07</td> <td> 0.000</td> <td>-2.56e+15</td> <td>-2.56e+15</td>\n",
       "</tr>\n",
       "<tr>\n",
       "  <th>Lead_source_Google</th>                        <td> 5.752e+14</td> <td> 8.91e+06</td> <td> 6.45e+07</td> <td> 0.000</td> <td> 5.75e+14</td> <td> 5.75e+14</td>\n",
       "</tr>\n",
       "<tr>\n",
       "  <th>Lead_source_Olark Chat</th>                    <td> 2.526e+14</td> <td> 1.06e+07</td> <td> 2.39e+07</td> <td> 0.000</td> <td> 2.53e+14</td> <td> 2.53e+14</td>\n",
       "</tr>\n",
       "<tr>\n",
       "  <th>Lead_source_Organic Search</th>                <td> 7.617e+14</td> <td> 9.16e+06</td> <td> 8.32e+07</td> <td> 0.000</td> <td> 7.62e+14</td> <td> 7.62e+14</td>\n",
       "</tr>\n",
       "<tr>\n",
       "  <th>Lead_source_Reference</th>                     <td> 1.977e+14</td> <td> 1.35e+07</td> <td> 1.46e+07</td> <td> 0.000</td> <td> 1.98e+14</td> <td> 1.98e+14</td>\n",
       "</tr>\n",
       "<tr>\n",
       "  <th>Lead_source_Referral Sites</th>                <td> 3.328e+14</td> <td> 1.11e+07</td> <td> 2.99e+07</td> <td> 0.000</td> <td> 3.33e+14</td> <td> 3.33e+14</td>\n",
       "</tr>\n",
       "<tr>\n",
       "  <th>Lead_source_Welingak Website</th>              <td> 1.395e+15</td> <td> 1.43e+07</td> <td> 9.79e+07</td> <td> 0.000</td> <td>  1.4e+15</td> <td>  1.4e+15</td>\n",
       "</tr>\n",
       "<tr>\n",
       "  <th>Lead_source_others</th>                        <td>  1.43e+15</td> <td> 1.74e+07</td> <td> 8.21e+07</td> <td> 0.000</td> <td> 1.43e+15</td> <td> 1.43e+15</td>\n",
       "</tr>\n",
       "<tr>\n",
       "  <th>Specialization_Business_Courses</th>           <td> 9.343e+14</td> <td> 4.26e+06</td> <td> 2.19e+08</td> <td> 0.000</td> <td> 9.34e+14</td> <td> 9.34e+14</td>\n",
       "</tr>\n",
       "<tr>\n",
       "  <th>Specialization_Industry_Courses</th>           <td> 9.738e+14</td> <td> 4.17e+06</td> <td> 2.34e+08</td> <td> 0.000</td> <td> 9.74e+14</td> <td> 9.74e+14</td>\n",
       "</tr>\n",
       "<tr>\n",
       "  <th>Specialization_Management_Courses</th>         <td> 8.416e+14</td> <td> 3.73e+06</td> <td> 2.25e+08</td> <td> 0.000</td> <td> 8.42e+14</td> <td> 8.42e+14</td>\n",
       "</tr>\n",
       "<tr>\n",
       "  <th>Specialization_Not Specified</th>              <td> 4.567e+14</td> <td> 4.52e+06</td> <td> 1.01e+08</td> <td> 0.000</td> <td> 4.57e+14</td> <td> 4.57e+14</td>\n",
       "</tr>\n",
       "<tr>\n",
       "  <th>Country_India</th>                             <td> 1.121e+15</td> <td> 5.33e+06</td> <td>  2.1e+08</td> <td> 0.000</td> <td> 1.12e+15</td> <td> 1.12e+15</td>\n",
       "</tr>\n",
       "<tr>\n",
       "  <th>Country_Outside India</th>                     <td>  8.25e+14</td> <td> 6.09e+06</td> <td> 1.35e+08</td> <td> 0.000</td> <td> 8.25e+14</td> <td> 8.25e+14</td>\n",
       "</tr>\n",
       "<tr>\n",
       "  <th>Country_Unknown</th>                           <td> 1.261e+15</td> <td> 6.26e+06</td> <td> 2.02e+08</td> <td> 0.000</td> <td> 1.26e+15</td> <td> 1.26e+15</td>\n",
       "</tr>\n",
       "<tr>\n",
       "  <th>Current_Occu_Others</th>                       <td> 1.945e+15</td> <td> 6.99e+06</td> <td> 2.78e+08</td> <td> 0.000</td> <td> 1.94e+15</td> <td> 1.94e+15</td>\n",
       "</tr>\n",
       "<tr>\n",
       "  <th>Current_Occu_Unemployed</th>                   <td> 1.262e+15</td> <td> 6.92e+06</td> <td> 1.82e+08</td> <td> 0.000</td> <td> 1.26e+15</td> <td> 1.26e+15</td>\n",
       "</tr>\n",
       "<tr>\n",
       "  <th>Choosing_Course_Better Career Prospects</th>   <td>  1.18e+15</td> <td> 1.52e+07</td> <td> 7.76e+07</td> <td> 0.000</td> <td> 1.18e+15</td> <td> 1.18e+15</td>\n",
       "</tr>\n",
       "<tr>\n",
       "  <th>Choosing_Course_Flexibility & Convenience</th> <td> 1.714e+15</td> <td> 3.34e+07</td> <td> 5.14e+07</td> <td> 0.000</td> <td> 1.71e+15</td> <td> 1.71e+15</td>\n",
       "</tr>\n",
       "<tr>\n",
       "  <th>Choosing_Course_Not Specified</th>             <td> 3.127e+14</td> <td> 1.53e+07</td> <td> 2.05e+07</td> <td> 0.000</td> <td> 3.13e+14</td> <td> 3.13e+14</td>\n",
       "</tr>\n",
       "<tr>\n",
       "  <th>Choosing_Course_Other</th>                     <td>   13.0712</td> <td> 6.01e-08</td> <td> 2.17e+08</td> <td> 0.000</td> <td>   13.071</td> <td>   13.071</td>\n",
       "</tr>\n",
       "<tr>\n",
       "  <th>Newspaper Article_No</th>                      <td>-1.155e+16</td> <td> 2.98e+07</td> <td>-3.88e+08</td> <td> 0.000</td> <td>-1.15e+16</td> <td>-1.15e+16</td>\n",
       "</tr>\n",
       "<tr>\n",
       "  <th>Newspaper Article_Yes</th>                     <td> 1.476e+16</td> <td> 3.84e+07</td> <td> 3.84e+08</td> <td> 0.000</td> <td> 1.48e+16</td> <td> 1.48e+16</td>\n",
       "</tr>\n",
       "<tr>\n",
       "  <th>X Education Forums_No</th>                     <td> 3.206e+15</td> <td> 1.36e+07</td> <td> 2.36e+08</td> <td> 0.000</td> <td> 3.21e+15</td> <td> 3.21e+15</td>\n",
       "</tr>\n",
       "<tr>\n",
       "  <th>Newspaper_No</th>                              <td>  2.79e+15</td> <td> 2.98e+07</td> <td> 9.37e+07</td> <td> 0.000</td> <td> 2.79e+15</td> <td> 2.79e+15</td>\n",
       "</tr>\n",
       "<tr>\n",
       "  <th>Newspaper_Yes</th>                             <td> 4.162e+14</td> <td> 3.84e+07</td> <td> 1.08e+07</td> <td> 0.000</td> <td> 4.16e+14</td> <td> 4.16e+14</td>\n",
       "</tr>\n",
       "<tr>\n",
       "  <th>City_Mumbai</th>                               <td> 3.618e+14</td> <td> 2.91e+06</td> <td> 1.24e+08</td> <td> 0.000</td> <td> 3.62e+14</td> <td> 3.62e+14</td>\n",
       "</tr>\n",
       "<tr>\n",
       "  <th>City_Other Cities</th>                         <td> 5.702e+14</td> <td>  3.7e+06</td> <td> 1.54e+08</td> <td> 0.000</td> <td>  5.7e+14</td> <td>  5.7e+14</td>\n",
       "</tr>\n",
       "<tr>\n",
       "  <th>City_Other Cities of Maharashtra</th>          <td> 5.376e+14</td> <td> 4.16e+06</td> <td> 1.29e+08</td> <td> 0.000</td> <td> 5.38e+14</td> <td> 5.38e+14</td>\n",
       "</tr>\n",
       "<tr>\n",
       "  <th>City_Other Metro Cities</th>                   <td> 4.304e+14</td> <td> 4.54e+06</td> <td> 9.48e+07</td> <td> 0.000</td> <td>  4.3e+14</td> <td>  4.3e+14</td>\n",
       "</tr>\n",
       "<tr>\n",
       "  <th>City_Thane & Outskirts</th>                    <td> 5.329e+14</td> <td> 3.64e+06</td> <td> 1.46e+08</td> <td> 0.000</td> <td> 5.33e+14</td> <td> 5.33e+14</td>\n",
       "</tr>\n",
       "<tr>\n",
       "  <th>City_Tier II Cities</th>                       <td>  2.14e+14</td> <td> 8.41e+06</td> <td> 2.55e+07</td> <td> 0.000</td> <td> 2.14e+14</td> <td> 2.14e+14</td>\n",
       "</tr>\n",
       "<tr>\n",
       "  <th>City_Unknown</th>                              <td> 5.595e+14</td> <td> 4.13e+06</td> <td> 1.36e+08</td> <td> 0.000</td> <td>  5.6e+14</td> <td>  5.6e+14</td>\n",
       "</tr>\n",
       "<tr>\n",
       "  <th>Do Not Email</th>                              <td>-7.087e+14</td> <td> 3.23e+06</td> <td>-2.19e+08</td> <td> 0.000</td> <td>-7.09e+14</td> <td>-7.09e+14</td>\n",
       "</tr>\n",
       "<tr>\n",
       "  <th>Do Not Call</th>                               <td> 1.026e+15</td> <td> 4.76e+07</td> <td> 2.16e+07</td> <td> 0.000</td> <td> 1.03e+15</td> <td> 1.03e+15</td>\n",
       "</tr>\n",
       "<tr>\n",
       "  <th>TotalVisits</th>                               <td> 3.368e+13</td> <td> 1.22e+06</td> <td> 2.75e+07</td> <td> 0.000</td> <td> 3.37e+13</td> <td> 3.37e+13</td>\n",
       "</tr>\n",
       "<tr>\n",
       "  <th>Total Time Spent on Website</th>               <td> 8.217e+14</td> <td>  9.6e+05</td> <td> 8.56e+08</td> <td> 0.000</td> <td> 8.22e+14</td> <td> 8.22e+14</td>\n",
       "</tr>\n",
       "<tr>\n",
       "  <th>Page Views Per Visit</th>                      <td> -5.64e+13</td> <td> 1.33e+06</td> <td>-4.25e+07</td> <td> 0.000</td> <td>-5.64e+13</td> <td>-5.64e+13</td>\n",
       "</tr>\n",
       "<tr>\n",
       "  <th>Search</th>                                    <td>-6.479e+14</td> <td> 2.76e+07</td> <td>-2.35e+07</td> <td> 0.000</td> <td>-6.48e+14</td> <td>-6.48e+14</td>\n",
       "</tr>\n",
       "<tr>\n",
       "  <th>Digital Advertisement</th>                     <td>-5.008e+14</td> <td>  3.9e+07</td> <td>-1.28e+07</td> <td> 0.000</td> <td>-5.01e+14</td> <td>-5.01e+14</td>\n",
       "</tr>\n",
       "<tr>\n",
       "  <th>Through Recommendations</th>                   <td> 5.062e+15</td> <td> 3.89e+07</td> <td>  1.3e+08</td> <td> 0.000</td> <td> 5.06e+15</td> <td> 5.06e+15</td>\n",
       "</tr>\n",
       "<tr>\n",
       "  <th>A free copy of Mastering The Interview</th>    <td>  4.26e+13</td> <td> 2.76e+06</td> <td> 1.55e+07</td> <td> 0.000</td> <td> 4.26e+13</td> <td> 4.26e+13</td>\n",
       "</tr>\n",
       "</table>"
      ],
      "text/plain": [
       "<class 'statsmodels.iolib.summary.Summary'>\n",
       "\"\"\"\n",
       "                 Generalized Linear Model Regression Results                  \n",
       "==============================================================================\n",
       "Dep. Variable:              Converted   No. Observations:                 6363\n",
       "Model:                            GLM   Df Residuals:                     6325\n",
       "Model Family:                Binomial   Df Model:                           37\n",
       "Link Function:                  logit   Scale:                          1.0000\n",
       "Method:                          IRLS   Log-Likelihood:                    nan\n",
       "Date:                Tue, 10 May 2022   Deviance:                   1.2471e+05\n",
       "Time:                        22:25:04   Pearson chi2:                 6.10e+18\n",
       "No. Iterations:                   100                                         \n",
       "Covariance Type:            nonrobust                                         \n",
       "=============================================================================================================\n",
       "                                                coef    std err          z      P>|z|      [0.025      0.975]\n",
       "-------------------------------------------------------------------------------------------------------------\n",
       "Lead_Origin_API                           -1.606e+14   1.95e+07  -8.24e+06      0.000   -1.61e+14   -1.61e+14\n",
       "Lead_Origin_Landing Page Submission       -6.753e+14   1.92e+07  -3.51e+07      0.000   -6.75e+14   -6.75e+14\n",
       "Lead_Origin_Lead Add Form                  2.016e+15   2.17e+07   9.29e+07      0.000    2.02e+15    2.02e+15\n",
       "Lead_Origin_Lead Import                    3.121e+15   5.67e+07    5.5e+07      0.000    3.12e+15    3.12e+15\n",
       "Lead_Origin_Quick Add Form                -1.094e+15   5.65e+07  -1.94e+07      0.000   -1.09e+15   -1.09e+15\n",
       "Lead_source_Direct Traffic                 8.188e+14   9.06e+06   9.03e+07      0.000    8.19e+14    8.19e+14\n",
       "Lead_source_Facebook                      -2.558e+15   6.01e+07  -4.26e+07      0.000   -2.56e+15   -2.56e+15\n",
       "Lead_source_Google                         5.752e+14   8.91e+06   6.45e+07      0.000    5.75e+14    5.75e+14\n",
       "Lead_source_Olark Chat                     2.526e+14   1.06e+07   2.39e+07      0.000    2.53e+14    2.53e+14\n",
       "Lead_source_Organic Search                 7.617e+14   9.16e+06   8.32e+07      0.000    7.62e+14    7.62e+14\n",
       "Lead_source_Reference                      1.977e+14   1.35e+07   1.46e+07      0.000    1.98e+14    1.98e+14\n",
       "Lead_source_Referral Sites                 3.328e+14   1.11e+07   2.99e+07      0.000    3.33e+14    3.33e+14\n",
       "Lead_source_Welingak Website               1.395e+15   1.43e+07   9.79e+07      0.000     1.4e+15     1.4e+15\n",
       "Lead_source_others                          1.43e+15   1.74e+07   8.21e+07      0.000    1.43e+15    1.43e+15\n",
       "Specialization_Business_Courses            9.343e+14   4.26e+06   2.19e+08      0.000    9.34e+14    9.34e+14\n",
       "Specialization_Industry_Courses            9.738e+14   4.17e+06   2.34e+08      0.000    9.74e+14    9.74e+14\n",
       "Specialization_Management_Courses          8.416e+14   3.73e+06   2.25e+08      0.000    8.42e+14    8.42e+14\n",
       "Specialization_Not Specified               4.567e+14   4.52e+06   1.01e+08      0.000    4.57e+14    4.57e+14\n",
       "Country_India                              1.121e+15   5.33e+06    2.1e+08      0.000    1.12e+15    1.12e+15\n",
       "Country_Outside India                       8.25e+14   6.09e+06   1.35e+08      0.000    8.25e+14    8.25e+14\n",
       "Country_Unknown                            1.261e+15   6.26e+06   2.02e+08      0.000    1.26e+15    1.26e+15\n",
       "Current_Occu_Others                        1.945e+15   6.99e+06   2.78e+08      0.000    1.94e+15    1.94e+15\n",
       "Current_Occu_Unemployed                    1.262e+15   6.92e+06   1.82e+08      0.000    1.26e+15    1.26e+15\n",
       "Choosing_Course_Better Career Prospects     1.18e+15   1.52e+07   7.76e+07      0.000    1.18e+15    1.18e+15\n",
       "Choosing_Course_Flexibility & Convenience  1.714e+15   3.34e+07   5.14e+07      0.000    1.71e+15    1.71e+15\n",
       "Choosing_Course_Not Specified              3.127e+14   1.53e+07   2.05e+07      0.000    3.13e+14    3.13e+14\n",
       "Choosing_Course_Other                        13.0712   6.01e-08   2.17e+08      0.000      13.071      13.071\n",
       "Newspaper Article_No                      -1.155e+16   2.98e+07  -3.88e+08      0.000   -1.15e+16   -1.15e+16\n",
       "Newspaper Article_Yes                      1.476e+16   3.84e+07   3.84e+08      0.000    1.48e+16    1.48e+16\n",
       "X Education Forums_No                      3.206e+15   1.36e+07   2.36e+08      0.000    3.21e+15    3.21e+15\n",
       "Newspaper_No                                2.79e+15   2.98e+07   9.37e+07      0.000    2.79e+15    2.79e+15\n",
       "Newspaper_Yes                              4.162e+14   3.84e+07   1.08e+07      0.000    4.16e+14    4.16e+14\n",
       "City_Mumbai                                3.618e+14   2.91e+06   1.24e+08      0.000    3.62e+14    3.62e+14\n",
       "City_Other Cities                          5.702e+14    3.7e+06   1.54e+08      0.000     5.7e+14     5.7e+14\n",
       "City_Other Cities of Maharashtra           5.376e+14   4.16e+06   1.29e+08      0.000    5.38e+14    5.38e+14\n",
       "City_Other Metro Cities                    4.304e+14   4.54e+06   9.48e+07      0.000     4.3e+14     4.3e+14\n",
       "City_Thane & Outskirts                     5.329e+14   3.64e+06   1.46e+08      0.000    5.33e+14    5.33e+14\n",
       "City_Tier II Cities                         2.14e+14   8.41e+06   2.55e+07      0.000    2.14e+14    2.14e+14\n",
       "City_Unknown                               5.595e+14   4.13e+06   1.36e+08      0.000     5.6e+14     5.6e+14\n",
       "Do Not Email                              -7.087e+14   3.23e+06  -2.19e+08      0.000   -7.09e+14   -7.09e+14\n",
       "Do Not Call                                1.026e+15   4.76e+07   2.16e+07      0.000    1.03e+15    1.03e+15\n",
       "TotalVisits                                3.368e+13   1.22e+06   2.75e+07      0.000    3.37e+13    3.37e+13\n",
       "Total Time Spent on Website                8.217e+14    9.6e+05   8.56e+08      0.000    8.22e+14    8.22e+14\n",
       "Page Views Per Visit                       -5.64e+13   1.33e+06  -4.25e+07      0.000   -5.64e+13   -5.64e+13\n",
       "Search                                    -6.479e+14   2.76e+07  -2.35e+07      0.000   -6.48e+14   -6.48e+14\n",
       "Digital Advertisement                     -5.008e+14    3.9e+07  -1.28e+07      0.000   -5.01e+14   -5.01e+14\n",
       "Through Recommendations                    5.062e+15   3.89e+07    1.3e+08      0.000    5.06e+15    5.06e+15\n",
       "A free copy of Mastering The Interview      4.26e+13   2.76e+06   1.55e+07      0.000    4.26e+13    4.26e+13\n",
       "=============================================================================================================\n",
       "\"\"\""
      ]
     },
     "execution_count": 79,
     "metadata": {},
     "output_type": "execute_result"
    }
   ],
   "source": [
    "# Logistic regression model \n",
    "logm1 = sm.GLM(y_train, X_train, family = sm.families.Binomial())\n",
    "logm1.fit().summary()"
   ]
  },
  {
   "cell_type": "code",
   "execution_count": 80,
   "id": "91279f35",
   "metadata": {},
   "outputs": [],
   "source": [
    "from sklearn.linear_model import LogisticRegression\n",
    "logreg=LogisticRegression()"
   ]
  },
  {
   "cell_type": "code",
   "execution_count": 81,
   "id": "c77bbf55",
   "metadata": {},
   "outputs": [],
   "source": [
    "#Automated approach using RFE, will go for 17 columns to begin with"
   ]
  },
  {
   "cell_type": "code",
   "execution_count": 82,
   "id": "f69832c0",
   "metadata": {},
   "outputs": [],
   "source": [
    "from sklearn.feature_selection import RFE"
   ]
  },
  {
   "cell_type": "code",
   "execution_count": 83,
   "id": "919cd975",
   "metadata": {},
   "outputs": [
    {
     "data": {
      "text/plain": [
       "array([False,  True,  True,  True, False, False,  True, False, False,\n",
       "       False, False, False,  True,  True, False, False, False,  True,\n",
       "       False, False,  True,  True,  True,  True, False,  True, False,\n",
       "        True, False, False, False,  True, False, False, False, False,\n",
       "       False, False,  True,  True, False, False,  True, False, False,\n",
       "       False, False, False])"
      ]
     },
     "execution_count": 83,
     "metadata": {},
     "output_type": "execute_result"
    }
   ],
   "source": [
    "rfe=RFE(logreg,17)\n",
    "rfe=rfe.fit(X_train,y_train)\n",
    "rfe.support_"
   ]
  },
  {
   "cell_type": "code",
   "execution_count": 84,
   "id": "09a4bcc0",
   "metadata": {},
   "outputs": [
    {
     "data": {
      "text/plain": [
       "[('Lead_Origin_API', False, 6),\n",
       " ('Lead_Origin_Landing Page Submission', True, 1),\n",
       " ('Lead_Origin_Lead Add Form', True, 1),\n",
       " ('Lead_Origin_Lead Import', True, 1),\n",
       " ('Lead_Origin_Quick Add Form', False, 31),\n",
       " ('Lead_source_Direct Traffic', False, 7),\n",
       " ('Lead_source_Facebook', True, 1),\n",
       " ('Lead_source_Google', False, 28),\n",
       " ('Lead_source_Olark Chat', False, 21),\n",
       " ('Lead_source_Organic Search', False, 14),\n",
       " ('Lead_source_Reference', False, 3),\n",
       " ('Lead_source_Referral Sites', False, 13),\n",
       " ('Lead_source_Welingak Website', True, 1),\n",
       " ('Lead_source_others', True, 1),\n",
       " ('Specialization_Business_Courses', False, 22),\n",
       " ('Specialization_Industry_Courses', False, 19),\n",
       " ('Specialization_Management_Courses', False, 20),\n",
       " ('Specialization_Not Specified', True, 1),\n",
       " ('Country_India', False, 9),\n",
       " ('Country_Outside India', False, 8),\n",
       " ('Country_Unknown', True, 1),\n",
       " ('Current_Occu_Others', True, 1),\n",
       " ('Current_Occu_Unemployed', True, 1),\n",
       " ('Choosing_Course_Better Career Prospects', True, 1),\n",
       " ('Choosing_Course_Flexibility & Convenience', False, 15),\n",
       " ('Choosing_Course_Not Specified', True, 1),\n",
       " ('Choosing_Course_Other', False, 32),\n",
       " ('Newspaper Article_No', True, 1),\n",
       " ('Newspaper Article_Yes', False, 4),\n",
       " ('X Education Forums_No', False, 30),\n",
       " ('Newspaper_No', False, 2),\n",
       " ('Newspaper_Yes', True, 1),\n",
       " ('City_Mumbai', False, 11),\n",
       " ('City_Other Cities', False, 25),\n",
       " ('City_Other Cities of Maharashtra', False, 23),\n",
       " ('City_Other Metro Cities', False, 27),\n",
       " ('City_Thane & Outskirts', False, 26),\n",
       " ('City_Tier II Cities', False, 18),\n",
       " ('City_Unknown', True, 1),\n",
       " ('Do Not Email', True, 1),\n",
       " ('Do Not Call', False, 16),\n",
       " ('TotalVisits', False, 12),\n",
       " ('Total Time Spent on Website', True, 1),\n",
       " ('Page Views Per Visit', False, 29),\n",
       " ('Search', False, 17),\n",
       " ('Digital Advertisement', False, 24),\n",
       " ('Through Recommendations', False, 5),\n",
       " ('A free copy of Mastering The Interview', False, 10)]"
      ]
     },
     "execution_count": 84,
     "metadata": {},
     "output_type": "execute_result"
    }
   ],
   "source": [
    "list(zip(X_train.columns,rfe.support_,rfe.ranking_))"
   ]
  },
  {
   "cell_type": "code",
   "execution_count": 85,
   "id": "96657815",
   "metadata": {},
   "outputs": [],
   "source": [
    "col=X_train.columns[rfe.support_]"
   ]
  },
  {
   "cell_type": "code",
   "execution_count": 86,
   "id": "049336dc",
   "metadata": {},
   "outputs": [
    {
     "data": {
      "text/plain": [
       "Index(['Lead_Origin_API', 'Lead_Origin_Quick Add Form',\n",
       "       'Lead_source_Direct Traffic', 'Lead_source_Google',\n",
       "       'Lead_source_Olark Chat', 'Lead_source_Organic Search',\n",
       "       'Lead_source_Reference', 'Lead_source_Referral Sites',\n",
       "       'Specialization_Business_Courses', 'Specialization_Industry_Courses',\n",
       "       'Specialization_Management_Courses', 'Country_India',\n",
       "       'Country_Outside India', 'Choosing_Course_Flexibility & Convenience',\n",
       "       'Choosing_Course_Other', 'Newspaper Article_Yes',\n",
       "       'X Education Forums_No', 'Newspaper_No', 'City_Mumbai',\n",
       "       'City_Other Cities', 'City_Other Cities of Maharashtra',\n",
       "       'City_Other Metro Cities', 'City_Thane & Outskirts',\n",
       "       'City_Tier II Cities', 'Do Not Call', 'TotalVisits',\n",
       "       'Page Views Per Visit', 'Search', 'Digital Advertisement',\n",
       "       'Through Recommendations', 'A free copy of Mastering The Interview'],\n",
       "      dtype='object')"
      ]
     },
     "execution_count": 86,
     "metadata": {},
     "output_type": "execute_result"
    }
   ],
   "source": [
    "X_train.columns[~rfe.support_]"
   ]
  },
  {
   "cell_type": "code",
   "execution_count": 87,
   "id": "87fe8b3d",
   "metadata": {},
   "outputs": [],
   "source": [
    "## Assessing model using statsmodel "
   ]
  },
  {
   "cell_type": "code",
   "execution_count": 88,
   "id": "6a45851e",
   "metadata": {},
   "outputs": [
    {
     "data": {
      "text/html": [
       "<table class=\"simpletable\">\n",
       "<caption>Generalized Linear Model Regression Results</caption>\n",
       "<tr>\n",
       "  <th>Dep. Variable:</th>       <td>Converted</td>    <th>  No. Observations:  </th>   <td>  6363</td>  \n",
       "</tr>\n",
       "<tr>\n",
       "  <th>Model:</th>                  <td>GLM</td>       <th>  Df Residuals:      </th>   <td>  6346</td>  \n",
       "</tr>\n",
       "<tr>\n",
       "  <th>Model Family:</th>        <td>Binomial</td>     <th>  Df Model:          </th>   <td>    16</td>  \n",
       "</tr>\n",
       "<tr>\n",
       "  <th>Link Function:</th>         <td>logit</td>      <th>  Scale:             </th>  <td>  1.0000</td> \n",
       "</tr>\n",
       "<tr>\n",
       "  <th>Method:</th>                <td>IRLS</td>       <th>  Log-Likelihood:    </th>  <td>     nan</td> \n",
       "</tr>\n",
       "<tr>\n",
       "  <th>Date:</th>            <td>Tue, 10 May 2022</td> <th>  Deviance:          </th> <td>1.3300e+05</td>\n",
       "</tr>\n",
       "<tr>\n",
       "  <th>Time:</th>                <td>22:25:06</td>     <th>  Pearson chi2:      </th>  <td>6.50e+18</td> \n",
       "</tr>\n",
       "<tr>\n",
       "  <th>No. Iterations:</th>         <td>100</td>       <th>                     </th>      <td> </td>    \n",
       "</tr>\n",
       "<tr>\n",
       "  <th>Covariance Type:</th>     <td>nonrobust</td>    <th>                     </th>      <td> </td>    \n",
       "</tr>\n",
       "</table>\n",
       "<table class=\"simpletable\">\n",
       "<tr>\n",
       "                     <td></td>                        <th>coef</th>     <th>std err</th>      <th>z</th>      <th>P>|z|</th>  <th>[0.025</th>    <th>0.975]</th>  \n",
       "</tr>\n",
       "<tr>\n",
       "  <th>const</th>                                   <td> 2.993e+15</td> <td> 5.49e+07</td> <td> 5.45e+07</td> <td> 0.000</td> <td> 2.99e+15</td> <td> 2.99e+15</td>\n",
       "</tr>\n",
       "<tr>\n",
       "  <th>Lead_Origin_Landing Page Submission</th>     <td>-7.278e+14</td> <td> 3.39e+06</td> <td>-2.15e+08</td> <td> 0.000</td> <td>-7.28e+14</td> <td>-7.28e+14</td>\n",
       "</tr>\n",
       "<tr>\n",
       "  <th>Lead_Origin_Lead Add Form</th>               <td> 8.981e+14</td> <td> 4.28e+06</td> <td>  2.1e+08</td> <td> 0.000</td> <td> 8.98e+14</td> <td> 8.98e+14</td>\n",
       "</tr>\n",
       "<tr>\n",
       "  <th>Lead_Origin_Lead Import</th>                 <td> 3.712e+15</td> <td> 6.82e+07</td> <td> 5.44e+07</td> <td> 0.000</td> <td> 3.71e+15</td> <td> 3.71e+15</td>\n",
       "</tr>\n",
       "<tr>\n",
       "  <th>Lead_source_Facebook</th>                    <td>-4.907e+15</td> <td> 6.73e+07</td> <td>-7.29e+07</td> <td> 0.000</td> <td>-4.91e+15</td> <td>-4.91e+15</td>\n",
       "</tr>\n",
       "<tr>\n",
       "  <th>Lead_source_Welingak Website</th>            <td>  1.55e+13</td> <td> 7.62e+06</td> <td> 2.03e+06</td> <td> 0.000</td> <td> 1.55e+13</td> <td> 1.55e+13</td>\n",
       "</tr>\n",
       "<tr>\n",
       "  <th>Lead_source_others</th>                      <td> 9.618e+14</td> <td> 1.74e+07</td> <td> 5.53e+07</td> <td> 0.000</td> <td> 9.62e+14</td> <td> 9.62e+14</td>\n",
       "</tr>\n",
       "<tr>\n",
       "  <th>Specialization_Not Specified</th>            <td>-3.157e+14</td> <td> 3.75e+06</td> <td>-8.42e+07</td> <td> 0.000</td> <td>-3.16e+14</td> <td>-3.16e+14</td>\n",
       "</tr>\n",
       "<tr>\n",
       "  <th>Country_Unknown</th>                         <td>  4.79e+14</td> <td> 2.84e+06</td> <td> 1.69e+08</td> <td> 0.000</td> <td> 4.79e+14</td> <td> 4.79e+14</td>\n",
       "</tr>\n",
       "<tr>\n",
       "  <th>Current_Occu_Others</th>                     <td> 1.899e+15</td> <td> 2.75e+07</td> <td>  6.9e+07</td> <td> 0.000</td> <td>  1.9e+15</td> <td>  1.9e+15</td>\n",
       "</tr>\n",
       "<tr>\n",
       "  <th>Current_Occu_Unemployed</th>                 <td> 1.094e+15</td> <td> 2.75e+07</td> <td> 3.98e+07</td> <td> 0.000</td> <td> 1.09e+15</td> <td> 1.09e+15</td>\n",
       "</tr>\n",
       "<tr>\n",
       "  <th>Choosing_Course_Better Career Prospects</th> <td> 1.893e+15</td> <td> 4.76e+07</td> <td> 3.98e+07</td> <td> 0.000</td> <td> 1.89e+15</td> <td> 1.89e+15</td>\n",
       "</tr>\n",
       "<tr>\n",
       "  <th>Choosing_Course_Not Specified</th>           <td> 1.733e+14</td> <td> 4.76e+07</td> <td> 3.64e+06</td> <td> 0.000</td> <td> 1.73e+14</td> <td> 1.73e+14</td>\n",
       "</tr>\n",
       "<tr>\n",
       "  <th>Newspaper Article_No</th>                    <td>-5.306e+15</td> <td> 6.72e+07</td> <td>-7.89e+07</td> <td> 0.000</td> <td>-5.31e+15</td> <td>-5.31e+15</td>\n",
       "</tr>\n",
       "<tr>\n",
       "  <th>Newspaper_Yes</th>                           <td>-4.276e+15</td> <td> 6.73e+07</td> <td>-6.36e+07</td> <td> 0.000</td> <td>-4.28e+15</td> <td>-4.28e+15</td>\n",
       "</tr>\n",
       "<tr>\n",
       "  <th>City_Unknown</th>                            <td>-6.006e+14</td> <td> 3.89e+06</td> <td>-1.54e+08</td> <td> 0.000</td> <td>-6.01e+14</td> <td>-6.01e+14</td>\n",
       "</tr>\n",
       "<tr>\n",
       "  <th>Do Not Email</th>                            <td>-7.888e+14</td> <td> 3.19e+06</td> <td>-2.47e+08</td> <td> 0.000</td> <td>-7.89e+14</td> <td>-7.89e+14</td>\n",
       "</tr>\n",
       "<tr>\n",
       "  <th>Total Time Spent on Website</th>             <td> 1.753e+14</td> <td> 9.54e+05</td> <td> 1.84e+08</td> <td> 0.000</td> <td> 1.75e+14</td> <td> 1.75e+14</td>\n",
       "</tr>\n",
       "</table>"
      ],
      "text/plain": [
       "<class 'statsmodels.iolib.summary.Summary'>\n",
       "\"\"\"\n",
       "                 Generalized Linear Model Regression Results                  \n",
       "==============================================================================\n",
       "Dep. Variable:              Converted   No. Observations:                 6363\n",
       "Model:                            GLM   Df Residuals:                     6346\n",
       "Model Family:                Binomial   Df Model:                           16\n",
       "Link Function:                  logit   Scale:                          1.0000\n",
       "Method:                          IRLS   Log-Likelihood:                    nan\n",
       "Date:                Tue, 10 May 2022   Deviance:                   1.3300e+05\n",
       "Time:                        22:25:06   Pearson chi2:                 6.50e+18\n",
       "No. Iterations:                   100                                         \n",
       "Covariance Type:            nonrobust                                         \n",
       "===========================================================================================================\n",
       "                                              coef    std err          z      P>|z|      [0.025      0.975]\n",
       "-----------------------------------------------------------------------------------------------------------\n",
       "const                                    2.993e+15   5.49e+07   5.45e+07      0.000    2.99e+15    2.99e+15\n",
       "Lead_Origin_Landing Page Submission     -7.278e+14   3.39e+06  -2.15e+08      0.000   -7.28e+14   -7.28e+14\n",
       "Lead_Origin_Lead Add Form                8.981e+14   4.28e+06    2.1e+08      0.000    8.98e+14    8.98e+14\n",
       "Lead_Origin_Lead Import                  3.712e+15   6.82e+07   5.44e+07      0.000    3.71e+15    3.71e+15\n",
       "Lead_source_Facebook                    -4.907e+15   6.73e+07  -7.29e+07      0.000   -4.91e+15   -4.91e+15\n",
       "Lead_source_Welingak Website              1.55e+13   7.62e+06   2.03e+06      0.000    1.55e+13    1.55e+13\n",
       "Lead_source_others                       9.618e+14   1.74e+07   5.53e+07      0.000    9.62e+14    9.62e+14\n",
       "Specialization_Not Specified            -3.157e+14   3.75e+06  -8.42e+07      0.000   -3.16e+14   -3.16e+14\n",
       "Country_Unknown                           4.79e+14   2.84e+06   1.69e+08      0.000    4.79e+14    4.79e+14\n",
       "Current_Occu_Others                      1.899e+15   2.75e+07    6.9e+07      0.000     1.9e+15     1.9e+15\n",
       "Current_Occu_Unemployed                  1.094e+15   2.75e+07   3.98e+07      0.000    1.09e+15    1.09e+15\n",
       "Choosing_Course_Better Career Prospects  1.893e+15   4.76e+07   3.98e+07      0.000    1.89e+15    1.89e+15\n",
       "Choosing_Course_Not Specified            1.733e+14   4.76e+07   3.64e+06      0.000    1.73e+14    1.73e+14\n",
       "Newspaper Article_No                    -5.306e+15   6.72e+07  -7.89e+07      0.000   -5.31e+15   -5.31e+15\n",
       "Newspaper_Yes                           -4.276e+15   6.73e+07  -6.36e+07      0.000   -4.28e+15   -4.28e+15\n",
       "City_Unknown                            -6.006e+14   3.89e+06  -1.54e+08      0.000   -6.01e+14   -6.01e+14\n",
       "Do Not Email                            -7.888e+14   3.19e+06  -2.47e+08      0.000   -7.89e+14   -7.89e+14\n",
       "Total Time Spent on Website              1.753e+14   9.54e+05   1.84e+08      0.000    1.75e+14    1.75e+14\n",
       "===========================================================================================================\n",
       "\"\"\""
      ]
     },
     "execution_count": 88,
     "metadata": {},
     "output_type": "execute_result"
    }
   ],
   "source": [
    "X_train_sm = sm.add_constant(X_train[col])\n",
    "logm2 = sm.GLM(y_train,X_train_sm, family = sm.families.Binomial())\n",
    "res = logm2.fit()\n",
    "res.summary()"
   ]
  },
  {
   "cell_type": "code",
   "execution_count": 89,
   "id": "118716e7",
   "metadata": {},
   "outputs": [
    {
     "data": {
      "text/plain": [
       "302     0.0\n",
       "6087    0.0\n",
       "1033    0.0\n",
       "7656    0.0\n",
       "3241    1.0\n",
       "5738    0.0\n",
       "7366    1.0\n",
       "3680    0.0\n",
       "4170    1.0\n",
       "43      0.0\n",
       "dtype: float64"
      ]
     },
     "execution_count": 89,
     "metadata": {},
     "output_type": "execute_result"
    }
   ],
   "source": [
    "y_train_pred=res.predict(X_train_sm)\n",
    "y_train_pred[:10]"
   ]
  },
  {
   "cell_type": "code",
   "execution_count": 90,
   "id": "ce014b49",
   "metadata": {},
   "outputs": [
    {
     "data": {
      "text/plain": [
       "array([0., 0., 0., 0., 1., 0., 1., 0., 1., 0.])"
      ]
     },
     "execution_count": 90,
     "metadata": {},
     "output_type": "execute_result"
    }
   ],
   "source": [
    "y_train_pred=y_train_pred.values.reshape(-1)\n",
    "y_train_pred[:10]"
   ]
  },
  {
   "cell_type": "code",
   "execution_count": 91,
   "id": "cec6ab12",
   "metadata": {},
   "outputs": [
    {
     "data": {
      "text/html": [
       "<div>\n",
       "<style scoped>\n",
       "    .dataframe tbody tr th:only-of-type {\n",
       "        vertical-align: middle;\n",
       "    }\n",
       "\n",
       "    .dataframe tbody tr th {\n",
       "        vertical-align: top;\n",
       "    }\n",
       "\n",
       "    .dataframe thead th {\n",
       "        text-align: right;\n",
       "    }\n",
       "</style>\n",
       "<table border=\"1\" class=\"dataframe\">\n",
       "  <thead>\n",
       "    <tr style=\"text-align: right;\">\n",
       "      <th></th>\n",
       "      <th>Converted</th>\n",
       "      <th>Converted_Prob</th>\n",
       "    </tr>\n",
       "  </thead>\n",
       "  <tbody>\n",
       "    <tr>\n",
       "      <th>0</th>\n",
       "      <td>0</td>\n",
       "      <td>0.0</td>\n",
       "    </tr>\n",
       "    <tr>\n",
       "      <th>1</th>\n",
       "      <td>0</td>\n",
       "      <td>0.0</td>\n",
       "    </tr>\n",
       "    <tr>\n",
       "      <th>2</th>\n",
       "      <td>0</td>\n",
       "      <td>0.0</td>\n",
       "    </tr>\n",
       "    <tr>\n",
       "      <th>3</th>\n",
       "      <td>0</td>\n",
       "      <td>0.0</td>\n",
       "    </tr>\n",
       "    <tr>\n",
       "      <th>4</th>\n",
       "      <td>1</td>\n",
       "      <td>1.0</td>\n",
       "    </tr>\n",
       "  </tbody>\n",
       "</table>\n",
       "</div>"
      ],
      "text/plain": [
       "   Converted  Converted_Prob\n",
       "0          0             0.0\n",
       "1          0             0.0\n",
       "2          0             0.0\n",
       "3          0             0.0\n",
       "4          1             1.0"
      ]
     },
     "execution_count": 91,
     "metadata": {},
     "output_type": "execute_result"
    }
   ],
   "source": [
    "y_train_pred_final=pd.DataFrame({'Converted':y_train.values,'Converted_Prob':y_train_pred})\n",
    "y_train_pred_final.head()"
   ]
  },
  {
   "cell_type": "code",
   "execution_count": 92,
   "id": "839d930c",
   "metadata": {},
   "outputs": [
    {
     "data": {
      "text/html": [
       "<div>\n",
       "<style scoped>\n",
       "    .dataframe tbody tr th:only-of-type {\n",
       "        vertical-align: middle;\n",
       "    }\n",
       "\n",
       "    .dataframe tbody tr th {\n",
       "        vertical-align: top;\n",
       "    }\n",
       "\n",
       "    .dataframe thead th {\n",
       "        text-align: right;\n",
       "    }\n",
       "</style>\n",
       "<table border=\"1\" class=\"dataframe\">\n",
       "  <thead>\n",
       "    <tr style=\"text-align: right;\">\n",
       "      <th></th>\n",
       "      <th>Converted</th>\n",
       "      <th>Converted_Prob</th>\n",
       "      <th>Predicted</th>\n",
       "    </tr>\n",
       "  </thead>\n",
       "  <tbody>\n",
       "    <tr>\n",
       "      <th>0</th>\n",
       "      <td>0</td>\n",
       "      <td>0.0</td>\n",
       "      <td>0</td>\n",
       "    </tr>\n",
       "    <tr>\n",
       "      <th>1</th>\n",
       "      <td>0</td>\n",
       "      <td>0.0</td>\n",
       "      <td>0</td>\n",
       "    </tr>\n",
       "    <tr>\n",
       "      <th>2</th>\n",
       "      <td>0</td>\n",
       "      <td>0.0</td>\n",
       "      <td>0</td>\n",
       "    </tr>\n",
       "    <tr>\n",
       "      <th>3</th>\n",
       "      <td>0</td>\n",
       "      <td>0.0</td>\n",
       "      <td>0</td>\n",
       "    </tr>\n",
       "    <tr>\n",
       "      <th>4</th>\n",
       "      <td>1</td>\n",
       "      <td>1.0</td>\n",
       "      <td>1</td>\n",
       "    </tr>\n",
       "  </tbody>\n",
       "</table>\n",
       "</div>"
      ],
      "text/plain": [
       "   Converted  Converted_Prob  Predicted\n",
       "0          0             0.0          0\n",
       "1          0             0.0          0\n",
       "2          0             0.0          0\n",
       "3          0             0.0          0\n",
       "4          1             1.0          1"
      ]
     },
     "execution_count": 92,
     "metadata": {},
     "output_type": "execute_result"
    }
   ],
   "source": [
    "y_train_pred_final['Predicted']=y_train_pred_final.Converted_Prob.map(lambda x: 1 if x>0.5 else 0)\n",
    "#kept 0.5 cutoff to begin with\n",
    "y_train_pred_final.head()"
   ]
  },
  {
   "cell_type": "code",
   "execution_count": 93,
   "id": "d5c233fe",
   "metadata": {},
   "outputs": [
    {
     "name": "stdout",
     "output_type": "stream",
     "text": [
      "[[3114  821]\n",
      " [ 623 1805]]\n"
     ]
    }
   ],
   "source": [
    "#confusion matrix\n",
    "confusion=metrics.confusion_matrix(y_train_pred_final.Converted,y_train_pred_final.Predicted)\n",
    "print(confusion)"
   ]
  },
  {
   "cell_type": "code",
   "execution_count": 94,
   "id": "f65dfb79",
   "metadata": {},
   "outputs": [],
   "source": [
    "#predicted    not_converted   converted \n",
    "#actual \n",
    "#not_churn       3522           480\n",
    "#churn            958           1508"
   ]
  },
  {
   "cell_type": "code",
   "execution_count": 95,
   "id": "19da40d8",
   "metadata": {},
   "outputs": [
    {
     "name": "stdout",
     "output_type": "stream",
     "text": [
      "0.7730630205877731\n"
     ]
    }
   ],
   "source": [
    "#over all accuracy\n",
    "print(metrics.accuracy_score(y_train_pred_final.Converted,y_train_pred_final.Predicted))"
   ]
  },
  {
   "cell_type": "code",
   "execution_count": null,
   "id": "be3ebbf8",
   "metadata": {},
   "outputs": [],
   "source": []
  },
  {
   "cell_type": "code",
   "execution_count": 96,
   "id": "63432cd9",
   "metadata": {},
   "outputs": [
    {
     "data": {
      "text/html": [
       "<div>\n",
       "<style scoped>\n",
       "    .dataframe tbody tr th:only-of-type {\n",
       "        vertical-align: middle;\n",
       "    }\n",
       "\n",
       "    .dataframe tbody tr th {\n",
       "        vertical-align: top;\n",
       "    }\n",
       "\n",
       "    .dataframe thead th {\n",
       "        text-align: right;\n",
       "    }\n",
       "</style>\n",
       "<table border=\"1\" class=\"dataframe\">\n",
       "  <thead>\n",
       "    <tr style=\"text-align: right;\">\n",
       "      <th></th>\n",
       "      <th>Features</th>\n",
       "      <th>VIF</th>\n",
       "    </tr>\n",
       "  </thead>\n",
       "  <tbody>\n",
       "    <tr>\n",
       "      <th>9</th>\n",
       "      <td>Current_Occu_Unemployed</td>\n",
       "      <td>5767.42</td>\n",
       "    </tr>\n",
       "    <tr>\n",
       "      <th>8</th>\n",
       "      <td>Current_Occu_Others</td>\n",
       "      <td>3813.32</td>\n",
       "    </tr>\n",
       "    <tr>\n",
       "      <th>11</th>\n",
       "      <td>Choosing_Course_Not Specified</td>\n",
       "      <td>670.40</td>\n",
       "    </tr>\n",
       "    <tr>\n",
       "      <th>10</th>\n",
       "      <td>Choosing_Course_Better Career Prospects</td>\n",
       "      <td>668.71</td>\n",
       "    </tr>\n",
       "    <tr>\n",
       "      <th>2</th>\n",
       "      <td>Lead_Origin_Lead Import</td>\n",
       "      <td>37.02</td>\n",
       "    </tr>\n",
       "    <tr>\n",
       "      <th>3</th>\n",
       "      <td>Lead_source_Facebook</td>\n",
       "      <td>37.02</td>\n",
       "    </tr>\n",
       "    <tr>\n",
       "      <th>14</th>\n",
       "      <td>City_Unknown</td>\n",
       "      <td>5.15</td>\n",
       "    </tr>\n",
       "    <tr>\n",
       "      <th>6</th>\n",
       "      <td>Specialization_Not Specified</td>\n",
       "      <td>4.64</td>\n",
       "    </tr>\n",
       "    <tr>\n",
       "      <th>0</th>\n",
       "      <td>Lead_Origin_Landing Page Submission</td>\n",
       "      <td>4.04</td>\n",
       "    </tr>\n",
       "    <tr>\n",
       "      <th>7</th>\n",
       "      <td>Country_Unknown</td>\n",
       "      <td>2.24</td>\n",
       "    </tr>\n",
       "    <tr>\n",
       "      <th>1</th>\n",
       "      <td>Lead_Origin_Lead Add Form</td>\n",
       "      <td>1.88</td>\n",
       "    </tr>\n",
       "    <tr>\n",
       "      <th>4</th>\n",
       "      <td>Lead_source_Welingak Website</td>\n",
       "      <td>1.32</td>\n",
       "    </tr>\n",
       "    <tr>\n",
       "      <th>16</th>\n",
       "      <td>Total Time Spent on Website</td>\n",
       "      <td>1.29</td>\n",
       "    </tr>\n",
       "    <tr>\n",
       "      <th>15</th>\n",
       "      <td>Do Not Email</td>\n",
       "      <td>1.02</td>\n",
       "    </tr>\n",
       "    <tr>\n",
       "      <th>5</th>\n",
       "      <td>Lead_source_others</td>\n",
       "      <td>1.00</td>\n",
       "    </tr>\n",
       "    <tr>\n",
       "      <th>12</th>\n",
       "      <td>Newspaper Article_No</td>\n",
       "      <td>1.00</td>\n",
       "    </tr>\n",
       "    <tr>\n",
       "      <th>13</th>\n",
       "      <td>Newspaper_Yes</td>\n",
       "      <td>1.00</td>\n",
       "    </tr>\n",
       "  </tbody>\n",
       "</table>\n",
       "</div>"
      ],
      "text/plain": [
       "                                   Features      VIF\n",
       "9                   Current_Occu_Unemployed  5767.42\n",
       "8                       Current_Occu_Others  3813.32\n",
       "11            Choosing_Course_Not Specified   670.40\n",
       "10  Choosing_Course_Better Career Prospects   668.71\n",
       "2                   Lead_Origin_Lead Import    37.02\n",
       "3                      Lead_source_Facebook    37.02\n",
       "14                             City_Unknown     5.15\n",
       "6              Specialization_Not Specified     4.64\n",
       "0       Lead_Origin_Landing Page Submission     4.04\n",
       "7                           Country_Unknown     2.24\n",
       "1                 Lead_Origin_Lead Add Form     1.88\n",
       "4              Lead_source_Welingak Website     1.32\n",
       "16              Total Time Spent on Website     1.29\n",
       "15                             Do Not Email     1.02\n",
       "5                        Lead_source_others     1.00\n",
       "12                     Newspaper Article_No     1.00\n",
       "13                            Newspaper_Yes     1.00"
      ]
     },
     "execution_count": 96,
     "metadata": {},
     "output_type": "execute_result"
    }
   ],
   "source": [
    "##checking VIF's\n",
    "\n",
    "vif=pd.DataFrame()\n",
    "vif['Features']=X_train[col].columns\n",
    "vif['VIF']=[variance_inflation_factor(X_train[col].values,i) for i in range(X_train[col].shape[1])]\n",
    "vif['VIF']=round(vif['VIF'],2)\n",
    "vif=vif.sort_values(by='VIF',ascending=False)\n",
    "vif"
   ]
  },
  {
   "cell_type": "code",
   "execution_count": 97,
   "id": "b043d96f",
   "metadata": {},
   "outputs": [
    {
     "data": {
      "text/plain": [
       "Index(['Lead_Origin_Landing Page Submission', 'Lead_Origin_Lead Add Form',\n",
       "       'Lead_Origin_Lead Import', 'Lead_source_Facebook',\n",
       "       'Lead_source_Welingak Website', 'Lead_source_others',\n",
       "       'Specialization_Not Specified', 'Country_Unknown',\n",
       "       'Current_Occu_Others', 'Choosing_Course_Better Career Prospects',\n",
       "       'Choosing_Course_Not Specified', 'Newspaper Article_No',\n",
       "       'Newspaper_Yes', 'City_Unknown', 'Do Not Email',\n",
       "       'Total Time Spent on Website'],\n",
       "      dtype='object')"
      ]
     },
     "execution_count": 97,
     "metadata": {},
     "output_type": "execute_result"
    }
   ],
   "source": [
    "#lets drop Tags_number not provided since its P value\n",
    "col=col.drop('Current_Occu_Unemployed')\n",
    "col"
   ]
  },
  {
   "cell_type": "code",
   "execution_count": 98,
   "id": "5ed4441c",
   "metadata": {},
   "outputs": [
    {
     "data": {
      "text/html": [
       "<table class=\"simpletable\">\n",
       "<caption>Generalized Linear Model Regression Results</caption>\n",
       "<tr>\n",
       "  <th>Dep. Variable:</th>       <td>Converted</td>    <th>  No. Observations:  </th>  <td>  6363</td> \n",
       "</tr>\n",
       "<tr>\n",
       "  <th>Model:</th>                  <td>GLM</td>       <th>  Df Residuals:      </th>  <td>  6346</td> \n",
       "</tr>\n",
       "<tr>\n",
       "  <th>Model Family:</th>        <td>Binomial</td>     <th>  Df Model:          </th>  <td>    16</td> \n",
       "</tr>\n",
       "<tr>\n",
       "  <th>Link Function:</th>         <td>logit</td>      <th>  Scale:             </th> <td>  1.0000</td>\n",
       "</tr>\n",
       "<tr>\n",
       "  <th>Method:</th>                <td>IRLS</td>       <th>  Log-Likelihood:    </th> <td> -2850.7</td>\n",
       "</tr>\n",
       "<tr>\n",
       "  <th>Date:</th>            <td>Tue, 10 May 2022</td> <th>  Deviance:          </th> <td>  5701.5</td>\n",
       "</tr>\n",
       "<tr>\n",
       "  <th>Time:</th>                <td>22:25:07</td>     <th>  Pearson chi2:      </th> <td>6.57e+03</td>\n",
       "</tr>\n",
       "<tr>\n",
       "  <th>No. Iterations:</th>         <td>20</td>        <th>                     </th>     <td> </td>   \n",
       "</tr>\n",
       "<tr>\n",
       "  <th>Covariance Type:</th>     <td>nonrobust</td>    <th>                     </th>     <td> </td>   \n",
       "</tr>\n",
       "</table>\n",
       "<table class=\"simpletable\">\n",
       "<tr>\n",
       "                     <td></td>                        <th>coef</th>     <th>std err</th>      <th>z</th>      <th>P>|z|</th>  <th>[0.025</th>    <th>0.975]</th>  \n",
       "</tr>\n",
       "<tr>\n",
       "  <th>const</th>                                   <td>   20.3344</td> <td> 2.92e+04</td> <td>    0.001</td> <td> 0.999</td> <td>-5.73e+04</td> <td> 5.73e+04</td>\n",
       "</tr>\n",
       "<tr>\n",
       "  <th>Lead_Origin_Landing Page Submission</th>     <td>   -0.9833</td> <td>    0.133</td> <td>   -7.419</td> <td> 0.000</td> <td>   -1.243</td> <td>   -0.724</td>\n",
       "</tr>\n",
       "<tr>\n",
       "  <th>Lead_Origin_Lead Add Form</th>               <td>    2.2730</td> <td>    0.204</td> <td>   11.124</td> <td> 0.000</td> <td>    1.873</td> <td>    2.673</td>\n",
       "</tr>\n",
       "<tr>\n",
       "  <th>Lead_Origin_Lead Import</th>                 <td>   19.3456</td> <td> 2.92e+04</td> <td>    0.001</td> <td> 0.999</td> <td>-5.73e+04</td> <td> 5.73e+04</td>\n",
       "</tr>\n",
       "<tr>\n",
       "  <th>Lead_source_Facebook</th>                    <td>  -21.4033</td> <td> 2.92e+04</td> <td>   -0.001</td> <td> 0.999</td> <td>-5.73e+04</td> <td> 5.73e+04</td>\n",
       "</tr>\n",
       "<tr>\n",
       "  <th>Lead_source_Welingak Website</th>            <td>    3.2206</td> <td>    1.026</td> <td>    3.139</td> <td> 0.002</td> <td>    1.210</td> <td>    5.231</td>\n",
       "</tr>\n",
       "<tr>\n",
       "  <th>Lead_source_others</th>                      <td>    0.8306</td> <td>    0.679</td> <td>    1.223</td> <td> 0.221</td> <td>   -0.500</td> <td>    2.161</td>\n",
       "</tr>\n",
       "<tr>\n",
       "  <th>Specialization_Not Specified</th>            <td>   -0.6725</td> <td>    0.146</td> <td>   -4.607</td> <td> 0.000</td> <td>   -0.959</td> <td>   -0.386</td>\n",
       "</tr>\n",
       "<tr>\n",
       "  <th>Country_Unknown</th>                         <td>    1.0391</td> <td>    0.116</td> <td>    8.988</td> <td> 0.000</td> <td>    0.812</td> <td>    1.266</td>\n",
       "</tr>\n",
       "<tr>\n",
       "  <th>Current_Occu_Others</th>                     <td>    1.4223</td> <td>    0.121</td> <td>   11.735</td> <td> 0.000</td> <td>    1.185</td> <td>    1.660</td>\n",
       "</tr>\n",
       "<tr>\n",
       "  <th>Choosing_Course_Better Career Prospects</th> <td>    2.4614</td> <td>    2.296</td> <td>    1.072</td> <td> 0.284</td> <td>   -2.038</td> <td>    6.961</td>\n",
       "</tr>\n",
       "<tr>\n",
       "  <th>Choosing_Course_Not Specified</th>           <td>   -0.2253</td> <td>    2.297</td> <td>   -0.098</td> <td> 0.922</td> <td>   -4.728</td> <td>    4.278</td>\n",
       "</tr>\n",
       "<tr>\n",
       "  <th>Newspaper Article_No</th>                    <td>  -22.5344</td> <td> 2.92e+04</td> <td>   -0.001</td> <td> 0.999</td> <td>-5.73e+04</td> <td> 5.73e+04</td>\n",
       "</tr>\n",
       "<tr>\n",
       "  <th>Newspaper_Yes</th>                           <td>  -22.8782</td> <td> 2.92e+04</td> <td>   -0.001</td> <td> 0.999</td> <td>-5.73e+04</td> <td> 5.73e+04</td>\n",
       "</tr>\n",
       "<tr>\n",
       "  <th>City_Unknown</th>                            <td>   -0.6126</td> <td>    0.158</td> <td>   -3.878</td> <td> 0.000</td> <td>   -0.922</td> <td>   -0.303</td>\n",
       "</tr>\n",
       "<tr>\n",
       "  <th>Do Not Email</th>                            <td>   -1.2348</td> <td>    0.158</td> <td>   -7.810</td> <td> 0.000</td> <td>   -1.545</td> <td>   -0.925</td>\n",
       "</tr>\n",
       "<tr>\n",
       "  <th>Total Time Spent on Website</th>             <td>    1.0861</td> <td>    0.039</td> <td>   28.036</td> <td> 0.000</td> <td>    1.010</td> <td>    1.162</td>\n",
       "</tr>\n",
       "</table>"
      ],
      "text/plain": [
       "<class 'statsmodels.iolib.summary.Summary'>\n",
       "\"\"\"\n",
       "                 Generalized Linear Model Regression Results                  \n",
       "==============================================================================\n",
       "Dep. Variable:              Converted   No. Observations:                 6363\n",
       "Model:                            GLM   Df Residuals:                     6346\n",
       "Model Family:                Binomial   Df Model:                           16\n",
       "Link Function:                  logit   Scale:                          1.0000\n",
       "Method:                          IRLS   Log-Likelihood:                -2850.7\n",
       "Date:                Tue, 10 May 2022   Deviance:                       5701.5\n",
       "Time:                        22:25:07   Pearson chi2:                 6.57e+03\n",
       "No. Iterations:                    20                                         \n",
       "Covariance Type:            nonrobust                                         \n",
       "===========================================================================================================\n",
       "                                              coef    std err          z      P>|z|      [0.025      0.975]\n",
       "-----------------------------------------------------------------------------------------------------------\n",
       "const                                      20.3344   2.92e+04      0.001      0.999   -5.73e+04    5.73e+04\n",
       "Lead_Origin_Landing Page Submission        -0.9833      0.133     -7.419      0.000      -1.243      -0.724\n",
       "Lead_Origin_Lead Add Form                   2.2730      0.204     11.124      0.000       1.873       2.673\n",
       "Lead_Origin_Lead Import                    19.3456   2.92e+04      0.001      0.999   -5.73e+04    5.73e+04\n",
       "Lead_source_Facebook                      -21.4033   2.92e+04     -0.001      0.999   -5.73e+04    5.73e+04\n",
       "Lead_source_Welingak Website                3.2206      1.026      3.139      0.002       1.210       5.231\n",
       "Lead_source_others                          0.8306      0.679      1.223      0.221      -0.500       2.161\n",
       "Specialization_Not Specified               -0.6725      0.146     -4.607      0.000      -0.959      -0.386\n",
       "Country_Unknown                             1.0391      0.116      8.988      0.000       0.812       1.266\n",
       "Current_Occu_Others                         1.4223      0.121     11.735      0.000       1.185       1.660\n",
       "Choosing_Course_Better Career Prospects     2.4614      2.296      1.072      0.284      -2.038       6.961\n",
       "Choosing_Course_Not Specified              -0.2253      2.297     -0.098      0.922      -4.728       4.278\n",
       "Newspaper Article_No                      -22.5344   2.92e+04     -0.001      0.999   -5.73e+04    5.73e+04\n",
       "Newspaper_Yes                             -22.8782   2.92e+04     -0.001      0.999   -5.73e+04    5.73e+04\n",
       "City_Unknown                               -0.6126      0.158     -3.878      0.000      -0.922      -0.303\n",
       "Do Not Email                               -1.2348      0.158     -7.810      0.000      -1.545      -0.925\n",
       "Total Time Spent on Website                 1.0861      0.039     28.036      0.000       1.010       1.162\n",
       "===========================================================================================================\n",
       "\"\"\""
      ]
     },
     "execution_count": 98,
     "metadata": {},
     "output_type": "execute_result"
    }
   ],
   "source": [
    "#lets rerun the model using the selected variables - Model-2\n",
    "X_train_sm=sm.add_constant(X_train[col])\n",
    "logm2 = sm.GLM(y_train,X_train_sm,family=sm.families.Binomial())\n",
    "res=logm2.fit()\n",
    "res.summary()"
   ]
  },
  {
   "cell_type": "code",
   "execution_count": 99,
   "id": "0e4ea95b",
   "metadata": {},
   "outputs": [
    {
     "data": {
      "text/html": [
       "<div>\n",
       "<style scoped>\n",
       "    .dataframe tbody tr th:only-of-type {\n",
       "        vertical-align: middle;\n",
       "    }\n",
       "\n",
       "    .dataframe tbody tr th {\n",
       "        vertical-align: top;\n",
       "    }\n",
       "\n",
       "    .dataframe thead th {\n",
       "        text-align: right;\n",
       "    }\n",
       "</style>\n",
       "<table border=\"1\" class=\"dataframe\">\n",
       "  <thead>\n",
       "    <tr style=\"text-align: right;\">\n",
       "      <th></th>\n",
       "      <th>Features</th>\n",
       "      <th>VIF</th>\n",
       "    </tr>\n",
       "  </thead>\n",
       "  <tbody>\n",
       "    <tr>\n",
       "      <th>11</th>\n",
       "      <td>Newspaper Article_No</td>\n",
       "      <td>2128.13</td>\n",
       "    </tr>\n",
       "    <tr>\n",
       "      <th>9</th>\n",
       "      <td>Choosing_Course_Better Career Prospects</td>\n",
       "      <td>1504.97</td>\n",
       "    </tr>\n",
       "    <tr>\n",
       "      <th>10</th>\n",
       "      <td>Choosing_Course_Not Specified</td>\n",
       "      <td>642.38</td>\n",
       "    </tr>\n",
       "    <tr>\n",
       "      <th>2</th>\n",
       "      <td>Lead_Origin_Lead Import</td>\n",
       "      <td>37.23</td>\n",
       "    </tr>\n",
       "    <tr>\n",
       "      <th>3</th>\n",
       "      <td>Lead_source_Facebook</td>\n",
       "      <td>37.23</td>\n",
       "    </tr>\n",
       "    <tr>\n",
       "      <th>13</th>\n",
       "      <td>City_Unknown</td>\n",
       "      <td>8.65</td>\n",
       "    </tr>\n",
       "    <tr>\n",
       "      <th>0</th>\n",
       "      <td>Lead_Origin_Landing Page Submission</td>\n",
       "      <td>8.50</td>\n",
       "    </tr>\n",
       "    <tr>\n",
       "      <th>6</th>\n",
       "      <td>Specialization_Not Specified</td>\n",
       "      <td>7.39</td>\n",
       "    </tr>\n",
       "    <tr>\n",
       "      <th>8</th>\n",
       "      <td>Current_Occu_Others</td>\n",
       "      <td>5.20</td>\n",
       "    </tr>\n",
       "    <tr>\n",
       "      <th>7</th>\n",
       "      <td>Country_Unknown</td>\n",
       "      <td>3.06</td>\n",
       "    </tr>\n",
       "    <tr>\n",
       "      <th>1</th>\n",
       "      <td>Lead_Origin_Lead Add Form</td>\n",
       "      <td>2.03</td>\n",
       "    </tr>\n",
       "    <tr>\n",
       "      <th>4</th>\n",
       "      <td>Lead_source_Welingak Website</td>\n",
       "      <td>1.34</td>\n",
       "    </tr>\n",
       "    <tr>\n",
       "      <th>15</th>\n",
       "      <td>Total Time Spent on Website</td>\n",
       "      <td>1.28</td>\n",
       "    </tr>\n",
       "    <tr>\n",
       "      <th>14</th>\n",
       "      <td>Do Not Email</td>\n",
       "      <td>1.11</td>\n",
       "    </tr>\n",
       "    <tr>\n",
       "      <th>5</th>\n",
       "      <td>Lead_source_others</td>\n",
       "      <td>1.01</td>\n",
       "    </tr>\n",
       "    <tr>\n",
       "      <th>12</th>\n",
       "      <td>Newspaper_Yes</td>\n",
       "      <td>1.00</td>\n",
       "    </tr>\n",
       "  </tbody>\n",
       "</table>\n",
       "</div>"
      ],
      "text/plain": [
       "                                   Features      VIF\n",
       "11                     Newspaper Article_No  2128.13\n",
       "9   Choosing_Course_Better Career Prospects  1504.97\n",
       "10            Choosing_Course_Not Specified   642.38\n",
       "2                   Lead_Origin_Lead Import    37.23\n",
       "3                      Lead_source_Facebook    37.23\n",
       "13                             City_Unknown     8.65\n",
       "0       Lead_Origin_Landing Page Submission     8.50\n",
       "6              Specialization_Not Specified     7.39\n",
       "8                       Current_Occu_Others     5.20\n",
       "7                           Country_Unknown     3.06\n",
       "1                 Lead_Origin_Lead Add Form     2.03\n",
       "4              Lead_source_Welingak Website     1.34\n",
       "15              Total Time Spent on Website     1.28\n",
       "14                             Do Not Email     1.11\n",
       "5                        Lead_source_others     1.01\n",
       "12                            Newspaper_Yes     1.00"
      ]
     },
     "execution_count": 99,
     "metadata": {},
     "output_type": "execute_result"
    }
   ],
   "source": [
    "vif=pd.DataFrame()\n",
    "vif['Features']=X_train[col].columns\n",
    "vif['VIF']=[variance_inflation_factor(X_train[col].values,i) for i in range(X_train[col].shape[1])]\n",
    "vif['VIF']=round(vif['VIF'],2)\n",
    "vif=vif.sort_values(by='VIF',ascending=False)\n",
    "vif"
   ]
  },
  {
   "cell_type": "code",
   "execution_count": 100,
   "id": "4bbe1660",
   "metadata": {},
   "outputs": [
    {
     "data": {
      "text/plain": [
       "Index(['Lead_Origin_Landing Page Submission', 'Lead_Origin_Lead Add Form',\n",
       "       'Lead_Origin_Lead Import', 'Lead_source_Facebook',\n",
       "       'Lead_source_Welingak Website', 'Lead_source_others',\n",
       "       'Specialization_Not Specified', 'Country_Unknown',\n",
       "       'Current_Occu_Others', 'Choosing_Course_Better Career Prospects',\n",
       "       'Choosing_Course_Not Specified', 'Newspaper_Yes', 'City_Unknown',\n",
       "       'Do Not Email', 'Total Time Spent on Website'],\n",
       "      dtype='object')"
      ]
     },
     "execution_count": 100,
     "metadata": {},
     "output_type": "execute_result"
    }
   ],
   "source": [
    "col=col.drop('Newspaper Article_No')\n",
    "col"
   ]
  },
  {
   "cell_type": "code",
   "execution_count": 101,
   "id": "b6d81d67",
   "metadata": {},
   "outputs": [
    {
     "data": {
      "text/html": [
       "<table class=\"simpletable\">\n",
       "<caption>Generalized Linear Model Regression Results</caption>\n",
       "<tr>\n",
       "  <th>Dep. Variable:</th>       <td>Converted</td>    <th>  No. Observations:  </th>  <td>  6363</td> \n",
       "</tr>\n",
       "<tr>\n",
       "  <th>Model:</th>                  <td>GLM</td>       <th>  Df Residuals:      </th>  <td>  6347</td> \n",
       "</tr>\n",
       "<tr>\n",
       "  <th>Model Family:</th>        <td>Binomial</td>     <th>  Df Model:          </th>  <td>    15</td> \n",
       "</tr>\n",
       "<tr>\n",
       "  <th>Link Function:</th>         <td>logit</td>      <th>  Scale:             </th> <td>  1.0000</td>\n",
       "</tr>\n",
       "<tr>\n",
       "  <th>Method:</th>                <td>IRLS</td>       <th>  Log-Likelihood:    </th> <td> -2852.0</td>\n",
       "</tr>\n",
       "<tr>\n",
       "  <th>Date:</th>            <td>Tue, 10 May 2022</td> <th>  Deviance:          </th> <td>  5704.0</td>\n",
       "</tr>\n",
       "<tr>\n",
       "  <th>Time:</th>                <td>22:25:07</td>     <th>  Pearson chi2:      </th> <td>6.57e+03</td>\n",
       "</tr>\n",
       "<tr>\n",
       "  <th>No. Iterations:</th>         <td>19</td>        <th>                     </th>     <td> </td>   \n",
       "</tr>\n",
       "<tr>\n",
       "  <th>Covariance Type:</th>     <td>nonrobust</td>    <th>                     </th>     <td> </td>   \n",
       "</tr>\n",
       "</table>\n",
       "<table class=\"simpletable\">\n",
       "<tr>\n",
       "                     <td></td>                        <th>coef</th>     <th>std err</th>      <th>z</th>      <th>P>|z|</th>  <th>[0.025</th>    <th>0.975]</th>  \n",
       "</tr>\n",
       "<tr>\n",
       "  <th>const</th>                                   <td>   -2.1992</td> <td>    2.295</td> <td>   -0.958</td> <td> 0.338</td> <td>   -6.698</td> <td>    2.299</td>\n",
       "</tr>\n",
       "<tr>\n",
       "  <th>Lead_Origin_Landing Page Submission</th>     <td>   -0.9718</td> <td>    0.132</td> <td>   -7.348</td> <td> 0.000</td> <td>   -1.231</td> <td>   -0.713</td>\n",
       "</tr>\n",
       "<tr>\n",
       "  <th>Lead_Origin_Lead Add Form</th>               <td>    2.2752</td> <td>    0.204</td> <td>   11.138</td> <td> 0.000</td> <td>    1.875</td> <td>    2.676</td>\n",
       "</tr>\n",
       "<tr>\n",
       "  <th>Lead_Origin_Lead Import</th>                 <td>   18.3595</td> <td> 1.77e+04</td> <td>    0.001</td> <td> 0.999</td> <td>-3.47e+04</td> <td> 3.48e+04</td>\n",
       "</tr>\n",
       "<tr>\n",
       "  <th>Lead_source_Facebook</th>                    <td>  -20.4097</td> <td> 1.77e+04</td> <td>   -0.001</td> <td> 0.999</td> <td>-3.48e+04</td> <td> 3.47e+04</td>\n",
       "</tr>\n",
       "<tr>\n",
       "  <th>Lead_source_Welingak Website</th>            <td>    3.2174</td> <td>    1.026</td> <td>    3.136</td> <td> 0.002</td> <td>    1.207</td> <td>    5.228</td>\n",
       "</tr>\n",
       "<tr>\n",
       "  <th>Lead_source_others</th>                      <td>    0.8293</td> <td>    0.679</td> <td>    1.221</td> <td> 0.222</td> <td>   -0.502</td> <td>    2.160</td>\n",
       "</tr>\n",
       "<tr>\n",
       "  <th>Specialization_Not Specified</th>            <td>   -0.6669</td> <td>    0.146</td> <td>   -4.571</td> <td> 0.000</td> <td>   -0.953</td> <td>   -0.381</td>\n",
       "</tr>\n",
       "<tr>\n",
       "  <th>Country_Unknown</th>                         <td>    1.0379</td> <td>    0.116</td> <td>    8.981</td> <td> 0.000</td> <td>    0.811</td> <td>    1.264</td>\n",
       "</tr>\n",
       "<tr>\n",
       "  <th>Current_Occu_Others</th>                     <td>    1.4217</td> <td>    0.121</td> <td>   11.732</td> <td> 0.000</td> <td>    1.184</td> <td>    1.659</td>\n",
       "</tr>\n",
       "<tr>\n",
       "  <th>Choosing_Course_Better Career Prospects</th> <td>    2.4505</td> <td>    2.296</td> <td>    1.067</td> <td> 0.286</td> <td>   -2.050</td> <td>    6.951</td>\n",
       "</tr>\n",
       "<tr>\n",
       "  <th>Choosing_Course_Not Specified</th>           <td>   -0.2374</td> <td>    2.298</td> <td>   -0.103</td> <td> 0.918</td> <td>   -4.742</td> <td>    4.267</td>\n",
       "</tr>\n",
       "<tr>\n",
       "  <th>Newspaper_Yes</th>                           <td>  -21.8891</td> <td> 1.77e+04</td> <td>   -0.001</td> <td> 0.999</td> <td>-3.48e+04</td> <td> 3.47e+04</td>\n",
       "</tr>\n",
       "<tr>\n",
       "  <th>City_Unknown</th>                            <td>   -0.6043</td> <td>    0.158</td> <td>   -3.829</td> <td> 0.000</td> <td>   -0.914</td> <td>   -0.295</td>\n",
       "</tr>\n",
       "<tr>\n",
       "  <th>Do Not Email</th>                            <td>   -1.2360</td> <td>    0.158</td> <td>   -7.818</td> <td> 0.000</td> <td>   -1.546</td> <td>   -0.926</td>\n",
       "</tr>\n",
       "<tr>\n",
       "  <th>Total Time Spent on Website</th>             <td>    1.0866</td> <td>    0.039</td> <td>   28.049</td> <td> 0.000</td> <td>    1.011</td> <td>    1.163</td>\n",
       "</tr>\n",
       "</table>"
      ],
      "text/plain": [
       "<class 'statsmodels.iolib.summary.Summary'>\n",
       "\"\"\"\n",
       "                 Generalized Linear Model Regression Results                  \n",
       "==============================================================================\n",
       "Dep. Variable:              Converted   No. Observations:                 6363\n",
       "Model:                            GLM   Df Residuals:                     6347\n",
       "Model Family:                Binomial   Df Model:                           15\n",
       "Link Function:                  logit   Scale:                          1.0000\n",
       "Method:                          IRLS   Log-Likelihood:                -2852.0\n",
       "Date:                Tue, 10 May 2022   Deviance:                       5704.0\n",
       "Time:                        22:25:07   Pearson chi2:                 6.57e+03\n",
       "No. Iterations:                    19                                         \n",
       "Covariance Type:            nonrobust                                         \n",
       "===========================================================================================================\n",
       "                                              coef    std err          z      P>|z|      [0.025      0.975]\n",
       "-----------------------------------------------------------------------------------------------------------\n",
       "const                                      -2.1992      2.295     -0.958      0.338      -6.698       2.299\n",
       "Lead_Origin_Landing Page Submission        -0.9718      0.132     -7.348      0.000      -1.231      -0.713\n",
       "Lead_Origin_Lead Add Form                   2.2752      0.204     11.138      0.000       1.875       2.676\n",
       "Lead_Origin_Lead Import                    18.3595   1.77e+04      0.001      0.999   -3.47e+04    3.48e+04\n",
       "Lead_source_Facebook                      -20.4097   1.77e+04     -0.001      0.999   -3.48e+04    3.47e+04\n",
       "Lead_source_Welingak Website                3.2174      1.026      3.136      0.002       1.207       5.228\n",
       "Lead_source_others                          0.8293      0.679      1.221      0.222      -0.502       2.160\n",
       "Specialization_Not Specified               -0.6669      0.146     -4.571      0.000      -0.953      -0.381\n",
       "Country_Unknown                             1.0379      0.116      8.981      0.000       0.811       1.264\n",
       "Current_Occu_Others                         1.4217      0.121     11.732      0.000       1.184       1.659\n",
       "Choosing_Course_Better Career Prospects     2.4505      2.296      1.067      0.286      -2.050       6.951\n",
       "Choosing_Course_Not Specified              -0.2374      2.298     -0.103      0.918      -4.742       4.267\n",
       "Newspaper_Yes                             -21.8891   1.77e+04     -0.001      0.999   -3.48e+04    3.47e+04\n",
       "City_Unknown                               -0.6043      0.158     -3.829      0.000      -0.914      -0.295\n",
       "Do Not Email                               -1.2360      0.158     -7.818      0.000      -1.546      -0.926\n",
       "Total Time Spent on Website                 1.0866      0.039     28.049      0.000       1.011       1.163\n",
       "===========================================================================================================\n",
       "\"\"\""
      ]
     },
     "execution_count": 101,
     "metadata": {},
     "output_type": "execute_result"
    }
   ],
   "source": [
    "#lets rerun the model using the selected variables - Model -3 \n",
    "X_train_sm=sm.add_constant(X_train[col])\n",
    "logm3 = sm.GLM(y_train,X_train_sm,family=sm.families.Binomial())\n",
    "res=logm3.fit()\n",
    "res.summary()"
   ]
  },
  {
   "cell_type": "code",
   "execution_count": 102,
   "id": "16216c86",
   "metadata": {},
   "outputs": [
    {
     "data": {
      "text/html": [
       "<div>\n",
       "<style scoped>\n",
       "    .dataframe tbody tr th:only-of-type {\n",
       "        vertical-align: middle;\n",
       "    }\n",
       "\n",
       "    .dataframe tbody tr th {\n",
       "        vertical-align: top;\n",
       "    }\n",
       "\n",
       "    .dataframe thead th {\n",
       "        text-align: right;\n",
       "    }\n",
       "</style>\n",
       "<table border=\"1\" class=\"dataframe\">\n",
       "  <thead>\n",
       "    <tr style=\"text-align: right;\">\n",
       "      <th></th>\n",
       "      <th>Features</th>\n",
       "      <th>VIF</th>\n",
       "    </tr>\n",
       "  </thead>\n",
       "  <tbody>\n",
       "    <tr>\n",
       "      <th>2</th>\n",
       "      <td>Lead_Origin_Lead Import</td>\n",
       "      <td>37.23</td>\n",
       "    </tr>\n",
       "    <tr>\n",
       "      <th>3</th>\n",
       "      <td>Lead_source_Facebook</td>\n",
       "      <td>37.23</td>\n",
       "    </tr>\n",
       "    <tr>\n",
       "      <th>9</th>\n",
       "      <td>Choosing_Course_Better Career Prospects</td>\n",
       "      <td>10.81</td>\n",
       "    </tr>\n",
       "    <tr>\n",
       "      <th>10</th>\n",
       "      <td>Choosing_Course_Not Specified</td>\n",
       "      <td>10.14</td>\n",
       "    </tr>\n",
       "    <tr>\n",
       "      <th>12</th>\n",
       "      <td>City_Unknown</td>\n",
       "      <td>8.64</td>\n",
       "    </tr>\n",
       "    <tr>\n",
       "      <th>0</th>\n",
       "      <td>Lead_Origin_Landing Page Submission</td>\n",
       "      <td>8.50</td>\n",
       "    </tr>\n",
       "    <tr>\n",
       "      <th>6</th>\n",
       "      <td>Specialization_Not Specified</td>\n",
       "      <td>7.39</td>\n",
       "    </tr>\n",
       "    <tr>\n",
       "      <th>8</th>\n",
       "      <td>Current_Occu_Others</td>\n",
       "      <td>5.20</td>\n",
       "    </tr>\n",
       "    <tr>\n",
       "      <th>7</th>\n",
       "      <td>Country_Unknown</td>\n",
       "      <td>3.05</td>\n",
       "    </tr>\n",
       "    <tr>\n",
       "      <th>1</th>\n",
       "      <td>Lead_Origin_Lead Add Form</td>\n",
       "      <td>2.03</td>\n",
       "    </tr>\n",
       "    <tr>\n",
       "      <th>4</th>\n",
       "      <td>Lead_source_Welingak Website</td>\n",
       "      <td>1.34</td>\n",
       "    </tr>\n",
       "    <tr>\n",
       "      <th>14</th>\n",
       "      <td>Total Time Spent on Website</td>\n",
       "      <td>1.28</td>\n",
       "    </tr>\n",
       "    <tr>\n",
       "      <th>13</th>\n",
       "      <td>Do Not Email</td>\n",
       "      <td>1.11</td>\n",
       "    </tr>\n",
       "    <tr>\n",
       "      <th>5</th>\n",
       "      <td>Lead_source_others</td>\n",
       "      <td>1.01</td>\n",
       "    </tr>\n",
       "    <tr>\n",
       "      <th>11</th>\n",
       "      <td>Newspaper_Yes</td>\n",
       "      <td>1.00</td>\n",
       "    </tr>\n",
       "  </tbody>\n",
       "</table>\n",
       "</div>"
      ],
      "text/plain": [
       "                                   Features    VIF\n",
       "2                   Lead_Origin_Lead Import  37.23\n",
       "3                      Lead_source_Facebook  37.23\n",
       "9   Choosing_Course_Better Career Prospects  10.81\n",
       "10            Choosing_Course_Not Specified  10.14\n",
       "12                             City_Unknown   8.64\n",
       "0       Lead_Origin_Landing Page Submission   8.50\n",
       "6              Specialization_Not Specified   7.39\n",
       "8                       Current_Occu_Others   5.20\n",
       "7                           Country_Unknown   3.05\n",
       "1                 Lead_Origin_Lead Add Form   2.03\n",
       "4              Lead_source_Welingak Website   1.34\n",
       "14              Total Time Spent on Website   1.28\n",
       "13                             Do Not Email   1.11\n",
       "5                        Lead_source_others   1.01\n",
       "11                            Newspaper_Yes   1.00"
      ]
     },
     "execution_count": 102,
     "metadata": {},
     "output_type": "execute_result"
    }
   ],
   "source": [
    "vif=pd.DataFrame()\n",
    "vif['Features']=X_train[col].columns\n",
    "vif['VIF']=[variance_inflation_factor(X_train[col].values,i) for i in range(X_train[col].shape[1])]\n",
    "vif['VIF']=round(vif['VIF'],2)\n",
    "vif=vif.sort_values(by='VIF',ascending=False)\n",
    "vif"
   ]
  },
  {
   "cell_type": "code",
   "execution_count": 103,
   "id": "4c2f546c",
   "metadata": {},
   "outputs": [
    {
     "data": {
      "text/plain": [
       "Index(['Lead_Origin_Landing Page Submission', 'Lead_Origin_Lead Add Form',\n",
       "       'Lead_source_Facebook', 'Lead_source_Welingak Website',\n",
       "       'Lead_source_others', 'Specialization_Not Specified', 'Country_Unknown',\n",
       "       'Current_Occu_Others', 'Choosing_Course_Better Career Prospects',\n",
       "       'Choosing_Course_Not Specified', 'Newspaper_Yes', 'City_Unknown',\n",
       "       'Do Not Email', 'Total Time Spent on Website'],\n",
       "      dtype='object')"
      ]
     },
     "execution_count": 103,
     "metadata": {},
     "output_type": "execute_result"
    }
   ],
   "source": [
    "col=col.drop('Lead_Origin_Lead Import')\n",
    "col"
   ]
  },
  {
   "cell_type": "code",
   "execution_count": 104,
   "id": "15b18e9d",
   "metadata": {},
   "outputs": [
    {
     "data": {
      "text/html": [
       "<table class=\"simpletable\">\n",
       "<caption>Generalized Linear Model Regression Results</caption>\n",
       "<tr>\n",
       "  <th>Dep. Variable:</th>       <td>Converted</td>    <th>  No. Observations:  </th>  <td>  6363</td> \n",
       "</tr>\n",
       "<tr>\n",
       "  <th>Model:</th>                  <td>GLM</td>       <th>  Df Residuals:      </th>  <td>  6348</td> \n",
       "</tr>\n",
       "<tr>\n",
       "  <th>Model Family:</th>        <td>Binomial</td>     <th>  Df Model:          </th>  <td>    14</td> \n",
       "</tr>\n",
       "<tr>\n",
       "  <th>Link Function:</th>         <td>logit</td>      <th>  Scale:             </th> <td>  1.0000</td>\n",
       "</tr>\n",
       "<tr>\n",
       "  <th>Method:</th>                <td>IRLS</td>       <th>  Log-Likelihood:    </th> <td> -2852.1</td>\n",
       "</tr>\n",
       "<tr>\n",
       "  <th>Date:</th>            <td>Tue, 10 May 2022</td> <th>  Deviance:          </th> <td>  5704.2</td>\n",
       "</tr>\n",
       "<tr>\n",
       "  <th>Time:</th>                <td>22:25:07</td>     <th>  Pearson chi2:      </th> <td>6.57e+03</td>\n",
       "</tr>\n",
       "<tr>\n",
       "  <th>No. Iterations:</th>         <td>19</td>        <th>                     </th>     <td> </td>   \n",
       "</tr>\n",
       "<tr>\n",
       "  <th>Covariance Type:</th>     <td>nonrobust</td>    <th>                     </th>     <td> </td>   \n",
       "</tr>\n",
       "</table>\n",
       "<table class=\"simpletable\">\n",
       "<tr>\n",
       "                     <td></td>                        <th>coef</th>     <th>std err</th>      <th>z</th>      <th>P>|z|</th>  <th>[0.025</th>    <th>0.975]</th>  \n",
       "</tr>\n",
       "<tr>\n",
       "  <th>const</th>                                   <td>   -2.1990</td> <td>    2.294</td> <td>   -0.959</td> <td> 0.338</td> <td>   -6.695</td> <td>    2.297</td>\n",
       "</tr>\n",
       "<tr>\n",
       "  <th>Lead_Origin_Landing Page Submission</th>     <td>   -0.9733</td> <td>    0.132</td> <td>   -7.363</td> <td> 0.000</td> <td>   -1.232</td> <td>   -0.714</td>\n",
       "</tr>\n",
       "<tr>\n",
       "  <th>Lead_Origin_Lead Add Form</th>               <td>    2.2743</td> <td>    0.204</td> <td>   11.134</td> <td> 0.000</td> <td>    1.874</td> <td>    2.675</td>\n",
       "</tr>\n",
       "<tr>\n",
       "  <th>Lead_source_Facebook</th>                    <td>   -2.0783</td> <td>    0.545</td> <td>   -3.813</td> <td> 0.000</td> <td>   -3.147</td> <td>   -1.010</td>\n",
       "</tr>\n",
       "<tr>\n",
       "  <th>Lead_source_Welingak Website</th>            <td>    3.2178</td> <td>    1.026</td> <td>    3.137</td> <td> 0.002</td> <td>    1.207</td> <td>    5.229</td>\n",
       "</tr>\n",
       "<tr>\n",
       "  <th>Lead_source_others</th>                      <td>    0.8294</td> <td>    0.679</td> <td>    1.221</td> <td> 0.222</td> <td>   -0.502</td> <td>    2.160</td>\n",
       "</tr>\n",
       "<tr>\n",
       "  <th>Specialization_Not Specified</th>            <td>   -0.6683</td> <td>    0.146</td> <td>   -4.582</td> <td> 0.000</td> <td>   -0.954</td> <td>   -0.382</td>\n",
       "</tr>\n",
       "<tr>\n",
       "  <th>Country_Unknown</th>                         <td>    1.0390</td> <td>    0.116</td> <td>    8.993</td> <td> 0.000</td> <td>    0.813</td> <td>    1.265</td>\n",
       "</tr>\n",
       "<tr>\n",
       "  <th>Current_Occu_Others</th>                     <td>    1.4202</td> <td>    0.121</td> <td>   11.729</td> <td> 0.000</td> <td>    1.183</td> <td>    1.658</td>\n",
       "</tr>\n",
       "<tr>\n",
       "  <th>Choosing_Course_Better Career Prospects</th> <td>    2.4518</td> <td>    2.295</td> <td>    1.068</td> <td> 0.285</td> <td>   -2.047</td> <td>    6.951</td>\n",
       "</tr>\n",
       "<tr>\n",
       "  <th>Choosing_Course_Not Specified</th>           <td>   -0.2348</td> <td>    2.297</td> <td>   -0.102</td> <td> 0.919</td> <td>   -4.737</td> <td>    4.268</td>\n",
       "</tr>\n",
       "<tr>\n",
       "  <th>Newspaper_Yes</th>                           <td>  -21.8889</td> <td> 1.77e+04</td> <td>   -0.001</td> <td> 0.999</td> <td>-3.48e+04</td> <td> 3.47e+04</td>\n",
       "</tr>\n",
       "<tr>\n",
       "  <th>City_Unknown</th>                            <td>   -0.6049</td> <td>    0.158</td> <td>   -3.833</td> <td> 0.000</td> <td>   -0.914</td> <td>   -0.296</td>\n",
       "</tr>\n",
       "<tr>\n",
       "  <th>Do Not Email</th>                            <td>   -1.2360</td> <td>    0.158</td> <td>   -7.817</td> <td> 0.000</td> <td>   -1.546</td> <td>   -0.926</td>\n",
       "</tr>\n",
       "<tr>\n",
       "  <th>Total Time Spent on Website</th>             <td>    1.0868</td> <td>    0.039</td> <td>   28.055</td> <td> 0.000</td> <td>    1.011</td> <td>    1.163</td>\n",
       "</tr>\n",
       "</table>"
      ],
      "text/plain": [
       "<class 'statsmodels.iolib.summary.Summary'>\n",
       "\"\"\"\n",
       "                 Generalized Linear Model Regression Results                  \n",
       "==============================================================================\n",
       "Dep. Variable:              Converted   No. Observations:                 6363\n",
       "Model:                            GLM   Df Residuals:                     6348\n",
       "Model Family:                Binomial   Df Model:                           14\n",
       "Link Function:                  logit   Scale:                          1.0000\n",
       "Method:                          IRLS   Log-Likelihood:                -2852.1\n",
       "Date:                Tue, 10 May 2022   Deviance:                       5704.2\n",
       "Time:                        22:25:07   Pearson chi2:                 6.57e+03\n",
       "No. Iterations:                    19                                         \n",
       "Covariance Type:            nonrobust                                         \n",
       "===========================================================================================================\n",
       "                                              coef    std err          z      P>|z|      [0.025      0.975]\n",
       "-----------------------------------------------------------------------------------------------------------\n",
       "const                                      -2.1990      2.294     -0.959      0.338      -6.695       2.297\n",
       "Lead_Origin_Landing Page Submission        -0.9733      0.132     -7.363      0.000      -1.232      -0.714\n",
       "Lead_Origin_Lead Add Form                   2.2743      0.204     11.134      0.000       1.874       2.675\n",
       "Lead_source_Facebook                       -2.0783      0.545     -3.813      0.000      -3.147      -1.010\n",
       "Lead_source_Welingak Website                3.2178      1.026      3.137      0.002       1.207       5.229\n",
       "Lead_source_others                          0.8294      0.679      1.221      0.222      -0.502       2.160\n",
       "Specialization_Not Specified               -0.6683      0.146     -4.582      0.000      -0.954      -0.382\n",
       "Country_Unknown                             1.0390      0.116      8.993      0.000       0.813       1.265\n",
       "Current_Occu_Others                         1.4202      0.121     11.729      0.000       1.183       1.658\n",
       "Choosing_Course_Better Career Prospects     2.4518      2.295      1.068      0.285      -2.047       6.951\n",
       "Choosing_Course_Not Specified              -0.2348      2.297     -0.102      0.919      -4.737       4.268\n",
       "Newspaper_Yes                             -21.8889   1.77e+04     -0.001      0.999   -3.48e+04    3.47e+04\n",
       "City_Unknown                               -0.6049      0.158     -3.833      0.000      -0.914      -0.296\n",
       "Do Not Email                               -1.2360      0.158     -7.817      0.000      -1.546      -0.926\n",
       "Total Time Spent on Website                 1.0868      0.039     28.055      0.000       1.011       1.163\n",
       "===========================================================================================================\n",
       "\"\"\""
      ]
     },
     "execution_count": 104,
     "metadata": {},
     "output_type": "execute_result"
    }
   ],
   "source": [
    "#lets rerun the model using the selected variables - Model-4\n",
    "X_train_sm=sm.add_constant(X_train[col])\n",
    "logm4 = sm.GLM(y_train,X_train_sm,family=sm.families.Binomial())\n",
    "res=logm4.fit()\n",
    "res.summary()"
   ]
  },
  {
   "cell_type": "code",
   "execution_count": 105,
   "id": "409cfd31",
   "metadata": {},
   "outputs": [
    {
     "data": {
      "text/html": [
       "<div>\n",
       "<style scoped>\n",
       "    .dataframe tbody tr th:only-of-type {\n",
       "        vertical-align: middle;\n",
       "    }\n",
       "\n",
       "    .dataframe tbody tr th {\n",
       "        vertical-align: top;\n",
       "    }\n",
       "\n",
       "    .dataframe thead th {\n",
       "        text-align: right;\n",
       "    }\n",
       "</style>\n",
       "<table border=\"1\" class=\"dataframe\">\n",
       "  <thead>\n",
       "    <tr style=\"text-align: right;\">\n",
       "      <th></th>\n",
       "      <th>Features</th>\n",
       "      <th>VIF</th>\n",
       "    </tr>\n",
       "  </thead>\n",
       "  <tbody>\n",
       "    <tr>\n",
       "      <th>8</th>\n",
       "      <td>Choosing_Course_Better Career Prospects</td>\n",
       "      <td>10.79</td>\n",
       "    </tr>\n",
       "    <tr>\n",
       "      <th>9</th>\n",
       "      <td>Choosing_Course_Not Specified</td>\n",
       "      <td>10.10</td>\n",
       "    </tr>\n",
       "    <tr>\n",
       "      <th>11</th>\n",
       "      <td>City_Unknown</td>\n",
       "      <td>8.64</td>\n",
       "    </tr>\n",
       "    <tr>\n",
       "      <th>0</th>\n",
       "      <td>Lead_Origin_Landing Page Submission</td>\n",
       "      <td>8.48</td>\n",
       "    </tr>\n",
       "    <tr>\n",
       "      <th>5</th>\n",
       "      <td>Specialization_Not Specified</td>\n",
       "      <td>7.38</td>\n",
       "    </tr>\n",
       "    <tr>\n",
       "      <th>7</th>\n",
       "      <td>Current_Occu_Others</td>\n",
       "      <td>5.18</td>\n",
       "    </tr>\n",
       "    <tr>\n",
       "      <th>6</th>\n",
       "      <td>Country_Unknown</td>\n",
       "      <td>3.05</td>\n",
       "    </tr>\n",
       "    <tr>\n",
       "      <th>1</th>\n",
       "      <td>Lead_Origin_Lead Add Form</td>\n",
       "      <td>2.03</td>\n",
       "    </tr>\n",
       "    <tr>\n",
       "      <th>3</th>\n",
       "      <td>Lead_source_Welingak Website</td>\n",
       "      <td>1.34</td>\n",
       "    </tr>\n",
       "    <tr>\n",
       "      <th>13</th>\n",
       "      <td>Total Time Spent on Website</td>\n",
       "      <td>1.28</td>\n",
       "    </tr>\n",
       "    <tr>\n",
       "      <th>2</th>\n",
       "      <td>Lead_source_Facebook</td>\n",
       "      <td>1.13</td>\n",
       "    </tr>\n",
       "    <tr>\n",
       "      <th>12</th>\n",
       "      <td>Do Not Email</td>\n",
       "      <td>1.11</td>\n",
       "    </tr>\n",
       "    <tr>\n",
       "      <th>4</th>\n",
       "      <td>Lead_source_others</td>\n",
       "      <td>1.01</td>\n",
       "    </tr>\n",
       "    <tr>\n",
       "      <th>10</th>\n",
       "      <td>Newspaper_Yes</td>\n",
       "      <td>1.00</td>\n",
       "    </tr>\n",
       "  </tbody>\n",
       "</table>\n",
       "</div>"
      ],
      "text/plain": [
       "                                   Features    VIF\n",
       "8   Choosing_Course_Better Career Prospects  10.79\n",
       "9             Choosing_Course_Not Specified  10.10\n",
       "11                             City_Unknown   8.64\n",
       "0       Lead_Origin_Landing Page Submission   8.48\n",
       "5              Specialization_Not Specified   7.38\n",
       "7                       Current_Occu_Others   5.18\n",
       "6                           Country_Unknown   3.05\n",
       "1                 Lead_Origin_Lead Add Form   2.03\n",
       "3              Lead_source_Welingak Website   1.34\n",
       "13              Total Time Spent on Website   1.28\n",
       "2                      Lead_source_Facebook   1.13\n",
       "12                             Do Not Email   1.11\n",
       "4                        Lead_source_others   1.01\n",
       "10                            Newspaper_Yes   1.00"
      ]
     },
     "execution_count": 105,
     "metadata": {},
     "output_type": "execute_result"
    }
   ],
   "source": [
    "vif=pd.DataFrame()\n",
    "vif['Features']=X_train[col].columns\n",
    "vif['VIF']=[variance_inflation_factor(X_train[col].values,i) for i in range(X_train[col].shape[1])]\n",
    "vif['VIF']=round(vif['VIF'],2)\n",
    "vif=vif.sort_values(by='VIF',ascending=False)\n",
    "vif"
   ]
  },
  {
   "cell_type": "code",
   "execution_count": 106,
   "id": "08366b19",
   "metadata": {},
   "outputs": [
    {
     "data": {
      "text/plain": [
       "Index(['Lead_Origin_Landing Page Submission', 'Lead_Origin_Lead Add Form',\n",
       "       'Lead_source_Facebook', 'Lead_source_Welingak Website',\n",
       "       'Lead_source_others', 'Specialization_Not Specified', 'Country_Unknown',\n",
       "       'Current_Occu_Others', 'Choosing_Course_Better Career Prospects',\n",
       "       'Choosing_Course_Not Specified', 'City_Unknown', 'Do Not Email',\n",
       "       'Total Time Spent on Website'],\n",
       "      dtype='object')"
      ]
     },
     "execution_count": 106,
     "metadata": {},
     "output_type": "execute_result"
    }
   ],
   "source": [
    "col=col.drop('Newspaper_Yes')\n",
    "col"
   ]
  },
  {
   "cell_type": "code",
   "execution_count": 107,
   "id": "e2e941ce",
   "metadata": {},
   "outputs": [
    {
     "data": {
      "text/html": [
       "<table class=\"simpletable\">\n",
       "<caption>Generalized Linear Model Regression Results</caption>\n",
       "<tr>\n",
       "  <th>Dep. Variable:</th>       <td>Converted</td>    <th>  No. Observations:  </th>  <td>  6363</td> \n",
       "</tr>\n",
       "<tr>\n",
       "  <th>Model:</th>                  <td>GLM</td>       <th>  Df Residuals:      </th>  <td>  6349</td> \n",
       "</tr>\n",
       "<tr>\n",
       "  <th>Model Family:</th>        <td>Binomial</td>     <th>  Df Model:          </th>  <td>    13</td> \n",
       "</tr>\n",
       "<tr>\n",
       "  <th>Link Function:</th>         <td>logit</td>      <th>  Scale:             </th> <td>  1.0000</td>\n",
       "</tr>\n",
       "<tr>\n",
       "  <th>Method:</th>                <td>IRLS</td>       <th>  Log-Likelihood:    </th> <td> -2853.7</td>\n",
       "</tr>\n",
       "<tr>\n",
       "  <th>Date:</th>            <td>Tue, 10 May 2022</td> <th>  Deviance:          </th> <td>  5707.3</td>\n",
       "</tr>\n",
       "<tr>\n",
       "  <th>Time:</th>                <td>22:25:07</td>     <th>  Pearson chi2:      </th> <td>6.57e+03</td>\n",
       "</tr>\n",
       "<tr>\n",
       "  <th>No. Iterations:</th>          <td>7</td>        <th>                     </th>     <td> </td>   \n",
       "</tr>\n",
       "<tr>\n",
       "  <th>Covariance Type:</th>     <td>nonrobust</td>    <th>                     </th>     <td> </td>   \n",
       "</tr>\n",
       "</table>\n",
       "<table class=\"simpletable\">\n",
       "<tr>\n",
       "                     <td></td>                        <th>coef</th>     <th>std err</th>      <th>z</th>      <th>P>|z|</th>  <th>[0.025</th>    <th>0.975]</th>  \n",
       "</tr>\n",
       "<tr>\n",
       "  <th>const</th>                                   <td>   -2.2004</td> <td>    2.295</td> <td>   -0.959</td> <td> 0.338</td> <td>   -6.698</td> <td>    2.298</td>\n",
       "</tr>\n",
       "<tr>\n",
       "  <th>Lead_Origin_Landing Page Submission</th>     <td>   -0.9818</td> <td>    0.132</td> <td>   -7.429</td> <td> 0.000</td> <td>   -1.241</td> <td>   -0.723</td>\n",
       "</tr>\n",
       "<tr>\n",
       "  <th>Lead_Origin_Lead Add Form</th>               <td>    2.2748</td> <td>    0.204</td> <td>   11.136</td> <td> 0.000</td> <td>    1.874</td> <td>    2.675</td>\n",
       "</tr>\n",
       "<tr>\n",
       "  <th>Lead_source_Facebook</th>                    <td>   -2.0924</td> <td>    0.545</td> <td>   -3.840</td> <td> 0.000</td> <td>   -3.160</td> <td>   -1.024</td>\n",
       "</tr>\n",
       "<tr>\n",
       "  <th>Lead_source_Welingak Website</th>            <td>    3.2166</td> <td>    1.026</td> <td>    3.136</td> <td> 0.002</td> <td>    1.206</td> <td>    5.227</td>\n",
       "</tr>\n",
       "<tr>\n",
       "  <th>Lead_source_others</th>                      <td>    0.8309</td> <td>    0.679</td> <td>    1.224</td> <td> 0.221</td> <td>   -0.500</td> <td>    2.161</td>\n",
       "</tr>\n",
       "<tr>\n",
       "  <th>Specialization_Not Specified</th>            <td>   -0.6577</td> <td>    0.146</td> <td>   -4.515</td> <td> 0.000</td> <td>   -0.943</td> <td>   -0.372</td>\n",
       "</tr>\n",
       "<tr>\n",
       "  <th>Country_Unknown</th>                         <td>    1.0374</td> <td>    0.116</td> <td>    8.981</td> <td> 0.000</td> <td>    0.811</td> <td>    1.264</td>\n",
       "</tr>\n",
       "<tr>\n",
       "  <th>Current_Occu_Others</th>                     <td>    1.4228</td> <td>    0.121</td> <td>   11.754</td> <td> 0.000</td> <td>    1.186</td> <td>    1.660</td>\n",
       "</tr>\n",
       "<tr>\n",
       "  <th>Choosing_Course_Better Career Prospects</th> <td>    2.4607</td> <td>    2.296</td> <td>    1.072</td> <td> 0.284</td> <td>   -2.040</td> <td>    6.961</td>\n",
       "</tr>\n",
       "<tr>\n",
       "  <th>Choosing_Course_Not Specified</th>           <td>   -0.2268</td> <td>    2.298</td> <td>   -0.099</td> <td> 0.921</td> <td>   -4.731</td> <td>    4.277</td>\n",
       "</tr>\n",
       "<tr>\n",
       "  <th>City_Unknown</th>                            <td>   -0.6241</td> <td>    0.158</td> <td>   -3.962</td> <td> 0.000</td> <td>   -0.933</td> <td>   -0.315</td>\n",
       "</tr>\n",
       "<tr>\n",
       "  <th>Do Not Email</th>                            <td>   -1.2341</td> <td>    0.158</td> <td>   -7.808</td> <td> 0.000</td> <td>   -1.544</td> <td>   -0.924</td>\n",
       "</tr>\n",
       "<tr>\n",
       "  <th>Total Time Spent on Website</th>             <td>    1.0845</td> <td>    0.039</td> <td>   28.028</td> <td> 0.000</td> <td>    1.009</td> <td>    1.160</td>\n",
       "</tr>\n",
       "</table>"
      ],
      "text/plain": [
       "<class 'statsmodels.iolib.summary.Summary'>\n",
       "\"\"\"\n",
       "                 Generalized Linear Model Regression Results                  \n",
       "==============================================================================\n",
       "Dep. Variable:              Converted   No. Observations:                 6363\n",
       "Model:                            GLM   Df Residuals:                     6349\n",
       "Model Family:                Binomial   Df Model:                           13\n",
       "Link Function:                  logit   Scale:                          1.0000\n",
       "Method:                          IRLS   Log-Likelihood:                -2853.7\n",
       "Date:                Tue, 10 May 2022   Deviance:                       5707.3\n",
       "Time:                        22:25:07   Pearson chi2:                 6.57e+03\n",
       "No. Iterations:                     7                                         \n",
       "Covariance Type:            nonrobust                                         \n",
       "===========================================================================================================\n",
       "                                              coef    std err          z      P>|z|      [0.025      0.975]\n",
       "-----------------------------------------------------------------------------------------------------------\n",
       "const                                      -2.2004      2.295     -0.959      0.338      -6.698       2.298\n",
       "Lead_Origin_Landing Page Submission        -0.9818      0.132     -7.429      0.000      -1.241      -0.723\n",
       "Lead_Origin_Lead Add Form                   2.2748      0.204     11.136      0.000       1.874       2.675\n",
       "Lead_source_Facebook                       -2.0924      0.545     -3.840      0.000      -3.160      -1.024\n",
       "Lead_source_Welingak Website                3.2166      1.026      3.136      0.002       1.206       5.227\n",
       "Lead_source_others                          0.8309      0.679      1.224      0.221      -0.500       2.161\n",
       "Specialization_Not Specified               -0.6577      0.146     -4.515      0.000      -0.943      -0.372\n",
       "Country_Unknown                             1.0374      0.116      8.981      0.000       0.811       1.264\n",
       "Current_Occu_Others                         1.4228      0.121     11.754      0.000       1.186       1.660\n",
       "Choosing_Course_Better Career Prospects     2.4607      2.296      1.072      0.284      -2.040       6.961\n",
       "Choosing_Course_Not Specified              -0.2268      2.298     -0.099      0.921      -4.731       4.277\n",
       "City_Unknown                               -0.6241      0.158     -3.962      0.000      -0.933      -0.315\n",
       "Do Not Email                               -1.2341      0.158     -7.808      0.000      -1.544      -0.924\n",
       "Total Time Spent on Website                 1.0845      0.039     28.028      0.000       1.009       1.160\n",
       "===========================================================================================================\n",
       "\"\"\""
      ]
     },
     "execution_count": 107,
     "metadata": {},
     "output_type": "execute_result"
    }
   ],
   "source": [
    "#lets rerun the model using the selected variables - Model-5\n",
    "X_train_sm=sm.add_constant(X_train[col])\n",
    "#logm4 = sm.GLM(y_train,X_train_sm,family=sm.families.Binomial())\n",
    "logm4 = sm.GLM(y_train,X_train_sm,family=sm.families.Binomial())\n",
    "res=logm4.fit()\n",
    "res.summary()"
   ]
  },
  {
   "cell_type": "code",
   "execution_count": 108,
   "id": "b7ec0f74",
   "metadata": {},
   "outputs": [
    {
     "data": {
      "text/html": [
       "<div>\n",
       "<style scoped>\n",
       "    .dataframe tbody tr th:only-of-type {\n",
       "        vertical-align: middle;\n",
       "    }\n",
       "\n",
       "    .dataframe tbody tr th {\n",
       "        vertical-align: top;\n",
       "    }\n",
       "\n",
       "    .dataframe thead th {\n",
       "        text-align: right;\n",
       "    }\n",
       "</style>\n",
       "<table border=\"1\" class=\"dataframe\">\n",
       "  <thead>\n",
       "    <tr style=\"text-align: right;\">\n",
       "      <th></th>\n",
       "      <th>Features</th>\n",
       "      <th>VIF</th>\n",
       "    </tr>\n",
       "  </thead>\n",
       "  <tbody>\n",
       "    <tr>\n",
       "      <th>8</th>\n",
       "      <td>Choosing_Course_Better Career Prospects</td>\n",
       "      <td>10.78</td>\n",
       "    </tr>\n",
       "    <tr>\n",
       "      <th>9</th>\n",
       "      <td>Choosing_Course_Not Specified</td>\n",
       "      <td>10.10</td>\n",
       "    </tr>\n",
       "    <tr>\n",
       "      <th>10</th>\n",
       "      <td>City_Unknown</td>\n",
       "      <td>8.61</td>\n",
       "    </tr>\n",
       "    <tr>\n",
       "      <th>0</th>\n",
       "      <td>Lead_Origin_Landing Page Submission</td>\n",
       "      <td>8.47</td>\n",
       "    </tr>\n",
       "    <tr>\n",
       "      <th>5</th>\n",
       "      <td>Specialization_Not Specified</td>\n",
       "      <td>7.37</td>\n",
       "    </tr>\n",
       "    <tr>\n",
       "      <th>7</th>\n",
       "      <td>Current_Occu_Others</td>\n",
       "      <td>5.18</td>\n",
       "    </tr>\n",
       "    <tr>\n",
       "      <th>6</th>\n",
       "      <td>Country_Unknown</td>\n",
       "      <td>3.05</td>\n",
       "    </tr>\n",
       "    <tr>\n",
       "      <th>1</th>\n",
       "      <td>Lead_Origin_Lead Add Form</td>\n",
       "      <td>2.03</td>\n",
       "    </tr>\n",
       "    <tr>\n",
       "      <th>3</th>\n",
       "      <td>Lead_source_Welingak Website</td>\n",
       "      <td>1.34</td>\n",
       "    </tr>\n",
       "    <tr>\n",
       "      <th>12</th>\n",
       "      <td>Total Time Spent on Website</td>\n",
       "      <td>1.28</td>\n",
       "    </tr>\n",
       "    <tr>\n",
       "      <th>2</th>\n",
       "      <td>Lead_source_Facebook</td>\n",
       "      <td>1.13</td>\n",
       "    </tr>\n",
       "    <tr>\n",
       "      <th>11</th>\n",
       "      <td>Do Not Email</td>\n",
       "      <td>1.11</td>\n",
       "    </tr>\n",
       "    <tr>\n",
       "      <th>4</th>\n",
       "      <td>Lead_source_others</td>\n",
       "      <td>1.01</td>\n",
       "    </tr>\n",
       "  </tbody>\n",
       "</table>\n",
       "</div>"
      ],
      "text/plain": [
       "                                   Features    VIF\n",
       "8   Choosing_Course_Better Career Prospects  10.78\n",
       "9             Choosing_Course_Not Specified  10.10\n",
       "10                             City_Unknown   8.61\n",
       "0       Lead_Origin_Landing Page Submission   8.47\n",
       "5              Specialization_Not Specified   7.37\n",
       "7                       Current_Occu_Others   5.18\n",
       "6                           Country_Unknown   3.05\n",
       "1                 Lead_Origin_Lead Add Form   2.03\n",
       "3              Lead_source_Welingak Website   1.34\n",
       "12              Total Time Spent on Website   1.28\n",
       "2                      Lead_source_Facebook   1.13\n",
       "11                             Do Not Email   1.11\n",
       "4                        Lead_source_others   1.01"
      ]
     },
     "execution_count": 108,
     "metadata": {},
     "output_type": "execute_result"
    }
   ],
   "source": [
    "vif=pd.DataFrame()\n",
    "vif['Features']=X_train[col].columns\n",
    "vif['VIF']=[variance_inflation_factor(X_train[col].values,i) for i in range(X_train[col].shape[1])]\n",
    "vif['VIF']=round(vif['VIF'],2)\n",
    "vif=vif.sort_values(by='VIF',ascending=False)\n",
    "vif"
   ]
  },
  {
   "cell_type": "code",
   "execution_count": 109,
   "id": "f697bb99",
   "metadata": {},
   "outputs": [
    {
     "data": {
      "text/plain": [
       "Index(['Lead_Origin_Landing Page Submission', 'Lead_Origin_Lead Add Form',\n",
       "       'Lead_source_Facebook', 'Lead_source_Welingak Website',\n",
       "       'Lead_source_others', 'Specialization_Not Specified', 'Country_Unknown',\n",
       "       'Current_Occu_Others', 'Choosing_Course_Better Career Prospects',\n",
       "       'City_Unknown', 'Do Not Email', 'Total Time Spent on Website'],\n",
       "      dtype='object')"
      ]
     },
     "execution_count": 109,
     "metadata": {},
     "output_type": "execute_result"
    }
   ],
   "source": [
    "col=col.drop('Choosing_Course_Not Specified')\n",
    "col"
   ]
  },
  {
   "cell_type": "code",
   "execution_count": 110,
   "id": "b744fe8e",
   "metadata": {},
   "outputs": [
    {
     "data": {
      "text/html": [
       "<table class=\"simpletable\">\n",
       "<caption>Generalized Linear Model Regression Results</caption>\n",
       "<tr>\n",
       "  <th>Dep. Variable:</th>       <td>Converted</td>    <th>  No. Observations:  </th>  <td>  6363</td> \n",
       "</tr>\n",
       "<tr>\n",
       "  <th>Model:</th>                  <td>GLM</td>       <th>  Df Residuals:      </th>  <td>  6350</td> \n",
       "</tr>\n",
       "<tr>\n",
       "  <th>Model Family:</th>        <td>Binomial</td>     <th>  Df Model:          </th>  <td>    12</td> \n",
       "</tr>\n",
       "<tr>\n",
       "  <th>Link Function:</th>         <td>logit</td>      <th>  Scale:             </th> <td>  1.0000</td>\n",
       "</tr>\n",
       "<tr>\n",
       "  <th>Method:</th>                <td>IRLS</td>       <th>  Log-Likelihood:    </th> <td> -2853.7</td>\n",
       "</tr>\n",
       "<tr>\n",
       "  <th>Date:</th>            <td>Tue, 10 May 2022</td> <th>  Deviance:          </th> <td>  5707.3</td>\n",
       "</tr>\n",
       "<tr>\n",
       "  <th>Time:</th>                <td>22:25:07</td>     <th>  Pearson chi2:      </th> <td>6.57e+03</td>\n",
       "</tr>\n",
       "<tr>\n",
       "  <th>No. Iterations:</th>          <td>7</td>        <th>                     </th>     <td> </td>   \n",
       "</tr>\n",
       "<tr>\n",
       "  <th>Covariance Type:</th>     <td>nonrobust</td>    <th>                     </th>     <td> </td>   \n",
       "</tr>\n",
       "</table>\n",
       "<table class=\"simpletable\">\n",
       "<tr>\n",
       "                     <td></td>                        <th>coef</th>     <th>std err</th>      <th>z</th>      <th>P>|z|</th>  <th>[0.025</th>    <th>0.975]</th>  \n",
       "</tr>\n",
       "<tr>\n",
       "  <th>const</th>                                   <td>   -2.4261</td> <td>    0.192</td> <td>  -12.622</td> <td> 0.000</td> <td>   -2.803</td> <td>   -2.049</td>\n",
       "</tr>\n",
       "<tr>\n",
       "  <th>Lead_Origin_Landing Page Submission</th>     <td>   -0.9823</td> <td>    0.132</td> <td>   -7.438</td> <td> 0.000</td> <td>   -1.241</td> <td>   -0.723</td>\n",
       "</tr>\n",
       "<tr>\n",
       "  <th>Lead_Origin_Lead Add Form</th>               <td>    2.2755</td> <td>    0.204</td> <td>   11.145</td> <td> 0.000</td> <td>    1.875</td> <td>    2.676</td>\n",
       "</tr>\n",
       "<tr>\n",
       "  <th>Lead_source_Facebook</th>                    <td>   -2.0929</td> <td>    0.545</td> <td>   -3.841</td> <td> 0.000</td> <td>   -3.161</td> <td>   -1.025</td>\n",
       "</tr>\n",
       "<tr>\n",
       "  <th>Lead_source_Welingak Website</th>            <td>    3.2159</td> <td>    1.026</td> <td>    3.135</td> <td> 0.002</td> <td>    1.205</td> <td>    5.227</td>\n",
       "</tr>\n",
       "<tr>\n",
       "  <th>Lead_source_others</th>                      <td>    0.8309</td> <td>    0.679</td> <td>    1.224</td> <td> 0.221</td> <td>   -0.500</td> <td>    2.161</td>\n",
       "</tr>\n",
       "<tr>\n",
       "  <th>Specialization_Not Specified</th>            <td>   -0.6580</td> <td>    0.146</td> <td>   -4.518</td> <td> 0.000</td> <td>   -0.943</td> <td>   -0.373</td>\n",
       "</tr>\n",
       "<tr>\n",
       "  <th>Country_Unknown</th>                         <td>    1.0376</td> <td>    0.115</td> <td>    8.985</td> <td> 0.000</td> <td>    0.811</td> <td>    1.264</td>\n",
       "</tr>\n",
       "<tr>\n",
       "  <th>Current_Occu_Others</th>                     <td>    1.4225</td> <td>    0.121</td> <td>   11.755</td> <td> 0.000</td> <td>    1.185</td> <td>    1.660</td>\n",
       "</tr>\n",
       "<tr>\n",
       "  <th>Choosing_Course_Better Career Prospects</th> <td>    2.6869</td> <td>    0.138</td> <td>   19.461</td> <td> 0.000</td> <td>    2.416</td> <td>    2.958</td>\n",
       "</tr>\n",
       "<tr>\n",
       "  <th>City_Unknown</th>                            <td>   -0.6246</td> <td>    0.157</td> <td>   -3.967</td> <td> 0.000</td> <td>   -0.933</td> <td>   -0.316</td>\n",
       "</tr>\n",
       "<tr>\n",
       "  <th>Do Not Email</th>                            <td>   -1.2342</td> <td>    0.158</td> <td>   -7.809</td> <td> 0.000</td> <td>   -1.544</td> <td>   -0.924</td>\n",
       "</tr>\n",
       "<tr>\n",
       "  <th>Total Time Spent on Website</th>             <td>    1.0845</td> <td>    0.039</td> <td>   28.028</td> <td> 0.000</td> <td>    1.009</td> <td>    1.160</td>\n",
       "</tr>\n",
       "</table>"
      ],
      "text/plain": [
       "<class 'statsmodels.iolib.summary.Summary'>\n",
       "\"\"\"\n",
       "                 Generalized Linear Model Regression Results                  \n",
       "==============================================================================\n",
       "Dep. Variable:              Converted   No. Observations:                 6363\n",
       "Model:                            GLM   Df Residuals:                     6350\n",
       "Model Family:                Binomial   Df Model:                           12\n",
       "Link Function:                  logit   Scale:                          1.0000\n",
       "Method:                          IRLS   Log-Likelihood:                -2853.7\n",
       "Date:                Tue, 10 May 2022   Deviance:                       5707.3\n",
       "Time:                        22:25:07   Pearson chi2:                 6.57e+03\n",
       "No. Iterations:                     7                                         \n",
       "Covariance Type:            nonrobust                                         \n",
       "===========================================================================================================\n",
       "                                              coef    std err          z      P>|z|      [0.025      0.975]\n",
       "-----------------------------------------------------------------------------------------------------------\n",
       "const                                      -2.4261      0.192    -12.622      0.000      -2.803      -2.049\n",
       "Lead_Origin_Landing Page Submission        -0.9823      0.132     -7.438      0.000      -1.241      -0.723\n",
       "Lead_Origin_Lead Add Form                   2.2755      0.204     11.145      0.000       1.875       2.676\n",
       "Lead_source_Facebook                       -2.0929      0.545     -3.841      0.000      -3.161      -1.025\n",
       "Lead_source_Welingak Website                3.2159      1.026      3.135      0.002       1.205       5.227\n",
       "Lead_source_others                          0.8309      0.679      1.224      0.221      -0.500       2.161\n",
       "Specialization_Not Specified               -0.6580      0.146     -4.518      0.000      -0.943      -0.373\n",
       "Country_Unknown                             1.0376      0.115      8.985      0.000       0.811       1.264\n",
       "Current_Occu_Others                         1.4225      0.121     11.755      0.000       1.185       1.660\n",
       "Choosing_Course_Better Career Prospects     2.6869      0.138     19.461      0.000       2.416       2.958\n",
       "City_Unknown                               -0.6246      0.157     -3.967      0.000      -0.933      -0.316\n",
       "Do Not Email                               -1.2342      0.158     -7.809      0.000      -1.544      -0.924\n",
       "Total Time Spent on Website                 1.0845      0.039     28.028      0.000       1.009       1.160\n",
       "===========================================================================================================\n",
       "\"\"\""
      ]
     },
     "execution_count": 110,
     "metadata": {},
     "output_type": "execute_result"
    }
   ],
   "source": [
    "#lets rerun the model using the selected variables - Model-6\n",
    "X_train_sm=sm.add_constant(X_train[col])\n",
    "logm4 = sm.GLM(y_train,X_train_sm,family=sm.families.Binomial())\n",
    "res=logm4.fit()\n",
    "res.summary()"
   ]
  },
  {
   "cell_type": "code",
   "execution_count": 111,
   "id": "b96245cf",
   "metadata": {},
   "outputs": [
    {
     "data": {
      "text/html": [
       "<div>\n",
       "<style scoped>\n",
       "    .dataframe tbody tr th:only-of-type {\n",
       "        vertical-align: middle;\n",
       "    }\n",
       "\n",
       "    .dataframe tbody tr th {\n",
       "        vertical-align: top;\n",
       "    }\n",
       "\n",
       "    .dataframe thead th {\n",
       "        text-align: right;\n",
       "    }\n",
       "</style>\n",
       "<table border=\"1\" class=\"dataframe\">\n",
       "  <thead>\n",
       "    <tr style=\"text-align: right;\">\n",
       "      <th></th>\n",
       "      <th>Features</th>\n",
       "      <th>VIF</th>\n",
       "    </tr>\n",
       "  </thead>\n",
       "  <tbody>\n",
       "    <tr>\n",
       "      <th>9</th>\n",
       "      <td>City_Unknown</td>\n",
       "      <td>8.24</td>\n",
       "    </tr>\n",
       "    <tr>\n",
       "      <th>5</th>\n",
       "      <td>Specialization_Not Specified</td>\n",
       "      <td>6.26</td>\n",
       "    </tr>\n",
       "    <tr>\n",
       "      <th>8</th>\n",
       "      <td>Choosing_Course_Better Career Prospects</td>\n",
       "      <td>5.10</td>\n",
       "    </tr>\n",
       "    <tr>\n",
       "      <th>0</th>\n",
       "      <td>Lead_Origin_Landing Page Submission</td>\n",
       "      <td>4.73</td>\n",
       "    </tr>\n",
       "    <tr>\n",
       "      <th>6</th>\n",
       "      <td>Country_Unknown</td>\n",
       "      <td>2.99</td>\n",
       "    </tr>\n",
       "    <tr>\n",
       "      <th>7</th>\n",
       "      <td>Current_Occu_Others</td>\n",
       "      <td>2.89</td>\n",
       "    </tr>\n",
       "    <tr>\n",
       "      <th>1</th>\n",
       "      <td>Lead_Origin_Lead Add Form</td>\n",
       "      <td>2.02</td>\n",
       "    </tr>\n",
       "    <tr>\n",
       "      <th>3</th>\n",
       "      <td>Lead_source_Welingak Website</td>\n",
       "      <td>1.34</td>\n",
       "    </tr>\n",
       "    <tr>\n",
       "      <th>11</th>\n",
       "      <td>Total Time Spent on Website</td>\n",
       "      <td>1.28</td>\n",
       "    </tr>\n",
       "    <tr>\n",
       "      <th>2</th>\n",
       "      <td>Lead_source_Facebook</td>\n",
       "      <td>1.12</td>\n",
       "    </tr>\n",
       "    <tr>\n",
       "      <th>10</th>\n",
       "      <td>Do Not Email</td>\n",
       "      <td>1.11</td>\n",
       "    </tr>\n",
       "    <tr>\n",
       "      <th>4</th>\n",
       "      <td>Lead_source_others</td>\n",
       "      <td>1.01</td>\n",
       "    </tr>\n",
       "  </tbody>\n",
       "</table>\n",
       "</div>"
      ],
      "text/plain": [
       "                                   Features   VIF\n",
       "9                              City_Unknown  8.24\n",
       "5              Specialization_Not Specified  6.26\n",
       "8   Choosing_Course_Better Career Prospects  5.10\n",
       "0       Lead_Origin_Landing Page Submission  4.73\n",
       "6                           Country_Unknown  2.99\n",
       "7                       Current_Occu_Others  2.89\n",
       "1                 Lead_Origin_Lead Add Form  2.02\n",
       "3              Lead_source_Welingak Website  1.34\n",
       "11              Total Time Spent on Website  1.28\n",
       "2                      Lead_source_Facebook  1.12\n",
       "10                             Do Not Email  1.11\n",
       "4                        Lead_source_others  1.01"
      ]
     },
     "execution_count": 111,
     "metadata": {},
     "output_type": "execute_result"
    }
   ],
   "source": [
    "vif=pd.DataFrame()\n",
    "vif['Features']=X_train[col].columns\n",
    "vif['VIF']=[variance_inflation_factor(X_train[col].values,i) for i in range(X_train[col].shape[1])]\n",
    "vif['VIF']=round(vif['VIF'],2)\n",
    "vif=vif.sort_values(by='VIF',ascending=False)\n",
    "vif"
   ]
  },
  {
   "cell_type": "code",
   "execution_count": 112,
   "id": "ee3d9f2f",
   "metadata": {},
   "outputs": [
    {
     "data": {
      "text/plain": [
       "Index(['Lead_Origin_Landing Page Submission', 'Lead_Origin_Lead Add Form',\n",
       "       'Lead_source_Facebook', 'Lead_source_Welingak Website',\n",
       "       'Specialization_Not Specified', 'Country_Unknown',\n",
       "       'Current_Occu_Others', 'Choosing_Course_Better Career Prospects',\n",
       "       'City_Unknown', 'Do Not Email', 'Total Time Spent on Website'],\n",
       "      dtype='object')"
      ]
     },
     "execution_count": 112,
     "metadata": {},
     "output_type": "execute_result"
    }
   ],
   "source": [
    "col=col.drop('Lead_source_others')\n",
    "col"
   ]
  },
  {
   "cell_type": "code",
   "execution_count": 113,
   "id": "c4782f66",
   "metadata": {},
   "outputs": [
    {
     "data": {
      "text/html": [
       "<table class=\"simpletable\">\n",
       "<caption>Generalized Linear Model Regression Results</caption>\n",
       "<tr>\n",
       "  <th>Dep. Variable:</th>       <td>Converted</td>    <th>  No. Observations:  </th>  <td>  6363</td> \n",
       "</tr>\n",
       "<tr>\n",
       "  <th>Model:</th>                  <td>GLM</td>       <th>  Df Residuals:      </th>  <td>  6351</td> \n",
       "</tr>\n",
       "<tr>\n",
       "  <th>Model Family:</th>        <td>Binomial</td>     <th>  Df Model:          </th>  <td>    11</td> \n",
       "</tr>\n",
       "<tr>\n",
       "  <th>Link Function:</th>         <td>logit</td>      <th>  Scale:             </th> <td>  1.0000</td>\n",
       "</tr>\n",
       "<tr>\n",
       "  <th>Method:</th>                <td>IRLS</td>       <th>  Log-Likelihood:    </th> <td> -2854.4</td>\n",
       "</tr>\n",
       "<tr>\n",
       "  <th>Date:</th>            <td>Tue, 10 May 2022</td> <th>  Deviance:          </th> <td>  5708.8</td>\n",
       "</tr>\n",
       "<tr>\n",
       "  <th>Time:</th>                <td>22:25:07</td>     <th>  Pearson chi2:      </th> <td>6.57e+03</td>\n",
       "</tr>\n",
       "<tr>\n",
       "  <th>No. Iterations:</th>          <td>7</td>        <th>                     </th>     <td> </td>   \n",
       "</tr>\n",
       "<tr>\n",
       "  <th>Covariance Type:</th>     <td>nonrobust</td>    <th>                     </th>     <td> </td>   \n",
       "</tr>\n",
       "</table>\n",
       "<table class=\"simpletable\">\n",
       "<tr>\n",
       "                     <td></td>                        <th>coef</th>     <th>std err</th>      <th>z</th>      <th>P>|z|</th>  <th>[0.025</th>    <th>0.975]</th>  \n",
       "</tr>\n",
       "<tr>\n",
       "  <th>const</th>                                   <td>   -2.4218</td> <td>    0.192</td> <td>  -12.604</td> <td> 0.000</td> <td>   -2.798</td> <td>   -2.045</td>\n",
       "</tr>\n",
       "<tr>\n",
       "  <th>Lead_Origin_Landing Page Submission</th>     <td>   -0.9810</td> <td>    0.132</td> <td>   -7.430</td> <td> 0.000</td> <td>   -1.240</td> <td>   -0.722</td>\n",
       "</tr>\n",
       "<tr>\n",
       "  <th>Lead_Origin_Lead Add Form</th>               <td>    2.2835</td> <td>    0.204</td> <td>   11.193</td> <td> 0.000</td> <td>    1.884</td> <td>    2.683</td>\n",
       "</tr>\n",
       "<tr>\n",
       "  <th>Lead_source_Facebook</th>                    <td>   -2.0893</td> <td>    0.545</td> <td>   -3.836</td> <td> 0.000</td> <td>   -3.157</td> <td>   -1.022</td>\n",
       "</tr>\n",
       "<tr>\n",
       "  <th>Lead_source_Welingak Website</th>            <td>    3.2080</td> <td>    1.026</td> <td>    3.127</td> <td> 0.002</td> <td>    1.197</td> <td>    5.218</td>\n",
       "</tr>\n",
       "<tr>\n",
       "  <th>Specialization_Not Specified</th>            <td>   -0.6601</td> <td>    0.146</td> <td>   -4.535</td> <td> 0.000</td> <td>   -0.945</td> <td>   -0.375</td>\n",
       "</tr>\n",
       "<tr>\n",
       "  <th>Country_Unknown</th>                         <td>    1.0345</td> <td>    0.115</td> <td>    8.962</td> <td> 0.000</td> <td>    0.808</td> <td>    1.261</td>\n",
       "</tr>\n",
       "<tr>\n",
       "  <th>Current_Occu_Others</th>                     <td>    1.4201</td> <td>    0.121</td> <td>   11.737</td> <td> 0.000</td> <td>    1.183</td> <td>    1.657</td>\n",
       "</tr>\n",
       "<tr>\n",
       "  <th>Choosing_Course_Better Career Prospects</th> <td>    2.6838</td> <td>    0.138</td> <td>   19.443</td> <td> 0.000</td> <td>    2.413</td> <td>    2.954</td>\n",
       "</tr>\n",
       "<tr>\n",
       "  <th>City_Unknown</th>                            <td>   -0.6211</td> <td>    0.157</td> <td>   -3.946</td> <td> 0.000</td> <td>   -0.930</td> <td>   -0.313</td>\n",
       "</tr>\n",
       "<tr>\n",
       "  <th>Do Not Email</th>                            <td>   -1.2334</td> <td>    0.158</td> <td>   -7.801</td> <td> 0.000</td> <td>   -1.543</td> <td>   -0.924</td>\n",
       "</tr>\n",
       "<tr>\n",
       "  <th>Total Time Spent on Website</th>             <td>    1.0838</td> <td>    0.039</td> <td>   28.020</td> <td> 0.000</td> <td>    1.008</td> <td>    1.160</td>\n",
       "</tr>\n",
       "</table>"
      ],
      "text/plain": [
       "<class 'statsmodels.iolib.summary.Summary'>\n",
       "\"\"\"\n",
       "                 Generalized Linear Model Regression Results                  \n",
       "==============================================================================\n",
       "Dep. Variable:              Converted   No. Observations:                 6363\n",
       "Model:                            GLM   Df Residuals:                     6351\n",
       "Model Family:                Binomial   Df Model:                           11\n",
       "Link Function:                  logit   Scale:                          1.0000\n",
       "Method:                          IRLS   Log-Likelihood:                -2854.4\n",
       "Date:                Tue, 10 May 2022   Deviance:                       5708.8\n",
       "Time:                        22:25:07   Pearson chi2:                 6.57e+03\n",
       "No. Iterations:                     7                                         \n",
       "Covariance Type:            nonrobust                                         \n",
       "===========================================================================================================\n",
       "                                              coef    std err          z      P>|z|      [0.025      0.975]\n",
       "-----------------------------------------------------------------------------------------------------------\n",
       "const                                      -2.4218      0.192    -12.604      0.000      -2.798      -2.045\n",
       "Lead_Origin_Landing Page Submission        -0.9810      0.132     -7.430      0.000      -1.240      -0.722\n",
       "Lead_Origin_Lead Add Form                   2.2835      0.204     11.193      0.000       1.884       2.683\n",
       "Lead_source_Facebook                       -2.0893      0.545     -3.836      0.000      -3.157      -1.022\n",
       "Lead_source_Welingak Website                3.2080      1.026      3.127      0.002       1.197       5.218\n",
       "Specialization_Not Specified               -0.6601      0.146     -4.535      0.000      -0.945      -0.375\n",
       "Country_Unknown                             1.0345      0.115      8.962      0.000       0.808       1.261\n",
       "Current_Occu_Others                         1.4201      0.121     11.737      0.000       1.183       1.657\n",
       "Choosing_Course_Better Career Prospects     2.6838      0.138     19.443      0.000       2.413       2.954\n",
       "City_Unknown                               -0.6211      0.157     -3.946      0.000      -0.930      -0.313\n",
       "Do Not Email                               -1.2334      0.158     -7.801      0.000      -1.543      -0.924\n",
       "Total Time Spent on Website                 1.0838      0.039     28.020      0.000       1.008       1.160\n",
       "===========================================================================================================\n",
       "\"\"\""
      ]
     },
     "execution_count": 113,
     "metadata": {},
     "output_type": "execute_result"
    }
   ],
   "source": [
    "#lets rerun the model using the selected variables - Model - 7\n",
    "X_train_sm=sm.add_constant(X_train[col])\n",
    "logm4 = sm.GLM(y_train,X_train_sm,family=sm.families.Binomial())\n",
    "res=logm4.fit()\n",
    "res.summary()"
   ]
  },
  {
   "cell_type": "code",
   "execution_count": 114,
   "id": "e5eb3602",
   "metadata": {},
   "outputs": [
    {
     "data": {
      "text/html": [
       "<div>\n",
       "<style scoped>\n",
       "    .dataframe tbody tr th:only-of-type {\n",
       "        vertical-align: middle;\n",
       "    }\n",
       "\n",
       "    .dataframe tbody tr th {\n",
       "        vertical-align: top;\n",
       "    }\n",
       "\n",
       "    .dataframe thead th {\n",
       "        text-align: right;\n",
       "    }\n",
       "</style>\n",
       "<table border=\"1\" class=\"dataframe\">\n",
       "  <thead>\n",
       "    <tr style=\"text-align: right;\">\n",
       "      <th></th>\n",
       "      <th>Features</th>\n",
       "      <th>VIF</th>\n",
       "    </tr>\n",
       "  </thead>\n",
       "  <tbody>\n",
       "    <tr>\n",
       "      <th>8</th>\n",
       "      <td>City_Unknown</td>\n",
       "      <td>8.23</td>\n",
       "    </tr>\n",
       "    <tr>\n",
       "      <th>4</th>\n",
       "      <td>Specialization_Not Specified</td>\n",
       "      <td>6.26</td>\n",
       "    </tr>\n",
       "    <tr>\n",
       "      <th>7</th>\n",
       "      <td>Choosing_Course_Better Career Prospects</td>\n",
       "      <td>5.10</td>\n",
       "    </tr>\n",
       "    <tr>\n",
       "      <th>0</th>\n",
       "      <td>Lead_Origin_Landing Page Submission</td>\n",
       "      <td>4.73</td>\n",
       "    </tr>\n",
       "    <tr>\n",
       "      <th>5</th>\n",
       "      <td>Country_Unknown</td>\n",
       "      <td>2.99</td>\n",
       "    </tr>\n",
       "    <tr>\n",
       "      <th>6</th>\n",
       "      <td>Current_Occu_Others</td>\n",
       "      <td>2.89</td>\n",
       "    </tr>\n",
       "    <tr>\n",
       "      <th>1</th>\n",
       "      <td>Lead_Origin_Lead Add Form</td>\n",
       "      <td>2.02</td>\n",
       "    </tr>\n",
       "    <tr>\n",
       "      <th>3</th>\n",
       "      <td>Lead_source_Welingak Website</td>\n",
       "      <td>1.34</td>\n",
       "    </tr>\n",
       "    <tr>\n",
       "      <th>10</th>\n",
       "      <td>Total Time Spent on Website</td>\n",
       "      <td>1.28</td>\n",
       "    </tr>\n",
       "    <tr>\n",
       "      <th>2</th>\n",
       "      <td>Lead_source_Facebook</td>\n",
       "      <td>1.12</td>\n",
       "    </tr>\n",
       "    <tr>\n",
       "      <th>9</th>\n",
       "      <td>Do Not Email</td>\n",
       "      <td>1.11</td>\n",
       "    </tr>\n",
       "  </tbody>\n",
       "</table>\n",
       "</div>"
      ],
      "text/plain": [
       "                                   Features   VIF\n",
       "8                              City_Unknown  8.23\n",
       "4              Specialization_Not Specified  6.26\n",
       "7   Choosing_Course_Better Career Prospects  5.10\n",
       "0       Lead_Origin_Landing Page Submission  4.73\n",
       "5                           Country_Unknown  2.99\n",
       "6                       Current_Occu_Others  2.89\n",
       "1                 Lead_Origin_Lead Add Form  2.02\n",
       "3              Lead_source_Welingak Website  1.34\n",
       "10              Total Time Spent on Website  1.28\n",
       "2                      Lead_source_Facebook  1.12\n",
       "9                              Do Not Email  1.11"
      ]
     },
     "execution_count": 114,
     "metadata": {},
     "output_type": "execute_result"
    }
   ],
   "source": [
    "vif=pd.DataFrame()\n",
    "vif['Features']=X_train[col].columns\n",
    "vif['VIF']=[variance_inflation_factor(X_train[col].values,i) for i in range(X_train[col].shape[1])]\n",
    "vif['VIF']=round(vif['VIF'],2)\n",
    "vif=vif.sort_values(by='VIF',ascending=False)\n",
    "vif"
   ]
  },
  {
   "cell_type": "code",
   "execution_count": 115,
   "id": "a4ceaf10",
   "metadata": {},
   "outputs": [
    {
     "data": {
      "text/plain": [
       "Index(['Lead_Origin_Landing Page Submission', 'Lead_Origin_Lead Add Form',\n",
       "       'Lead_source_Facebook', 'Lead_source_Welingak Website',\n",
       "       'Specialization_Not Specified', 'Country_Unknown',\n",
       "       'Current_Occu_Others', 'Choosing_Course_Better Career Prospects',\n",
       "       'Do Not Email', 'Total Time Spent on Website'],\n",
       "      dtype='object')"
      ]
     },
     "execution_count": 115,
     "metadata": {},
     "output_type": "execute_result"
    }
   ],
   "source": [
    "col=col.drop('City_Unknown')\n",
    "col"
   ]
  },
  {
   "cell_type": "code",
   "execution_count": 116,
   "id": "a47a4300",
   "metadata": {},
   "outputs": [
    {
     "data": {
      "text/html": [
       "<table class=\"simpletable\">\n",
       "<caption>Generalized Linear Model Regression Results</caption>\n",
       "<tr>\n",
       "  <th>Dep. Variable:</th>       <td>Converted</td>    <th>  No. Observations:  </th>  <td>  6363</td> \n",
       "</tr>\n",
       "<tr>\n",
       "  <th>Model:</th>                  <td>GLM</td>       <th>  Df Residuals:      </th>  <td>  6352</td> \n",
       "</tr>\n",
       "<tr>\n",
       "  <th>Model Family:</th>        <td>Binomial</td>     <th>  Df Model:          </th>  <td>    10</td> \n",
       "</tr>\n",
       "<tr>\n",
       "  <th>Link Function:</th>         <td>logit</td>      <th>  Scale:             </th> <td>  1.0000</td>\n",
       "</tr>\n",
       "<tr>\n",
       "  <th>Method:</th>                <td>IRLS</td>       <th>  Log-Likelihood:    </th> <td> -2862.2</td>\n",
       "</tr>\n",
       "<tr>\n",
       "  <th>Date:</th>            <td>Tue, 10 May 2022</td> <th>  Deviance:          </th> <td>  5724.4</td>\n",
       "</tr>\n",
       "<tr>\n",
       "  <th>Time:</th>                <td>22:25:08</td>     <th>  Pearson chi2:      </th> <td>6.67e+03</td>\n",
       "</tr>\n",
       "<tr>\n",
       "  <th>No. Iterations:</th>          <td>7</td>        <th>                     </th>     <td> </td>   \n",
       "</tr>\n",
       "<tr>\n",
       "  <th>Covariance Type:</th>     <td>nonrobust</td>    <th>                     </th>     <td> </td>   \n",
       "</tr>\n",
       "</table>\n",
       "<table class=\"simpletable\">\n",
       "<tr>\n",
       "                     <td></td>                        <th>coef</th>     <th>std err</th>      <th>z</th>      <th>P>|z|</th>  <th>[0.025</th>    <th>0.975]</th>  \n",
       "</tr>\n",
       "<tr>\n",
       "  <th>const</th>                                   <td>   -2.6086</td> <td>    0.186</td> <td>  -14.024</td> <td> 0.000</td> <td>   -2.973</td> <td>   -2.244</td>\n",
       "</tr>\n",
       "<tr>\n",
       "  <th>Lead_Origin_Landing Page Submission</th>     <td>   -0.7575</td> <td>    0.118</td> <td>   -6.411</td> <td> 0.000</td> <td>   -0.989</td> <td>   -0.526</td>\n",
       "</tr>\n",
       "<tr>\n",
       "  <th>Lead_Origin_Lead Add Form</th>               <td>    2.2916</td> <td>    0.204</td> <td>   11.244</td> <td> 0.000</td> <td>    1.892</td> <td>    2.691</td>\n",
       "</tr>\n",
       "<tr>\n",
       "  <th>Lead_source_Facebook</th>                    <td>   -1.5793</td> <td>    0.526</td> <td>   -3.003</td> <td> 0.003</td> <td>   -2.610</td> <td>   -0.549</td>\n",
       "</tr>\n",
       "<tr>\n",
       "  <th>Lead_source_Welingak Website</th>            <td>    3.2393</td> <td>    1.026</td> <td>    3.158</td> <td> 0.002</td> <td>    1.229</td> <td>    5.250</td>\n",
       "</tr>\n",
       "<tr>\n",
       "  <th>Specialization_Not Specified</th>            <td>   -1.0042</td> <td>    0.119</td> <td>   -8.471</td> <td> 0.000</td> <td>   -1.237</td> <td>   -0.772</td>\n",
       "</tr>\n",
       "<tr>\n",
       "  <th>Country_Unknown</th>                         <td>    0.9909</td> <td>    0.114</td> <td>    8.663</td> <td> 0.000</td> <td>    0.767</td> <td>    1.215</td>\n",
       "</tr>\n",
       "<tr>\n",
       "  <th>Current_Occu_Others</th>                     <td>    1.3782</td> <td>    0.121</td> <td>   11.408</td> <td> 0.000</td> <td>    1.141</td> <td>    1.615</td>\n",
       "</tr>\n",
       "<tr>\n",
       "  <th>Choosing_Course_Better Career Prospects</th> <td>    2.6462</td> <td>    0.138</td> <td>   19.189</td> <td> 0.000</td> <td>    2.376</td> <td>    2.916</td>\n",
       "</tr>\n",
       "<tr>\n",
       "  <th>Do Not Email</th>                            <td>   -1.2459</td> <td>    0.158</td> <td>   -7.889</td> <td> 0.000</td> <td>   -1.556</td> <td>   -0.936</td>\n",
       "</tr>\n",
       "<tr>\n",
       "  <th>Total Time Spent on Website</th>             <td>    1.0818</td> <td>    0.039</td> <td>   28.043</td> <td> 0.000</td> <td>    1.006</td> <td>    1.157</td>\n",
       "</tr>\n",
       "</table>"
      ],
      "text/plain": [
       "<class 'statsmodels.iolib.summary.Summary'>\n",
       "\"\"\"\n",
       "                 Generalized Linear Model Regression Results                  \n",
       "==============================================================================\n",
       "Dep. Variable:              Converted   No. Observations:                 6363\n",
       "Model:                            GLM   Df Residuals:                     6352\n",
       "Model Family:                Binomial   Df Model:                           10\n",
       "Link Function:                  logit   Scale:                          1.0000\n",
       "Method:                          IRLS   Log-Likelihood:                -2862.2\n",
       "Date:                Tue, 10 May 2022   Deviance:                       5724.4\n",
       "Time:                        22:25:08   Pearson chi2:                 6.67e+03\n",
       "No. Iterations:                     7                                         \n",
       "Covariance Type:            nonrobust                                         \n",
       "===========================================================================================================\n",
       "                                              coef    std err          z      P>|z|      [0.025      0.975]\n",
       "-----------------------------------------------------------------------------------------------------------\n",
       "const                                      -2.6086      0.186    -14.024      0.000      -2.973      -2.244\n",
       "Lead_Origin_Landing Page Submission        -0.7575      0.118     -6.411      0.000      -0.989      -0.526\n",
       "Lead_Origin_Lead Add Form                   2.2916      0.204     11.244      0.000       1.892       2.691\n",
       "Lead_source_Facebook                       -1.5793      0.526     -3.003      0.003      -2.610      -0.549\n",
       "Lead_source_Welingak Website                3.2393      1.026      3.158      0.002       1.229       5.250\n",
       "Specialization_Not Specified               -1.0042      0.119     -8.471      0.000      -1.237      -0.772\n",
       "Country_Unknown                             0.9909      0.114      8.663      0.000       0.767       1.215\n",
       "Current_Occu_Others                         1.3782      0.121     11.408      0.000       1.141       1.615\n",
       "Choosing_Course_Better Career Prospects     2.6462      0.138     19.189      0.000       2.376       2.916\n",
       "Do Not Email                               -1.2459      0.158     -7.889      0.000      -1.556      -0.936\n",
       "Total Time Spent on Website                 1.0818      0.039     28.043      0.000       1.006       1.157\n",
       "===========================================================================================================\n",
       "\"\"\""
      ]
     },
     "execution_count": 116,
     "metadata": {},
     "output_type": "execute_result"
    }
   ],
   "source": [
    "#lets rerun the model using the selected variables - model - 8\n",
    "X_train_sm=sm.add_constant(X_train[col])\n",
    "logm4 = sm.GLM(y_train,X_train_sm,family=sm.families.Binomial())\n",
    "res=logm4.fit()\n",
    "res.summary()"
   ]
  },
  {
   "cell_type": "code",
   "execution_count": 117,
   "id": "500f42fd",
   "metadata": {},
   "outputs": [
    {
     "data": {
      "text/html": [
       "<div>\n",
       "<style scoped>\n",
       "    .dataframe tbody tr th:only-of-type {\n",
       "        vertical-align: middle;\n",
       "    }\n",
       "\n",
       "    .dataframe tbody tr th {\n",
       "        vertical-align: top;\n",
       "    }\n",
       "\n",
       "    .dataframe thead th {\n",
       "        text-align: right;\n",
       "    }\n",
       "</style>\n",
       "<table border=\"1\" class=\"dataframe\">\n",
       "  <thead>\n",
       "    <tr style=\"text-align: right;\">\n",
       "      <th></th>\n",
       "      <th>Features</th>\n",
       "      <th>VIF</th>\n",
       "    </tr>\n",
       "  </thead>\n",
       "  <tbody>\n",
       "    <tr>\n",
       "      <th>7</th>\n",
       "      <td>Choosing_Course_Better Career Prospects</td>\n",
       "      <td>4.24</td>\n",
       "    </tr>\n",
       "    <tr>\n",
       "      <th>0</th>\n",
       "      <td>Lead_Origin_Landing Page Submission</td>\n",
       "      <td>4.04</td>\n",
       "    </tr>\n",
       "    <tr>\n",
       "      <th>5</th>\n",
       "      <td>Country_Unknown</td>\n",
       "      <td>2.95</td>\n",
       "    </tr>\n",
       "    <tr>\n",
       "      <th>4</th>\n",
       "      <td>Specialization_Not Specified</td>\n",
       "      <td>2.85</td>\n",
       "    </tr>\n",
       "    <tr>\n",
       "      <th>6</th>\n",
       "      <td>Current_Occu_Others</td>\n",
       "      <td>2.47</td>\n",
       "    </tr>\n",
       "    <tr>\n",
       "      <th>1</th>\n",
       "      <td>Lead_Origin_Lead Add Form</td>\n",
       "      <td>2.02</td>\n",
       "    </tr>\n",
       "    <tr>\n",
       "      <th>3</th>\n",
       "      <td>Lead_source_Welingak Website</td>\n",
       "      <td>1.33</td>\n",
       "    </tr>\n",
       "    <tr>\n",
       "      <th>9</th>\n",
       "      <td>Total Time Spent on Website</td>\n",
       "      <td>1.28</td>\n",
       "    </tr>\n",
       "    <tr>\n",
       "      <th>8</th>\n",
       "      <td>Do Not Email</td>\n",
       "      <td>1.11</td>\n",
       "    </tr>\n",
       "    <tr>\n",
       "      <th>2</th>\n",
       "      <td>Lead_source_Facebook</td>\n",
       "      <td>1.03</td>\n",
       "    </tr>\n",
       "  </tbody>\n",
       "</table>\n",
       "</div>"
      ],
      "text/plain": [
       "                                  Features   VIF\n",
       "7  Choosing_Course_Better Career Prospects  4.24\n",
       "0      Lead_Origin_Landing Page Submission  4.04\n",
       "5                          Country_Unknown  2.95\n",
       "4             Specialization_Not Specified  2.85\n",
       "6                      Current_Occu_Others  2.47\n",
       "1                Lead_Origin_Lead Add Form  2.02\n",
       "3             Lead_source_Welingak Website  1.33\n",
       "9              Total Time Spent on Website  1.28\n",
       "8                             Do Not Email  1.11\n",
       "2                     Lead_source_Facebook  1.03"
      ]
     },
     "execution_count": 117,
     "metadata": {},
     "output_type": "execute_result"
    }
   ],
   "source": [
    "vif=pd.DataFrame()\n",
    "vif['Features']=X_train[col].columns\n",
    "vif['VIF']=[variance_inflation_factor(X_train[col].values,i) for i in range(X_train[col].shape[1])]\n",
    "vif['VIF']=round(vif['VIF'],2)\n",
    "vif=vif.sort_values(by='VIF',ascending=False)\n",
    "vif"
   ]
  },
  {
   "cell_type": "markdown",
   "id": "47b05e26",
   "metadata": {},
   "source": [
    "### VIF and P value is under control , we are freezing this model "
   ]
  },
  {
   "cell_type": "code",
   "execution_count": 118,
   "id": "ae9e0e0d",
   "metadata": {},
   "outputs": [
    {
     "data": {
      "text/plain": [
       "array([0.06306431, 0.03077946, 0.2701473 , 0.09732556, 0.56242298,\n",
       "       0.05303006, 0.60884648, 0.06428365, 0.54082996, 0.0753451 ])"
      ]
     },
     "execution_count": 118,
     "metadata": {},
     "output_type": "execute_result"
    }
   ],
   "source": [
    "y_train_pred=res.predict(X_train_sm).values.reshape(-1)\n",
    "y_train_pred[:10]"
   ]
  },
  {
   "cell_type": "code",
   "execution_count": 119,
   "id": "079b2947",
   "metadata": {},
   "outputs": [
    {
     "data": {
      "text/html": [
       "<div>\n",
       "<style scoped>\n",
       "    .dataframe tbody tr th:only-of-type {\n",
       "        vertical-align: middle;\n",
       "    }\n",
       "\n",
       "    .dataframe tbody tr th {\n",
       "        vertical-align: top;\n",
       "    }\n",
       "\n",
       "    .dataframe thead th {\n",
       "        text-align: right;\n",
       "    }\n",
       "</style>\n",
       "<table border=\"1\" class=\"dataframe\">\n",
       "  <thead>\n",
       "    <tr style=\"text-align: right;\">\n",
       "      <th></th>\n",
       "      <th>Converted</th>\n",
       "      <th>Converted_Prob</th>\n",
       "      <th>Predicted</th>\n",
       "    </tr>\n",
       "  </thead>\n",
       "  <tbody>\n",
       "    <tr>\n",
       "      <th>0</th>\n",
       "      <td>0</td>\n",
       "      <td>0.063064</td>\n",
       "      <td>0</td>\n",
       "    </tr>\n",
       "    <tr>\n",
       "      <th>1</th>\n",
       "      <td>0</td>\n",
       "      <td>0.030779</td>\n",
       "      <td>0</td>\n",
       "    </tr>\n",
       "    <tr>\n",
       "      <th>2</th>\n",
       "      <td>0</td>\n",
       "      <td>0.270147</td>\n",
       "      <td>0</td>\n",
       "    </tr>\n",
       "    <tr>\n",
       "      <th>3</th>\n",
       "      <td>0</td>\n",
       "      <td>0.097326</td>\n",
       "      <td>0</td>\n",
       "    </tr>\n",
       "    <tr>\n",
       "      <th>4</th>\n",
       "      <td>1</td>\n",
       "      <td>0.562423</td>\n",
       "      <td>1</td>\n",
       "    </tr>\n",
       "  </tbody>\n",
       "</table>\n",
       "</div>"
      ],
      "text/plain": [
       "   Converted  Converted_Prob  Predicted\n",
       "0          0        0.063064          0\n",
       "1          0        0.030779          0\n",
       "2          0        0.270147          0\n",
       "3          0        0.097326          0\n",
       "4          1        0.562423          1"
      ]
     },
     "execution_count": 119,
     "metadata": {},
     "output_type": "execute_result"
    }
   ],
   "source": [
    "y_train_pred_final['Converted_Prob']=y_train_pred\n",
    "y_train_pred_final['Predicted']=y_train_pred_final.Converted_Prob.map(lambda x: 1 if x>0.5 else 0)\n",
    "\n",
    "y_train_pred_final.head()"
   ]
  },
  {
   "cell_type": "code",
   "execution_count": 120,
   "id": "930e372b",
   "metadata": {},
   "outputs": [
    {
     "name": "stdout",
     "output_type": "stream",
     "text": [
      "0.7996228194247996\n"
     ]
    }
   ],
   "source": [
    "print(metrics.accuracy_score(y_train_pred_final.Converted,y_train_pred_final.Predicted))"
   ]
  },
  {
   "cell_type": "markdown",
   "id": "7b82eaaf",
   "metadata": {},
   "source": [
    "### the accuracy is practically same, lets check the VIF again"
   ]
  },
  {
   "cell_type": "code",
   "execution_count": 121,
   "id": "b7208821",
   "metadata": {},
   "outputs": [
    {
     "data": {
      "text/html": [
       "<div>\n",
       "<style scoped>\n",
       "    .dataframe tbody tr th:only-of-type {\n",
       "        vertical-align: middle;\n",
       "    }\n",
       "\n",
       "    .dataframe tbody tr th {\n",
       "        vertical-align: top;\n",
       "    }\n",
       "\n",
       "    .dataframe thead th {\n",
       "        text-align: right;\n",
       "    }\n",
       "</style>\n",
       "<table border=\"1\" class=\"dataframe\">\n",
       "  <thead>\n",
       "    <tr style=\"text-align: right;\">\n",
       "      <th></th>\n",
       "      <th>Features</th>\n",
       "      <th>VIF</th>\n",
       "    </tr>\n",
       "  </thead>\n",
       "  <tbody>\n",
       "    <tr>\n",
       "      <th>7</th>\n",
       "      <td>Choosing_Course_Better Career Prospects</td>\n",
       "      <td>4.24</td>\n",
       "    </tr>\n",
       "    <tr>\n",
       "      <th>0</th>\n",
       "      <td>Lead_Origin_Landing Page Submission</td>\n",
       "      <td>4.04</td>\n",
       "    </tr>\n",
       "    <tr>\n",
       "      <th>5</th>\n",
       "      <td>Country_Unknown</td>\n",
       "      <td>2.95</td>\n",
       "    </tr>\n",
       "    <tr>\n",
       "      <th>4</th>\n",
       "      <td>Specialization_Not Specified</td>\n",
       "      <td>2.85</td>\n",
       "    </tr>\n",
       "    <tr>\n",
       "      <th>6</th>\n",
       "      <td>Current_Occu_Others</td>\n",
       "      <td>2.47</td>\n",
       "    </tr>\n",
       "    <tr>\n",
       "      <th>1</th>\n",
       "      <td>Lead_Origin_Lead Add Form</td>\n",
       "      <td>2.02</td>\n",
       "    </tr>\n",
       "    <tr>\n",
       "      <th>3</th>\n",
       "      <td>Lead_source_Welingak Website</td>\n",
       "      <td>1.33</td>\n",
       "    </tr>\n",
       "    <tr>\n",
       "      <th>9</th>\n",
       "      <td>Total Time Spent on Website</td>\n",
       "      <td>1.28</td>\n",
       "    </tr>\n",
       "    <tr>\n",
       "      <th>8</th>\n",
       "      <td>Do Not Email</td>\n",
       "      <td>1.11</td>\n",
       "    </tr>\n",
       "    <tr>\n",
       "      <th>2</th>\n",
       "      <td>Lead_source_Facebook</td>\n",
       "      <td>1.03</td>\n",
       "    </tr>\n",
       "  </tbody>\n",
       "</table>\n",
       "</div>"
      ],
      "text/plain": [
       "                                  Features   VIF\n",
       "7  Choosing_Course_Better Career Prospects  4.24\n",
       "0      Lead_Origin_Landing Page Submission  4.04\n",
       "5                          Country_Unknown  2.95\n",
       "4             Specialization_Not Specified  2.85\n",
       "6                      Current_Occu_Others  2.47\n",
       "1                Lead_Origin_Lead Add Form  2.02\n",
       "3             Lead_source_Welingak Website  1.33\n",
       "9              Total Time Spent on Website  1.28\n",
       "8                             Do Not Email  1.11\n",
       "2                     Lead_source_Facebook  1.03"
      ]
     },
     "execution_count": 121,
     "metadata": {},
     "output_type": "execute_result"
    }
   ],
   "source": [
    "vif = pd.DataFrame()\n",
    "vif['Features'] = X_train[col].columns\n",
    "vif['VIF'] = [variance_inflation_factor(X_train[col].values, i) for i in range(X_train[col].shape[1])]\n",
    "vif['VIF'] = round(vif['VIF'], 2)\n",
    "vif = vif.sort_values(by = \"VIF\", ascending = False)\n",
    "vif"
   ]
  },
  {
   "cell_type": "markdown",
   "id": "f66708a4",
   "metadata": {},
   "source": [
    "### All variables have a good value of VIF. So we need not drop any more variables and we can proceed with making predictions using this model only"
   ]
  },
  {
   "cell_type": "code",
   "execution_count": 122,
   "id": "826a906c",
   "metadata": {},
   "outputs": [
    {
     "data": {
      "text/plain": [
       "array([[3458,  477],\n",
       "       [ 798, 1630]], dtype=int64)"
      ]
     },
     "execution_count": 122,
     "metadata": {},
     "output_type": "execute_result"
    }
   ],
   "source": [
    "confusion = metrics.confusion_matrix(y_train_pred_final.Converted, y_train_pred_final.Predicted )\n",
    "confusion"
   ]
  },
  {
   "cell_type": "code",
   "execution_count": 123,
   "id": "b0e91b15",
   "metadata": {},
   "outputs": [
    {
     "name": "stdout",
     "output_type": "stream",
     "text": [
      "0.7996228194247996\n"
     ]
    }
   ],
   "source": [
    "print(metrics.accuracy_score(y_train_pred_final.Converted,y_train_pred_final.Predicted))"
   ]
  },
  {
   "cell_type": "markdown",
   "id": "965f0fe4",
   "metadata": {},
   "source": [
    "## Metrics beyond simply accuracy"
   ]
  },
  {
   "cell_type": "code",
   "execution_count": 124,
   "id": "8f68d630",
   "metadata": {},
   "outputs": [],
   "source": [
    "TP = confusion[1,1] # true positive \n",
    "TN = confusion[0,0] # true negatives\n",
    "FP = confusion[0,1] # false positives\n",
    "FN = confusion[1,0] # false negatives"
   ]
  },
  {
   "cell_type": "code",
   "execution_count": 125,
   "id": "c9857ede",
   "metadata": {},
   "outputs": [
    {
     "data": {
      "text/plain": [
       "0.671334431630972"
      ]
     },
     "execution_count": 125,
     "metadata": {},
     "output_type": "execute_result"
    }
   ],
   "source": [
    "# Let's see the sensitivity of our logistic regression model\n",
    "TP / float(TP+FN)"
   ]
  },
  {
   "cell_type": "code",
   "execution_count": 126,
   "id": "b2a0bf70",
   "metadata": {},
   "outputs": [
    {
     "data": {
      "text/plain": [
       "0.8787801778907243"
      ]
     },
     "execution_count": 126,
     "metadata": {},
     "output_type": "execute_result"
    }
   ],
   "source": [
    "# Let us calculate specificity\n",
    "TN / float(TN+FP)"
   ]
  },
  {
   "cell_type": "code",
   "execution_count": 127,
   "id": "cace0f0b",
   "metadata": {},
   "outputs": [
    {
     "name": "stdout",
     "output_type": "stream",
     "text": [
      "0.12121982210927573\n"
     ]
    }
   ],
   "source": [
    "# Calculate false postive rate - predicting churn when customer does not have churned\n",
    "print(FP/ float(TN+FP))"
   ]
  },
  {
   "cell_type": "code",
   "execution_count": 128,
   "id": "bcd2235f",
   "metadata": {},
   "outputs": [
    {
     "name": "stdout",
     "output_type": "stream",
     "text": [
      "0.7736117702895111\n"
     ]
    }
   ],
   "source": [
    "# positive predictive value \n",
    "print (TP / float(TP+FP))"
   ]
  },
  {
   "cell_type": "code",
   "execution_count": 129,
   "id": "51272a0e",
   "metadata": {},
   "outputs": [
    {
     "name": "stdout",
     "output_type": "stream",
     "text": [
      "0.8125\n"
     ]
    }
   ],
   "source": [
    "# Negative predictive value\n",
    "print (TN / float(TN+ FN))"
   ]
  },
  {
   "cell_type": "code",
   "execution_count": 130,
   "id": "95ba5321",
   "metadata": {},
   "outputs": [],
   "source": [
    "## Plotting the ROC Curve"
   ]
  },
  {
   "cell_type": "code",
   "execution_count": 131,
   "id": "1ee36338",
   "metadata": {},
   "outputs": [],
   "source": [
    "def draw_roc( actual, probs ):\n",
    "    fpr, tpr, thresholds = metrics.roc_curve( actual, probs,\n",
    "                                              drop_intermediate = False )\n",
    "    auc_score = metrics.roc_auc_score( actual, probs )\n",
    "    plt.figure(figsize=(5, 5))\n",
    "    plt.plot( fpr, tpr, label='ROC curve (area = %0.2f)' % auc_score )\n",
    "    plt.plot([0, 1], [0, 1], 'k--')\n",
    "    plt.xlim([0.0, 1.0])\n",
    "    plt.ylim([0.0, 1.05])\n",
    "    plt.xlabel('False Positive Rate or [1 - True Negative Rate]')\n",
    "    plt.ylabel('True Positive Rate')\n",
    "    plt.title('Receiver operating characteristic example')\n",
    "    plt.legend(loc=\"lower right\")\n",
    "    plt.show()\n",
    "\n",
    "    return None"
   ]
  },
  {
   "cell_type": "code",
   "execution_count": 132,
   "id": "f33323b3",
   "metadata": {},
   "outputs": [
    {
     "data": {
      "image/png": "[encoded data removed]",
      "text/plain": [
       "<Figure size 360x360 with 1 Axes>"
      ]
     },
     "metadata": {
      "needs_background": "light"
     },
     "output_type": "display_data"
    }
   ],
   "source": [
    "fpr, tpr, thresholds = metrics.roc_curve( y_train_pred_final.Converted, y_train_pred_final.Converted_Prob, drop_intermediate = False )\n",
    "draw_roc(y_train_pred_final.Converted, y_train_pred_final.Converted_Prob)"
   ]
  },
  {
   "cell_type": "markdown",
   "id": "5faa56b9",
   "metadata": {},
   "source": [
    "### Finding Optimal Cutoff Point"
   ]
  },
  {
   "cell_type": "markdown",
   "id": "e7ef6d86",
   "metadata": {},
   "source": [
    "Optimal cutoff probability is that prob where we get balanced sensitivity and specificity\n"
   ]
  },
  {
   "cell_type": "code",
   "execution_count": 133,
   "id": "ce171eb8",
   "metadata": {},
   "outputs": [
    {
     "data": {
      "text/html": [
       "<div>\n",
       "<style scoped>\n",
       "    .dataframe tbody tr th:only-of-type {\n",
       "        vertical-align: middle;\n",
       "    }\n",
       "\n",
       "    .dataframe tbody tr th {\n",
       "        vertical-align: top;\n",
       "    }\n",
       "\n",
       "    .dataframe thead th {\n",
       "        text-align: right;\n",
       "    }\n",
       "</style>\n",
       "<table border=\"1\" class=\"dataframe\">\n",
       "  <thead>\n",
       "    <tr style=\"text-align: right;\">\n",
       "      <th></th>\n",
       "      <th>Converted</th>\n",
       "      <th>Converted_Prob</th>\n",
       "      <th>Predicted</th>\n",
       "      <th>0.0</th>\n",
       "      <th>0.1</th>\n",
       "      <th>0.2</th>\n",
       "      <th>0.3</th>\n",
       "      <th>0.4</th>\n",
       "      <th>0.5</th>\n",
       "      <th>0.6</th>\n",
       "      <th>0.7</th>\n",
       "      <th>0.8</th>\n",
       "      <th>0.9</th>\n",
       "    </tr>\n",
       "  </thead>\n",
       "  <tbody>\n",
       "    <tr>\n",
       "      <th>0</th>\n",
       "      <td>0</td>\n",
       "      <td>0.063064</td>\n",
       "      <td>0</td>\n",
       "      <td>1</td>\n",
       "      <td>0</td>\n",
       "      <td>0</td>\n",
       "      <td>0</td>\n",
       "      <td>0</td>\n",
       "      <td>0</td>\n",
       "      <td>0</td>\n",
       "      <td>0</td>\n",
       "      <td>0</td>\n",
       "      <td>0</td>\n",
       "    </tr>\n",
       "    <tr>\n",
       "      <th>1</th>\n",
       "      <td>0</td>\n",
       "      <td>0.030779</td>\n",
       "      <td>0</td>\n",
       "      <td>1</td>\n",
       "      <td>0</td>\n",
       "      <td>0</td>\n",
       "      <td>0</td>\n",
       "      <td>0</td>\n",
       "      <td>0</td>\n",
       "      <td>0</td>\n",
       "      <td>0</td>\n",
       "      <td>0</td>\n",
       "      <td>0</td>\n",
       "    </tr>\n",
       "    <tr>\n",
       "      <th>2</th>\n",
       "      <td>0</td>\n",
       "      <td>0.270147</td>\n",
       "      <td>0</td>\n",
       "      <td>1</td>\n",
       "      <td>1</td>\n",
       "      <td>1</td>\n",
       "      <td>0</td>\n",
       "      <td>0</td>\n",
       "      <td>0</td>\n",
       "      <td>0</td>\n",
       "      <td>0</td>\n",
       "      <td>0</td>\n",
       "      <td>0</td>\n",
       "    </tr>\n",
       "    <tr>\n",
       "      <th>3</th>\n",
       "      <td>0</td>\n",
       "      <td>0.097326</td>\n",
       "      <td>0</td>\n",
       "      <td>1</td>\n",
       "      <td>0</td>\n",
       "      <td>0</td>\n",
       "      <td>0</td>\n",
       "      <td>0</td>\n",
       "      <td>0</td>\n",
       "      <td>0</td>\n",
       "      <td>0</td>\n",
       "      <td>0</td>\n",
       "      <td>0</td>\n",
       "    </tr>\n",
       "    <tr>\n",
       "      <th>4</th>\n",
       "      <td>1</td>\n",
       "      <td>0.562423</td>\n",
       "      <td>1</td>\n",
       "      <td>1</td>\n",
       "      <td>1</td>\n",
       "      <td>1</td>\n",
       "      <td>1</td>\n",
       "      <td>1</td>\n",
       "      <td>1</td>\n",
       "      <td>0</td>\n",
       "      <td>0</td>\n",
       "      <td>0</td>\n",
       "      <td>0</td>\n",
       "    </tr>\n",
       "  </tbody>\n",
       "</table>\n",
       "</div>"
      ],
      "text/plain": [
       "   Converted  Converted_Prob  Predicted  0.0  0.1  0.2  0.3  0.4  0.5  0.6  \\\n",
       "0          0        0.063064          0    1    0    0    0    0    0    0   \n",
       "1          0        0.030779          0    1    0    0    0    0    0    0   \n",
       "2          0        0.270147          0    1    1    1    0    0    0    0   \n",
       "3          0        0.097326          0    1    0    0    0    0    0    0   \n",
       "4          1        0.562423          1    1    1    1    1    1    1    0   \n",
       "\n",
       "   0.7  0.8  0.9  \n",
       "0    0    0    0  \n",
       "1    0    0    0  \n",
       "2    0    0    0  \n",
       "3    0    0    0  \n",
       "4    0    0    0  "
      ]
     },
     "execution_count": 133,
     "metadata": {},
     "output_type": "execute_result"
    }
   ],
   "source": [
    "# Let's create columns with different probability cutoffs \n",
    "numbers = [float(x)/10 for x in range(10)]\n",
    "for i in numbers:\n",
    "    y_train_pred_final[i]= y_train_pred_final.Converted_Prob.map(lambda x: 1 if x > i else 0)\n",
    "y_train_pred_final.head()"
   ]
  },
  {
   "cell_type": "code",
   "execution_count": 134,
   "id": "b5d27c16",
   "metadata": {},
   "outputs": [
    {
     "name": "stdout",
     "output_type": "stream",
     "text": [
      "     prob  accuracy     sensi     speci\n",
      "0.0   0.0  0.381581  1.000000  0.000000\n",
      "0.1   0.1  0.599717  0.967875  0.372554\n",
      "0.2   0.2  0.694798  0.907331  0.563659\n",
      "0.3   0.3  0.783278  0.782537  0.783736\n",
      "0.4   0.4  0.800251  0.731878  0.842440\n",
      "0.5   0.5  0.799623  0.671334  0.878780\n",
      "0.6   0.6  0.777306  0.564662  0.908513\n",
      "0.7   0.7  0.759862  0.466639  0.940788\n",
      "0.8   0.8  0.724972  0.327842  0.970013\n",
      "0.9   0.9  0.695112  0.216639  0.990343\n"
     ]
    }
   ],
   "source": [
    "# Now let's calculate accuracy sensitivity and specificity for various probability cutoffs.\n",
    "cutoff_df = pd.DataFrame( columns = ['prob','accuracy','sensi','speci'])\n",
    "from sklearn.metrics import confusion_matrix\n",
    "\n",
    "# TP = confusion[1,1] # true positive \n",
    "# TN = confusion[0,0] # true negatives\n",
    "# FP = confusion[0,1] # false positives\n",
    "# FN = confusion[1,0] # false negatives\n",
    "\n",
    "num = [0.0,0.1,0.2,0.3,0.4,0.5,0.6,0.7,0.8,0.9]\n",
    "for i in num:\n",
    "    cm1 = metrics.confusion_matrix(y_train_pred_final.Converted, y_train_pred_final[i] )\n",
    "    total1=sum(sum(cm1))\n",
    "    accuracy = (cm1[0,0]+cm1[1,1])/total1\n",
    "    \n",
    "    speci = cm1[0,0]/(cm1[0,0]+cm1[0,1])\n",
    "    sensi = cm1[1,1]/(cm1[1,0]+cm1[1,1])\n",
    "    cutoff_df.loc[i] =[ i ,accuracy,sensi,speci]\n",
    "print(cutoff_df)"
   ]
  },
  {
   "cell_type": "code",
   "execution_count": 135,
   "id": "1f626cc8",
   "metadata": {},
   "outputs": [
    {
     "data": {
      "image/png": "[encoded data removed]",
      "text/plain": [
       "<Figure size 432x288 with 1 Axes>"
      ]
     },
     "metadata": {
      "needs_background": "light"
     },
     "output_type": "display_data"
    }
   ],
   "source": [
    "# Let's plot accuracy sensitivity and specificity for various probabilities.\n",
    "cutoff_df.plot.line(x='prob', y=['accuracy','sensi','speci'])\n",
    "plt.show()"
   ]
  },
  {
   "cell_type": "markdown",
   "id": "d230d6ca",
   "metadata": {},
   "source": [
    "### From the curve above, 0.3 is the optimum point to take it as a cutoff probability."
   ]
  },
  {
   "cell_type": "code",
   "execution_count": 136,
   "id": "e777a5d4",
   "metadata": {},
   "outputs": [
    {
     "data": {
      "text/html": [
       "<div>\n",
       "<style scoped>\n",
       "    .dataframe tbody tr th:only-of-type {\n",
       "        vertical-align: middle;\n",
       "    }\n",
       "\n",
       "    .dataframe tbody tr th {\n",
       "        vertical-align: top;\n",
       "    }\n",
       "\n",
       "    .dataframe thead th {\n",
       "        text-align: right;\n",
       "    }\n",
       "</style>\n",
       "<table border=\"1\" class=\"dataframe\">\n",
       "  <thead>\n",
       "    <tr style=\"text-align: right;\">\n",
       "      <th></th>\n",
       "      <th>Converted</th>\n",
       "      <th>Converted_Prob</th>\n",
       "      <th>Predicted</th>\n",
       "      <th>0.0</th>\n",
       "      <th>0.1</th>\n",
       "      <th>0.2</th>\n",
       "      <th>0.3</th>\n",
       "      <th>0.4</th>\n",
       "      <th>0.5</th>\n",
       "      <th>0.6</th>\n",
       "      <th>0.7</th>\n",
       "      <th>0.8</th>\n",
       "      <th>0.9</th>\n",
       "      <th>final_predicted</th>\n",
       "    </tr>\n",
       "  </thead>\n",
       "  <tbody>\n",
       "    <tr>\n",
       "      <th>0</th>\n",
       "      <td>0</td>\n",
       "      <td>0.063064</td>\n",
       "      <td>0</td>\n",
       "      <td>1</td>\n",
       "      <td>0</td>\n",
       "      <td>0</td>\n",
       "      <td>0</td>\n",
       "      <td>0</td>\n",
       "      <td>0</td>\n",
       "      <td>0</td>\n",
       "      <td>0</td>\n",
       "      <td>0</td>\n",
       "      <td>0</td>\n",
       "      <td>0</td>\n",
       "    </tr>\n",
       "    <tr>\n",
       "      <th>1</th>\n",
       "      <td>0</td>\n",
       "      <td>0.030779</td>\n",
       "      <td>0</td>\n",
       "      <td>1</td>\n",
       "      <td>0</td>\n",
       "      <td>0</td>\n",
       "      <td>0</td>\n",
       "      <td>0</td>\n",
       "      <td>0</td>\n",
       "      <td>0</td>\n",
       "      <td>0</td>\n",
       "      <td>0</td>\n",
       "      <td>0</td>\n",
       "      <td>0</td>\n",
       "    </tr>\n",
       "    <tr>\n",
       "      <th>2</th>\n",
       "      <td>0</td>\n",
       "      <td>0.270147</td>\n",
       "      <td>0</td>\n",
       "      <td>1</td>\n",
       "      <td>1</td>\n",
       "      <td>1</td>\n",
       "      <td>0</td>\n",
       "      <td>0</td>\n",
       "      <td>0</td>\n",
       "      <td>0</td>\n",
       "      <td>0</td>\n",
       "      <td>0</td>\n",
       "      <td>0</td>\n",
       "      <td>0</td>\n",
       "    </tr>\n",
       "    <tr>\n",
       "      <th>3</th>\n",
       "      <td>0</td>\n",
       "      <td>0.097326</td>\n",
       "      <td>0</td>\n",
       "      <td>1</td>\n",
       "      <td>0</td>\n",
       "      <td>0</td>\n",
       "      <td>0</td>\n",
       "      <td>0</td>\n",
       "      <td>0</td>\n",
       "      <td>0</td>\n",
       "      <td>0</td>\n",
       "      <td>0</td>\n",
       "      <td>0</td>\n",
       "      <td>0</td>\n",
       "    </tr>\n",
       "    <tr>\n",
       "      <th>4</th>\n",
       "      <td>1</td>\n",
       "      <td>0.562423</td>\n",
       "      <td>1</td>\n",
       "      <td>1</td>\n",
       "      <td>1</td>\n",
       "      <td>1</td>\n",
       "      <td>1</td>\n",
       "      <td>1</td>\n",
       "      <td>1</td>\n",
       "      <td>0</td>\n",
       "      <td>0</td>\n",
       "      <td>0</td>\n",
       "      <td>0</td>\n",
       "      <td>1</td>\n",
       "    </tr>\n",
       "  </tbody>\n",
       "</table>\n",
       "</div>"
      ],
      "text/plain": [
       "   Converted  Converted_Prob  Predicted  0.0  0.1  0.2  0.3  0.4  0.5  0.6  \\\n",
       "0          0        0.063064          0    1    0    0    0    0    0    0   \n",
       "1          0        0.030779          0    1    0    0    0    0    0    0   \n",
       "2          0        0.270147          0    1    1    1    0    0    0    0   \n",
       "3          0        0.097326          0    1    0    0    0    0    0    0   \n",
       "4          1        0.562423          1    1    1    1    1    1    1    0   \n",
       "\n",
       "   0.7  0.8  0.9  final_predicted  \n",
       "0    0    0    0                0  \n",
       "1    0    0    0                0  \n",
       "2    0    0    0                0  \n",
       "3    0    0    0                0  \n",
       "4    0    0    0                1  "
      ]
     },
     "execution_count": 136,
     "metadata": {},
     "output_type": "execute_result"
    }
   ],
   "source": [
    "y_train_pred_final['final_predicted'] = y_train_pred_final.Converted_Prob.map( lambda x: 1 if x > 0.3 else 0)\n",
    "\n",
    "y_train_pred_final.head()"
   ]
  },
  {
   "cell_type": "code",
   "execution_count": 137,
   "id": "3774bb42",
   "metadata": {},
   "outputs": [
    {
     "data": {
      "text/plain": [
       "0.7832783278327833"
      ]
     },
     "execution_count": 137,
     "metadata": {},
     "output_type": "execute_result"
    }
   ],
   "source": [
    "# Let's check the overall accuracy.\n",
    "metrics.accuracy_score(y_train_pred_final.Converted, y_train_pred_final.final_predicted)"
   ]
  },
  {
   "cell_type": "code",
   "execution_count": 138,
   "id": "56d229e3",
   "metadata": {},
   "outputs": [
    {
     "data": {
      "text/plain": [
       "array([[3084,  851],\n",
       "       [ 528, 1900]], dtype=int64)"
      ]
     },
     "execution_count": 138,
     "metadata": {},
     "output_type": "execute_result"
    }
   ],
   "source": [
    "confusion2 = metrics.confusion_matrix(y_train_pred_final.Converted, y_train_pred_final.final_predicted )\n",
    "confusion2"
   ]
  },
  {
   "cell_type": "code",
   "execution_count": 139,
   "id": "9d20c39f",
   "metadata": {},
   "outputs": [],
   "source": [
    "TP = confusion2[1,1] # true positive \n",
    "TN = confusion2[0,0] # true negatives\n",
    "FP = confusion2[0,1] # false positives\n",
    "FN = confusion2[1,0] # false negatives"
   ]
  },
  {
   "cell_type": "code",
   "execution_count": 140,
   "id": "b015e64a",
   "metadata": {},
   "outputs": [
    {
     "data": {
      "text/plain": [
       "0.7825370675453048"
      ]
     },
     "execution_count": 140,
     "metadata": {},
     "output_type": "execute_result"
    }
   ],
   "source": [
    "# Let's see the sensitivity of our logistic regression model\n",
    "TP / float(TP+FN)"
   ]
  },
  {
   "cell_type": "code",
   "execution_count": 141,
   "id": "b0687744",
   "metadata": {},
   "outputs": [
    {
     "data": {
      "text/plain": [
       "0.783735705209657"
      ]
     },
     "execution_count": 141,
     "metadata": {},
     "output_type": "execute_result"
    }
   ],
   "source": [
    "# Let us calculate specificity\n",
    "TN / float(TN+FP)"
   ]
  },
  {
   "cell_type": "code",
   "execution_count": 142,
   "id": "d461f80b",
   "metadata": {},
   "outputs": [
    {
     "name": "stdout",
     "output_type": "stream",
     "text": [
      "0.21626429479034306\n"
     ]
    }
   ],
   "source": [
    "# Calculate false postive rate - predicting churn when customer does not have churned\n",
    "print(FP/ float(TN+FP))"
   ]
  },
  {
   "cell_type": "code",
   "execution_count": 143,
   "id": "56a8ba3f",
   "metadata": {},
   "outputs": [
    {
     "name": "stdout",
     "output_type": "stream",
     "text": [
      "0.6906579425663395\n"
     ]
    }
   ],
   "source": [
    "# Positive predictive value \n",
    "print (TP / float(TP+FP))"
   ]
  },
  {
   "cell_type": "code",
   "execution_count": 144,
   "id": "496861ed",
   "metadata": {},
   "outputs": [
    {
     "name": "stdout",
     "output_type": "stream",
     "text": [
      "0.8538205980066446\n"
     ]
    }
   ],
   "source": [
    "# Negative predictive value\n",
    "print (TN / float(TN+ FN))"
   ]
  },
  {
   "cell_type": "markdown",
   "id": "370366ee",
   "metadata": {},
   "source": [
    "# Precision and Recall"
   ]
  },
  {
   "cell_type": "code",
   "execution_count": 145,
   "id": "ce7884ae",
   "metadata": {},
   "outputs": [],
   "source": [
    "#Looking at the confusion matrix again"
   ]
  },
  {
   "cell_type": "code",
   "execution_count": 146,
   "id": "e2936250",
   "metadata": {},
   "outputs": [
    {
     "data": {
      "text/plain": [
       "array([[3458,  477],\n",
       "       [ 798, 1630]], dtype=int64)"
      ]
     },
     "execution_count": 146,
     "metadata": {},
     "output_type": "execute_result"
    }
   ],
   "source": [
    "confusion = metrics.confusion_matrix(y_train_pred_final.Converted, y_train_pred_final.Predicted )\n",
    "confusion"
   ]
  },
  {
   "cell_type": "markdown",
   "id": "6af3f3db",
   "metadata": {},
   "source": [
    "## Precision\n",
    "### TP / TP + FP"
   ]
  },
  {
   "cell_type": "code",
   "execution_count": 147,
   "id": "5b9c978f",
   "metadata": {},
   "outputs": [
    {
     "data": {
      "text/plain": [
       "0.7736117702895111"
      ]
     },
     "execution_count": 147,
     "metadata": {},
     "output_type": "execute_result"
    }
   ],
   "source": [
    "precision=confusion[1,1]/(confusion[0,1]+confusion[1,1])\n",
    "precision"
   ]
  },
  {
   "cell_type": "code",
   "execution_count": 148,
   "id": "700130a8",
   "metadata": {},
   "outputs": [
    {
     "data": {
      "text/plain": [
       "0.671334431630972"
      ]
     },
     "execution_count": 148,
     "metadata": {},
     "output_type": "execute_result"
    }
   ],
   "source": [
    "## Recall\n",
    "#TP / TP + FN\n",
    "Recall=confusion[1,1]/(confusion[1,0]+confusion[1,1])\n",
    "Recall"
   ]
  },
  {
   "cell_type": "code",
   "execution_count": 149,
   "id": "4f38082a",
   "metadata": {},
   "outputs": [
    {
     "data": {
      "text/plain": [
       "0.7188533627342888"
      ]
     },
     "execution_count": 149,
     "metadata": {},
     "output_type": "execute_result"
    }
   ],
   "source": [
    "#f1 score \n",
    "F1_score=2*(precision*Recall)/(precision+Recall)\n",
    "F1_score"
   ]
  },
  {
   "cell_type": "code",
   "execution_count": 150,
   "id": "354d25da",
   "metadata": {},
   "outputs": [],
   "source": [
    "#Using sklearn utilities for the same\n",
    "from sklearn.metrics import precision_score, recall_score"
   ]
  },
  {
   "cell_type": "code",
   "execution_count": 151,
   "id": "21226046",
   "metadata": {},
   "outputs": [
    {
     "data": {
      "text/plain": [
       "0.7736117702895111"
      ]
     },
     "execution_count": 151,
     "metadata": {},
     "output_type": "execute_result"
    }
   ],
   "source": [
    "precision_score(y_train_pred_final.Converted, y_train_pred_final.Predicted)"
   ]
  },
  {
   "cell_type": "code",
   "execution_count": 152,
   "id": "7810d561",
   "metadata": {},
   "outputs": [],
   "source": [
    "#Precision and recall tradeoff"
   ]
  },
  {
   "cell_type": "code",
   "execution_count": 153,
   "id": "470832d6",
   "metadata": {},
   "outputs": [],
   "source": [
    "from sklearn.metrics import precision_recall_curve"
   ]
  },
  {
   "cell_type": "code",
   "execution_count": 154,
   "id": "4e922b37",
   "metadata": {},
   "outputs": [
    {
     "data": {
      "text/plain": [
       "(0       0\n",
       " 1       0\n",
       " 2       0\n",
       " 3       0\n",
       " 4       1\n",
       "        ..\n",
       " 6358    0\n",
       " 6359    1\n",
       " 6360    1\n",
       " 6361    1\n",
       " 6362    0\n",
       " Name: Converted, Length: 6363, dtype: int64,\n",
       " 0       0\n",
       " 1       0\n",
       " 2       0\n",
       " 3       0\n",
       " 4       1\n",
       "        ..\n",
       " 6358    0\n",
       " 6359    1\n",
       " 6360    1\n",
       " 6361    1\n",
       " 6362    0\n",
       " Name: Predicted, Length: 6363, dtype: int64)"
      ]
     },
     "execution_count": 154,
     "metadata": {},
     "output_type": "execute_result"
    }
   ],
   "source": [
    "y_train_pred_final.Converted, y_train_pred_final.Predicted"
   ]
  },
  {
   "cell_type": "code",
   "execution_count": 155,
   "id": "e134f455",
   "metadata": {},
   "outputs": [],
   "source": [
    "p, r, thresholds = precision_recall_curve(y_train_pred_final.Converted, y_train_pred_final.Converted_Prob)"
   ]
  },
  {
   "cell_type": "code",
   "execution_count": 156,
   "id": "f0e49c82",
   "metadata": {},
   "outputs": [
    {
     "data": {
      "image/png": "[encoded data removed]",
      "text/plain": [
       "<Figure size 432x288 with 1 Axes>"
      ]
     },
     "metadata": {
      "needs_background": "light"
     },
     "output_type": "display_data"
    }
   ],
   "source": [
    "plt.plot(thresholds, p[:-1], \"g-\")\n",
    "plt.plot(thresholds, r[:-1], \"r-\")\n",
    "plt.show()"
   ]
  },
  {
   "cell_type": "markdown",
   "id": "60e85398",
   "metadata": {},
   "source": [
    "# Making predictions on the test set"
   ]
  },
  {
   "cell_type": "code",
   "execution_count": 157,
   "id": "fddedb2d",
   "metadata": {},
   "outputs": [],
   "source": [
    "X_test[['TotalVisits','Total Time Spent on Website','Page Views Per Visit']] = scaler.transform(X_test[['TotalVisits','Total Time Spent on Website','Page Views Per Visit']])"
   ]
  },
  {
   "cell_type": "code",
   "execution_count": 158,
   "id": "d6d501d1",
   "metadata": {},
   "outputs": [
    {
     "data": {
      "text/html": [
       "<div>\n",
       "<style scoped>\n",
       "    .dataframe tbody tr th:only-of-type {\n",
       "        vertical-align: middle;\n",
       "    }\n",
       "\n",
       "    .dataframe tbody tr th {\n",
       "        vertical-align: top;\n",
       "    }\n",
       "\n",
       "    .dataframe thead th {\n",
       "        text-align: right;\n",
       "    }\n",
       "</style>\n",
       "<table border=\"1\" class=\"dataframe\">\n",
       "  <thead>\n",
       "    <tr style=\"text-align: right;\">\n",
       "      <th></th>\n",
       "      <th>Lead_Origin_Landing Page Submission</th>\n",
       "      <th>Lead_Origin_Lead Add Form</th>\n",
       "      <th>Lead_source_Facebook</th>\n",
       "      <th>Lead_source_Welingak Website</th>\n",
       "      <th>Specialization_Not Specified</th>\n",
       "      <th>Country_Unknown</th>\n",
       "      <th>Current_Occu_Others</th>\n",
       "      <th>Choosing_Course_Better Career Prospects</th>\n",
       "      <th>Do Not Email</th>\n",
       "      <th>Total Time Spent on Website</th>\n",
       "    </tr>\n",
       "  </thead>\n",
       "  <tbody>\n",
       "    <tr>\n",
       "      <th>6906</th>\n",
       "      <td>1</td>\n",
       "      <td>0</td>\n",
       "      <td>0</td>\n",
       "      <td>0</td>\n",
       "      <td>0</td>\n",
       "      <td>0</td>\n",
       "      <td>0</td>\n",
       "      <td>1</td>\n",
       "      <td>0</td>\n",
       "      <td>1.919395</td>\n",
       "    </tr>\n",
       "    <tr>\n",
       "      <th>1873</th>\n",
       "      <td>1</td>\n",
       "      <td>0</td>\n",
       "      <td>0</td>\n",
       "      <td>0</td>\n",
       "      <td>1</td>\n",
       "      <td>0</td>\n",
       "      <td>0</td>\n",
       "      <td>1</td>\n",
       "      <td>0</td>\n",
       "      <td>-0.546142</td>\n",
       "    </tr>\n",
       "    <tr>\n",
       "      <th>771</th>\n",
       "      <td>0</td>\n",
       "      <td>0</td>\n",
       "      <td>0</td>\n",
       "      <td>0</td>\n",
       "      <td>1</td>\n",
       "      <td>0</td>\n",
       "      <td>0</td>\n",
       "      <td>1</td>\n",
       "      <td>0</td>\n",
       "      <td>-0.797465</td>\n",
       "    </tr>\n",
       "    <tr>\n",
       "      <th>4495</th>\n",
       "      <td>1</td>\n",
       "      <td>0</td>\n",
       "      <td>0</td>\n",
       "      <td>0</td>\n",
       "      <td>0</td>\n",
       "      <td>0</td>\n",
       "      <td>0</td>\n",
       "      <td>1</td>\n",
       "      <td>0</td>\n",
       "      <td>-0.623190</td>\n",
       "    </tr>\n",
       "    <tr>\n",
       "      <th>9061</th>\n",
       "      <td>1</td>\n",
       "      <td>0</td>\n",
       "      <td>0</td>\n",
       "      <td>0</td>\n",
       "      <td>0</td>\n",
       "      <td>0</td>\n",
       "      <td>1</td>\n",
       "      <td>0</td>\n",
       "      <td>0</td>\n",
       "      <td>2.392690</td>\n",
       "    </tr>\n",
       "  </tbody>\n",
       "</table>\n",
       "</div>"
      ],
      "text/plain": [
       "      Lead_Origin_Landing Page Submission  Lead_Origin_Lead Add Form  \\\n",
       "6906                                    1                          0   \n",
       "1873                                    1                          0   \n",
       "771                                     0                          0   \n",
       "4495                                    1                          0   \n",
       "9061                                    1                          0   \n",
       "\n",
       "      Lead_source_Facebook  Lead_source_Welingak Website  \\\n",
       "6906                     0                             0   \n",
       "1873                     0                             0   \n",
       "771                      0                             0   \n",
       "4495                     0                             0   \n",
       "9061                     0                             0   \n",
       "\n",
       "      Specialization_Not Specified  Country_Unknown  Current_Occu_Others  \\\n",
       "6906                             0                0                    0   \n",
       "1873                             1                0                    0   \n",
       "771                              1                0                    0   \n",
       "4495                             0                0                    0   \n",
       "9061                             0                0                    1   \n",
       "\n",
       "      Choosing_Course_Better Career Prospects  Do Not Email  \\\n",
       "6906                                        1             0   \n",
       "1873                                        1             0   \n",
       "771                                         1             0   \n",
       "4495                                        1             0   \n",
       "9061                                        0             0   \n",
       "\n",
       "      Total Time Spent on Website  \n",
       "6906                     1.919395  \n",
       "1873                    -0.546142  \n",
       "771                     -0.797465  \n",
       "4495                    -0.623190  \n",
       "9061                     2.392690  "
      ]
     },
     "execution_count": 158,
     "metadata": {},
     "output_type": "execute_result"
    }
   ],
   "source": [
    "X_test = X_test[col]\n",
    "X_test.head()"
   ]
  },
  {
   "cell_type": "code",
   "execution_count": 159,
   "id": "16969170",
   "metadata": {},
   "outputs": [],
   "source": [
    "X_test_sm = sm.add_constant(X_test)"
   ]
  },
  {
   "cell_type": "code",
   "execution_count": 160,
   "id": "677cab14",
   "metadata": {},
   "outputs": [],
   "source": [
    "#Making predictions on the test set"
   ]
  },
  {
   "cell_type": "code",
   "execution_count": 161,
   "id": "a1f745cc",
   "metadata": {},
   "outputs": [],
   "source": [
    "y_test_pred = res.predict(X_test_sm)"
   ]
  },
  {
   "cell_type": "code",
   "execution_count": 162,
   "id": "76c17fbe",
   "metadata": {},
   "outputs": [
    {
     "data": {
      "text/plain": [
       "6906    0.795167\n",
       "1873    0.089888\n",
       "771     0.138317\n",
       "4495    0.198749\n",
       "9061    0.645737\n",
       "4929    0.631060\n",
       "2308    0.097655\n",
       "1034    0.130245\n",
       "9033    0.169300\n",
       "7008    0.817757\n",
       "dtype: float64"
      ]
     },
     "execution_count": 162,
     "metadata": {},
     "output_type": "execute_result"
    }
   ],
   "source": [
    "y_test_pred[:10]"
   ]
  },
  {
   "cell_type": "code",
   "execution_count": 163,
   "id": "6c0634c7",
   "metadata": {},
   "outputs": [],
   "source": [
    "# Converting y_pred to a dataframe which is an array\n",
    "y_pred_1 = pd.DataFrame(y_test_pred)"
   ]
  },
  {
   "cell_type": "code",
   "execution_count": 164,
   "id": "7d00bbdd",
   "metadata": {},
   "outputs": [
    {
     "data": {
      "text/html": [
       "<div>\n",
       "<style scoped>\n",
       "    .dataframe tbody tr th:only-of-type {\n",
       "        vertical-align: middle;\n",
       "    }\n",
       "\n",
       "    .dataframe tbody tr th {\n",
       "        vertical-align: top;\n",
       "    }\n",
       "\n",
       "    .dataframe thead th {\n",
       "        text-align: right;\n",
       "    }\n",
       "</style>\n",
       "<table border=\"1\" class=\"dataframe\">\n",
       "  <thead>\n",
       "    <tr style=\"text-align: right;\">\n",
       "      <th></th>\n",
       "      <th>0</th>\n",
       "    </tr>\n",
       "  </thead>\n",
       "  <tbody>\n",
       "    <tr>\n",
       "      <th>6906</th>\n",
       "      <td>0.795167</td>\n",
       "    </tr>\n",
       "    <tr>\n",
       "      <th>1873</th>\n",
       "      <td>0.089888</td>\n",
       "    </tr>\n",
       "    <tr>\n",
       "      <th>771</th>\n",
       "      <td>0.138317</td>\n",
       "    </tr>\n",
       "    <tr>\n",
       "      <th>4495</th>\n",
       "      <td>0.198749</td>\n",
       "    </tr>\n",
       "    <tr>\n",
       "      <th>9061</th>\n",
       "      <td>0.645737</td>\n",
       "    </tr>\n",
       "  </tbody>\n",
       "</table>\n",
       "</div>"
      ],
      "text/plain": [
       "             0\n",
       "6906  0.795167\n",
       "1873  0.089888\n",
       "771   0.138317\n",
       "4495  0.198749\n",
       "9061  0.645737"
      ]
     },
     "execution_count": 164,
     "metadata": {},
     "output_type": "execute_result"
    }
   ],
   "source": [
    "# Let's see the head\n",
    "y_pred_1.head()"
   ]
  },
  {
   "cell_type": "code",
   "execution_count": 165,
   "id": "c5fe4082",
   "metadata": {},
   "outputs": [],
   "source": [
    "# Converting y_test to dataframe\n",
    "y_test_df = pd.DataFrame(y_test)"
   ]
  },
  {
   "cell_type": "code",
   "execution_count": 166,
   "id": "a7454acc",
   "metadata": {},
   "outputs": [],
   "source": [
    "y_pred_1.reset_index(drop=True, inplace=True)\n",
    "y_test_df.reset_index(drop=True, inplace=True)"
   ]
  },
  {
   "cell_type": "code",
   "execution_count": 167,
   "id": "3ccf8fcc",
   "metadata": {},
   "outputs": [],
   "source": [
    "y_pred_final = pd.concat([y_test_df, y_pred_1],axis=1)"
   ]
  },
  {
   "cell_type": "code",
   "execution_count": 168,
   "id": "d195ecc0",
   "metadata": {},
   "outputs": [
    {
     "data": {
      "text/html": [
       "<div>\n",
       "<style scoped>\n",
       "    .dataframe tbody tr th:only-of-type {\n",
       "        vertical-align: middle;\n",
       "    }\n",
       "\n",
       "    .dataframe tbody tr th {\n",
       "        vertical-align: top;\n",
       "    }\n",
       "\n",
       "    .dataframe thead th {\n",
       "        text-align: right;\n",
       "    }\n",
       "</style>\n",
       "<table border=\"1\" class=\"dataframe\">\n",
       "  <thead>\n",
       "    <tr style=\"text-align: right;\">\n",
       "      <th></th>\n",
       "      <th>Converted</th>\n",
       "      <th>0</th>\n",
       "    </tr>\n",
       "  </thead>\n",
       "  <tbody>\n",
       "    <tr>\n",
       "      <th>0</th>\n",
       "      <td>1</td>\n",
       "      <td>0.795167</td>\n",
       "    </tr>\n",
       "    <tr>\n",
       "      <th>1</th>\n",
       "      <td>0</td>\n",
       "      <td>0.089888</td>\n",
       "    </tr>\n",
       "    <tr>\n",
       "      <th>2</th>\n",
       "      <td>0</td>\n",
       "      <td>0.138317</td>\n",
       "    </tr>\n",
       "    <tr>\n",
       "      <th>3</th>\n",
       "      <td>0</td>\n",
       "      <td>0.198749</td>\n",
       "    </tr>\n",
       "    <tr>\n",
       "      <th>4</th>\n",
       "      <td>1</td>\n",
       "      <td>0.645737</td>\n",
       "    </tr>\n",
       "  </tbody>\n",
       "</table>\n",
       "</div>"
      ],
      "text/plain": [
       "   Converted         0\n",
       "0          1  0.795167\n",
       "1          0  0.089888\n",
       "2          0  0.138317\n",
       "3          0  0.198749\n",
       "4          1  0.645737"
      ]
     },
     "execution_count": 168,
     "metadata": {},
     "output_type": "execute_result"
    }
   ],
   "source": [
    "y_pred_final.head()"
   ]
  },
  {
   "cell_type": "code",
   "execution_count": 169,
   "id": "2038ce2a",
   "metadata": {},
   "outputs": [],
   "source": [
    "# Renaming the column \n",
    "y_pred_final= y_pred_final.rename(columns={ 0 : 'Converted_Prob'})"
   ]
  },
  {
   "cell_type": "code",
   "execution_count": 170,
   "id": "8737ac0a",
   "metadata": {},
   "outputs": [
    {
     "data": {
      "text/html": [
       "<div>\n",
       "<style scoped>\n",
       "    .dataframe tbody tr th:only-of-type {\n",
       "        vertical-align: middle;\n",
       "    }\n",
       "\n",
       "    .dataframe tbody tr th {\n",
       "        vertical-align: top;\n",
       "    }\n",
       "\n",
       "    .dataframe thead th {\n",
       "        text-align: right;\n",
       "    }\n",
       "</style>\n",
       "<table border=\"1\" class=\"dataframe\">\n",
       "  <thead>\n",
       "    <tr style=\"text-align: right;\">\n",
       "      <th></th>\n",
       "      <th>Converted</th>\n",
       "      <th>Converted_Prob</th>\n",
       "    </tr>\n",
       "  </thead>\n",
       "  <tbody>\n",
       "    <tr>\n",
       "      <th>0</th>\n",
       "      <td>1</td>\n",
       "      <td>0.795167</td>\n",
       "    </tr>\n",
       "    <tr>\n",
       "      <th>1</th>\n",
       "      <td>0</td>\n",
       "      <td>0.089888</td>\n",
       "    </tr>\n",
       "    <tr>\n",
       "      <th>2</th>\n",
       "      <td>0</td>\n",
       "      <td>0.138317</td>\n",
       "    </tr>\n",
       "    <tr>\n",
       "      <th>3</th>\n",
       "      <td>0</td>\n",
       "      <td>0.198749</td>\n",
       "    </tr>\n",
       "    <tr>\n",
       "      <th>4</th>\n",
       "      <td>1</td>\n",
       "      <td>0.645737</td>\n",
       "    </tr>\n",
       "  </tbody>\n",
       "</table>\n",
       "</div>"
      ],
      "text/plain": [
       "   Converted  Converted_Prob\n",
       "0          1        0.795167\n",
       "1          0        0.089888\n",
       "2          0        0.138317\n",
       "3          0        0.198749\n",
       "4          1        0.645737"
      ]
     },
     "execution_count": 170,
     "metadata": {},
     "output_type": "execute_result"
    }
   ],
   "source": [
    "y_pred_final.head()"
   ]
  },
  {
   "cell_type": "code",
   "execution_count": 171,
   "id": "80241e3b",
   "metadata": {},
   "outputs": [],
   "source": [
    "y_pred_final['final_predicted'] = y_pred_final.Converted_Prob.map(lambda x: 1 if x > 0.42 else 0)"
   ]
  },
  {
   "cell_type": "code",
   "execution_count": 172,
   "id": "035cc606",
   "metadata": {},
   "outputs": [
    {
     "data": {
      "text/html": [
       "<div>\n",
       "<style scoped>\n",
       "    .dataframe tbody tr th:only-of-type {\n",
       "        vertical-align: middle;\n",
       "    }\n",
       "\n",
       "    .dataframe tbody tr th {\n",
       "        vertical-align: top;\n",
       "    }\n",
       "\n",
       "    .dataframe thead th {\n",
       "        text-align: right;\n",
       "    }\n",
       "</style>\n",
       "<table border=\"1\" class=\"dataframe\">\n",
       "  <thead>\n",
       "    <tr style=\"text-align: right;\">\n",
       "      <th></th>\n",
       "      <th>Converted</th>\n",
       "      <th>Converted_Prob</th>\n",
       "      <th>final_predicted</th>\n",
       "    </tr>\n",
       "  </thead>\n",
       "  <tbody>\n",
       "    <tr>\n",
       "      <th>0</th>\n",
       "      <td>1</td>\n",
       "      <td>0.795167</td>\n",
       "      <td>1</td>\n",
       "    </tr>\n",
       "    <tr>\n",
       "      <th>1</th>\n",
       "      <td>0</td>\n",
       "      <td>0.089888</td>\n",
       "      <td>0</td>\n",
       "    </tr>\n",
       "    <tr>\n",
       "      <th>2</th>\n",
       "      <td>0</td>\n",
       "      <td>0.138317</td>\n",
       "      <td>0</td>\n",
       "    </tr>\n",
       "    <tr>\n",
       "      <th>3</th>\n",
       "      <td>0</td>\n",
       "      <td>0.198749</td>\n",
       "      <td>0</td>\n",
       "    </tr>\n",
       "    <tr>\n",
       "      <th>4</th>\n",
       "      <td>1</td>\n",
       "      <td>0.645737</td>\n",
       "      <td>1</td>\n",
       "    </tr>\n",
       "  </tbody>\n",
       "</table>\n",
       "</div>"
      ],
      "text/plain": [
       "   Converted  Converted_Prob  final_predicted\n",
       "0          1        0.795167                1\n",
       "1          0        0.089888                0\n",
       "2          0        0.138317                0\n",
       "3          0        0.198749                0\n",
       "4          1        0.645737                1"
      ]
     },
     "execution_count": 172,
     "metadata": {},
     "output_type": "execute_result"
    }
   ],
   "source": [
    "y_pred_final.head()"
   ]
  },
  {
   "cell_type": "code",
   "execution_count": 173,
   "id": "8154b011",
   "metadata": {},
   "outputs": [
    {
     "data": {
      "text/plain": [
       "0.7964796479647965"
      ]
     },
     "execution_count": 173,
     "metadata": {},
     "output_type": "execute_result"
    }
   ],
   "source": [
    "# Let's check the overall accuracy.\n",
    "metrics.accuracy_score(y_pred_final.Converted, y_pred_final.final_predicted)"
   ]
  },
  {
   "cell_type": "code",
   "execution_count": 174,
   "id": "c6de2768",
   "metadata": {},
   "outputs": [
    {
     "data": {
      "text/plain": [
       "array([[1409,  251],\n",
       "       [ 304,  763]], dtype=int64)"
      ]
     },
     "execution_count": 174,
     "metadata": {},
     "output_type": "execute_result"
    }
   ],
   "source": [
    "confusion2 = metrics.confusion_matrix(y_pred_final.Converted, y_pred_final.final_predicted )\n",
    "confusion2"
   ]
  },
  {
   "cell_type": "code",
   "execution_count": 175,
   "id": "41cb9272",
   "metadata": {},
   "outputs": [],
   "source": [
    "TP = confusion2[1,1] # true positive \n",
    "TN = confusion2[0,0] # true negatives\n",
    "FP = confusion2[0,1] # false positives\n",
    "FN = confusion2[1,0] # false negatives"
   ]
  },
  {
   "cell_type": "code",
   "execution_count": 176,
   "id": "447e84a9",
   "metadata": {},
   "outputs": [
    {
     "data": {
      "text/plain": [
       "0.7150890346766635"
      ]
     },
     "execution_count": 176,
     "metadata": {},
     "output_type": "execute_result"
    }
   ],
   "source": [
    "# Let's see the sensitivity of our logistic regression model\n",
    "TP / float(TP+FN)"
   ]
  },
  {
   "cell_type": "code",
   "execution_count": 177,
   "id": "4d7471f0",
   "metadata": {},
   "outputs": [
    {
     "data": {
      "text/plain": [
       "0.8487951807228916"
      ]
     },
     "execution_count": 177,
     "metadata": {},
     "output_type": "execute_result"
    }
   ],
   "source": [
    "# Let us calculate specificity\n",
    "TN / float(TN+FP)"
   ]
  },
  {
   "cell_type": "code",
   "execution_count": 178,
   "id": "251b2751",
   "metadata": {},
   "outputs": [
    {
     "data": {
      "text/plain": [
       "0.752465483234714"
      ]
     },
     "execution_count": 178,
     "metadata": {},
     "output_type": "execute_result"
    }
   ],
   "source": [
    "##precision=TP / TP + FP\n",
    "precision1=TP /float(TP + FP)\n",
    "precision1"
   ]
  },
  {
   "cell_type": "code",
   "execution_count": 179,
   "id": "c5fc79c6",
   "metadata": {},
   "outputs": [
    {
     "data": {
      "text/plain": [
       "0.7150890346766635"
      ]
     },
     "execution_count": 179,
     "metadata": {},
     "output_type": "execute_result"
    }
   ],
   "source": [
    "## Recall\n",
    "#TP / TP + FN\n",
    "Recall1 = TP / float(TP + FN)\n",
    "Recall1"
   ]
  },
  {
   "cell_type": "code",
   "execution_count": 180,
   "id": "c1949a51",
   "metadata": {},
   "outputs": [
    {
     "data": {
      "text/plain": [
       "0.7333012974531474"
      ]
     },
     "execution_count": 180,
     "metadata": {},
     "output_type": "execute_result"
    }
   ],
   "source": [
    "F1_score1=2*(precision1*Recall1)/(precision1+Recall1)\n",
    "F1_score1"
   ]
  },
  {
   "cell_type": "markdown",
   "id": "45a15c56",
   "metadata": {},
   "source": [
    "Let us compare the values obtained for Train & Test:\n",
    "\n",
    "\n",
    "Train - Accuracy : 78.32%    Sensitivity : 70.13%    Specificity : 83.26%\n",
    "Test  - Accuracy : 79.64%    Sensitivity : 71.50%    Specificity : 84.87%\n",
    "\n",
    "\n",
    "\n",
    "The Model seems to predict the Conversion Rate very well and we should be able to give the CEO confidence in making good    calls based on this model"
   ]
  },
  {
   "cell_type": "code",
   "execution_count": null,
   "id": "06705cc7",
   "metadata": {},
   "outputs": [],
   "source": []
  },
  {
   "cell_type": "code",
   "execution_count": null,
   "id": "4a22e45d",
   "metadata": {},
   "outputs": [],
   "source": []
  }
 ],
 "metadata": {
  "kernelspec": {
   "display_name": "Python 3 (ipykernel)",
   "language": "python",
   "name": "python3"
  },
  "language_info": {
   "codemirror_mode": {
    "name": "ipython",
    "version": 3
   },
   "file_extension": ".py",
   "mimetype": "text/x-python",
   "name": "python",
   "nbconvert_exporter": "python",
   "pygments_lexer": "ipython3",
   "version": "3.9.7"
  }
 },
 "nbformat": 4,
 "nbformat_minor": 5
}
